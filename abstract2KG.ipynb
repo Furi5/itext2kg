{
 "cells": [
  {
   "cell_type": "code",
   "execution_count": 1,
   "metadata": {},
   "outputs": [
    {
     "name": "stderr",
     "output_type": "stream",
     "text": [
      "/home/jovyan/miniconda3/envs/kg/lib/python3.10/site-packages/pydantic/_internal/_generate_schema.py:502: UserWarning: <built-in function array> is not a Python type (it may be an instance of an object), Pydantic will allow any object with no validation since we cannot even enforce that the input is an instance of the given type. To get rid of this error wrap the type with `pydantic.SkipValidation`.\n",
      "  warn(\n"
     ]
    }
   ],
   "source": [
    "%load_ext autoreload\n",
    "%autoreload 2\n",
    "import sys\n",
    "sys.path.append(\"..\")\n",
    "\n",
    "import json\n",
    "import pickle\n",
    "import logging\n",
    "\n",
    "import pandas as pd\n",
    "import numpy as np\n",
    "\n",
    "from itext2kg import iText2KG\n",
    "from itext2kg.utils import PubtatorProcessor\n",
    "from langchain_ollama import ChatOllama, OllamaEmbeddings\n",
    "from itext2kg.graph_integration import GraphIntegrator"
   ]
  },
  {
   "cell_type": "code",
   "execution_count": 2,
   "metadata": {},
   "outputs": [],
   "source": [
    "logging.basicConfig(level=logging.INFO, format='%(asctime)s - %(levelname)s - %(message)s')"
   ]
  },
  {
   "cell_type": "code",
   "execution_count": 3,
   "metadata": {},
   "outputs": [],
   "source": [
    "URI = \"neo4j+s://435eb4f0.databases.neo4j.io\"\n",
    "USERNAME = \"neo4j\"\n",
    "PASSWORD = \"nqL3At3rptFpfRrBhg5Y1-7k78oHqVaW42WKtqVRnJo\"\n",
    "\n",
    "llm = ChatOllama(\n",
    "    model=\"deepseek-r1:32b\",\n",
    "    temperature=0,\n",
    ")\n",
    "\n",
    "embeddings = OllamaEmbeddings(\n",
    "    model=\"nomic-embed-text:latest\",\n",
    ")"
   ]
  },
  {
   "cell_type": "code",
   "execution_count": 4,
   "metadata": {},
   "outputs": [],
   "source": [
    "df1 = pd.read_csv(\"/home/jovyan/my_code/RAG/AD_pmid_results.csv\")\n",
    "pmid_list = list(df1['pmid'].astype(str))\n",
    "pmid_list = pmid_list[:10]  \n",
    "PUTATOR_PATH = \"/home/jovyan/my_code/RAG/Data_v2/AD_pubtabor/\"\n",
    "JSON_PATH = \"/home/jovyan/my_code/itext2kg/output_kg/AD\"\n",
    "OUTPUT_PATH = JSON_PATH"
   ]
  },
  {
   "cell_type": "code",
   "execution_count": 5,
   "metadata": {},
   "outputs": [
    {
     "data": {
      "text/plain": [
       "['39652311',\n",
       " '39890535',\n",
       " '39855320',\n",
       " '39589570',\n",
       " '39604278',\n",
       " '39596657',\n",
       " '39568323',\n",
       " '39657091',\n",
       " '39276711',\n",
       " '39431763']"
      ]
     },
     "execution_count": 5,
     "metadata": {},
     "output_type": "execute_result"
    }
   ],
   "source": [
    "pmid_list"
   ]
  },
  {
   "cell_type": "code",
   "execution_count": 6,
   "metadata": {},
   "outputs": [],
   "source": [
    "PMID = pmid_list[1]  # 这个 PMID 提取出来全是散的节点，没有的关系，重新跑一下，看看问题在哪里了"
   ]
  },
  {
   "cell_type": "code",
   "execution_count": 7,
   "metadata": {},
   "outputs": [],
   "source": [
    "with open(f\"{PUTATOR_PATH}{PMID}.txt\", \"r\") as f:\n",
    "    text = f.readlines()"
   ]
  },
  {
   "cell_type": "code",
   "execution_count": 8,
   "metadata": {},
   "outputs": [
    {
     "data": {
      "text/plain": [
       "[\"39890535|t|The associations between fresh vegetable and fruit consumption and plasma and PET biomarkers in preclinical Alzheimer's disease: A cross-sectional and longitudinal study of Chinese population.\\n\",\n",
       " \"39890535|a|BACKGROUND: The identification of the modifiable lifestyle factors including dietary habits in older adults of preclinical Alzheimer's disease (AD) and early effective interventions are of great importance. OBJECTIVES: We studied whether the consumption of fresh vegetables and fruits was different between cognitively unimpaired (CU) and cognitively impaired (CI) population and mainly investigated the associations between vegetable and fruit consumption and PET and plasma AD biomarkers in older CU adults with higher beta-amyloid (Abeta) burden. DESIGN, SETTING, AND PARTICIPANTS: Older adults with the age of 50-85 years were enrolled for a cross-sectional and longitudinal study. The groups depended on whether the participants were CU or CI. Partial participants whose habits remained unchanged were followed up. MEASUREMENTS: The consumption data of vegetables and fruits were collected using a validated self-reported questionnaire. We mainly investigated the associations between vegetable and fruit consumption and various biomarkers in CU participants with positive 18F-florbetapir PET scan (Abeta-PET), part of whom also underwent plasma AD biomarkers tests and 18F-MK6240 PET scan (tau-PET). Correlation and multiple linear regression analyses were used to investigate the associations between vegetable and fruit consumption and AD biomarkers. RESULTS: A total of 1433 participants were enrolled, of which CU accounted for 49.4 %. Most of the intake habits of vegetables and fruits was different between CU and CI participants. 177 CU participants with Abeta-PET positive were selected for the following study. Multiple linear regression analysis showed higher consumption of fresh vegetables (>200 g/d), dark vegetables (>100 g/d, >=2d/week), fruits (>100 g/d), berries (>100 g/d) and grapes (>100 g/d) more or less had associations with the plasma biomarkers including Abeta40, t-Tau, p-Tau-181 and neurofilament light chain as well as amyloid and Tau PET biomarkers. Most of the habits were associated with the change of cognitive function after an approximately two-year follow-up. Especially, higher intakes of fruits and grapes correlated with both lower Abeta and Tau burden and inversely with cognitive decline after follow-up. CONCLUSION: Our data indicates that higher consumption of vegetables, dark vegetables, fruits, berries and grapes is associated with amyloid and Tau PET and plasma biomarkers in preclinical AD participants and the changes of cognitive function after follow-up. Higher intakes of fruits (>100 g/d) and grapes (>100 g/d) may be more helpful for reducing the risk of AD development.\\n\",\n",
       " \"39890535\\t108\\t127\\tAlzheimer's disease\\tDisease\\tMESH:D000544\\n\",\n",
       " \"39890535\\t316\\t335\\tAlzheimer's disease\\tDisease\\tMESH:D000544\\n\",\n",
       " '39890535\\t337\\t339\\tAD\\tDisease\\tMESH:D000544\\n',\n",
       " '39890535\\t532\\t552\\tcognitively impaired\\tDisease\\tMESH:D003072\\n',\n",
       " '39890535\\t554\\t556\\tCI\\tDisease\\tMESH:D003072\\n',\n",
       " '39890535\\t669\\t671\\tAD\\tDisease\\tMESH:D000544\\n',\n",
       " '39890535\\t728\\t733\\tAbeta\\tGene\\t351\\n',\n",
       " '39890535\\t938\\t940\\tCI\\tDisease\\tMESH:D003072\\n',\n",
       " '39890535\\t1271\\t1286\\t18F-florbetapir\\tChemical\\tMESH:C545186\\n',\n",
       " '39890535\\t1297\\t1302\\tAbeta\\tGene\\t351\\n',\n",
       " '39890535\\t1344\\t1346\\tAD\\tDisease\\tMESH:D000544\\n',\n",
       " '39890535\\t1368\\t1378\\t18F-MK6240\\tChemical\\t-\\n',\n",
       " '39890535\\t1389\\t1392\\ttau\\tGene\\t4137\\n',\n",
       " '39890535\\t1537\\t1539\\tAD\\tDisease\\tMESH:D000544\\n',\n",
       " '39890535\\t1719\\t1721\\tCI\\tDisease\\tMESH:D003072\\n',\n",
       " '39890535\\t1761\\t1766\\tAbeta\\tGene\\t351\\n',\n",
       " '39890535\\t2158\\t2161\\tTau\\tGene\\t4137\\n',\n",
       " '39890535\\t2369\\t2374\\tAbeta\\tGene\\t351\\n',\n",
       " '39890535\\t2379\\t2382\\tTau\\tGene\\t4137\\n',\n",
       " '39890535\\t2409\\t2426\\tcognitive decline\\tDisease\\tMESH:D003072\\n',\n",
       " '39890535\\t2589\\t2592\\tTau\\tGene\\t4137\\n',\n",
       " '39890535\\t2634\\t2636\\tAD\\tDisease\\tMESH:D000544\\n',\n",
       " '39890535\\t2808\\t2810\\tAD\\tDisease\\tMESH:D000544\\n',\n",
       " '\\n']"
      ]
     },
     "execution_count": 8,
     "metadata": {},
     "output_type": "execute_result"
    }
   ],
   "source": [
    "text"
   ]
  },
  {
   "cell_type": "code",
   "execution_count": 9,
   "metadata": {},
   "outputs": [
    {
     "name": "stderr",
     "output_type": "stream",
     "text": [
      "2025-03-02 12:16:47,391 - INFO - Processing PubTator file: /home/jovyan/my_code/RAG/Data_v2/AD_pubtabor/39890535.txt\n",
      "2025-03-02 12:16:47,393 - WARNING - Skipping malformed entity line: ['']\n"
     ]
    },
    {
     "name": "stderr",
     "output_type": "stream",
     "text": [
      "2025-03-02 12:16:49,439 - INFO - HTTP Request: POST http://127.0.0.1:11434/api/chat \"HTTP/1.1 200 OK\"\n",
      "2025-03-02 12:17:15,205 - INFO - Abstract distilled successfully.\n",
      "2025-03-02 12:17:15,206 - INFO - Adding Alzheimer's disease to the abstract\n",
      "2025-03-02 12:17:15,207 - INFO - Adding AD to the abstract\n",
      "2025-03-02 12:17:15,208 - INFO - Adding cognitively impaired to the abstract\n",
      "2025-03-02 12:17:15,208 - INFO - Adding CI to the abstract\n",
      "2025-03-02 12:17:15,209 - INFO - Adding cognitive decline to the abstract\n",
      "2025-03-02 12:17:15,209 - INFO - Adding [{'gene': 'Abeta'}, {'gene': 'tau'}, {'gene': 'Tau'}] to the abstract\n",
      "2025-03-02 12:17:15,209 - INFO - Adding [{'chemical': '18F-florbetapir'}, {'chemical': '18F-MK6240'}] to the abstract\n"
     ]
    }
   ],
   "source": [
    "pubtator_file = f\"{PUTATOR_PATH}{PMID}.txt\"\n",
    "pubtator_process = PubtatorProcessor(pubtator_file, llm)\n",
    "semantic_blocks = pubtator_process.block\n",
    "properties_info = pubtator_process.properties_info\n",
    "pubtator_info = pubtator_process.pubtator_info"
   ]
  },
  {
   "cell_type": "code",
   "execution_count": 10,
   "metadata": {},
   "outputs": [
    {
     "data": {
      "text/plain": [
       "{'source': 'PMID39890535'}"
      ]
     },
     "execution_count": 10,
     "metadata": {},
     "output_type": "execute_result"
    }
   ],
   "source": [
    "properties_info"
   ]
  },
  {
   "cell_type": "code",
   "execution_count": 11,
   "metadata": {},
   "outputs": [
    {
     "data": {
      "text/plain": [
       "['disease - [[\\'disease\\': \"Alzheimer\\'s disease\"], [\\'disease\\': \"Alzheimer\\'s disease\"], [\\'disease\\': \\'AD\\'], [\\'disease\\': \\'cognitively impaired\\'], [\\'disease\\': \\'CI\\'], [\\'disease\\': \\'cognitive decline\\']]',\n",
       " \"protein - [['protein': 'Tau']]\",\n",
       " \"gene - [['gene': 'Abeta'], ['gene': 'tau'], ['gene': 'Tau']]\",\n",
       " \"chemical - [['chemical': '18F-florbetapir'], ['chemical': '18F-MK6240']]\",\n",
       " \"Title: The associations between fresh vegetable and fruit consumption and plasma and PET biomarkers in preclinical Alzheimer's disease: A cross-sectional and longitudinal study of Chinese population. Abstract: BACKGROUND: The identification of the modifiable lifestyle factors including dietary habits in older adults of preclinical Alzheimer's disease (AD) and early effective interventions are of great importance. OBJECTIVES: We studied whether the consumption of fresh vegetables and fruits was different between cognitively unimpaired (CU) and cognitively impaired (CI) population and mainly investigated the associations between vegetable and fruit consumption and PET and plasma AD biomarkers in older CU adults with higher beta-amyloid (Abeta) burden. DESIGN, SETTING, AND PARTICIPANTS: Older adults with the age of 50-85 years were enrolled for a cross-sectional and longitudinal study. The groups depended on whether the participants were CU or CI. Partial participants whose habits remained unchanged were followed up. MEASUREMENTS: The consumption data of vegetables and fruits were collected using a validated self-reported questionnaire. We mainly investigated the associations between vegetable and fruit consumption and various biomarkers in CU participants with positive 18F-florbetapir PET scan (Abeta-PET), part of whom also underwent plasma AD biomarkers tests and 18F-MK6240 PET scan (tau-PET). Correlation and multiple linear regression analyses were used to investigate the associations between vegetable and fruit consumption and AD biomarkers. RESULTS: A total of 1433 participants were enrolled, of which CU accounted for 49.4 %. Most of the intake habits of vegetables and fruits was different between CU and CI participants. 177 CU participants with Abeta-PET positive were selected for the following study. Multiple linear regression analysis showed higher consumption of fresh vegetables (>200 g/d), dark vegetables (>100 g/d, >=2d/week), fruits (>100 g/d), berries (>100 g/d) and grapes (>100 g/d) more or less had associations with the plasma biomarkers including Abeta40, t-Tau, p-Tau-181 and neurofilament light chain as well as amyloid and Tau PET biomarkers. Most of the habits were associated with the change of cognitive function after an approximately two-year follow-up. Especially, higher intakes of fruits and grapes correlated with both lower Abeta and Tau burden and inversely with cognitive decline after follow-up. CONCLUSION: Our data indicates that higher consumption of vegetables, dark vegetables, fruits, berries and grapes is associated with amyloid and Tau PET and plasma biomarkers in preclinical AD participants and the changes of cognitive function after follow-up. Higher intakes of fruits (>100 g/d) and grapes (>100 g/d) may be more helpful for reducing the risk of AD development..\"]"
      ]
     },
     "execution_count": 11,
     "metadata": {},
     "output_type": "execute_result"
    }
   ],
   "source": [
    "semantic_blocks"
   ]
  },
  {
   "cell_type": "code",
   "execution_count": null,
   "metadata": {},
   "outputs": [],
   "source": [
    "\n"
   ]
  },
  {
   "cell_type": "code",
   "execution_count": 12,
   "metadata": {},
   "outputs": [
    {
     "data": {
      "text/plain": [
       "{\"Alzheimer's disease\": {'label': 'disease', 'unique_id': 'MESH:D000544'},\n",
       " 'AD': {'label': 'disease', 'unique_id': 'MESH:D000544'},\n",
       " 'cognitively impaired': {'label': 'disease', 'unique_id': 'MESH:D003072'},\n",
       " 'CI': {'label': 'disease', 'unique_id': 'MESH:D003072'},\n",
       " 'Abeta': {'label': 'gene', 'unique_id': 'Gene ID:351'},\n",
       " '18F-florbetapir': {'label': 'chemical', 'unique_id': 'MESH:C545186'},\n",
       " '18F-MK6240': {'label': 'chemical', 'unique_id': '-'},\n",
       " 'tau': {'label': 'gene', 'unique_id': 'Gene ID:4137'},\n",
       " 'Tau': {'label': 'gene', 'unique_id': 'Gene ID:4137'},\n",
       " 'cognitive decline': {'label': 'disease', 'unique_id': 'MESH:D003072'}}"
      ]
     },
     "execution_count": 12,
     "metadata": {},
     "output_type": "execute_result"
    }
   ],
   "source": [
    "pubtator_info"
   ]
  },
  {
   "cell_type": "code",
   "execution_count": 13,
   "metadata": {},
   "outputs": [
    {
     "data": {
      "text/plain": [
       "{'source': 'PMID39890535'}"
      ]
     },
     "execution_count": 13,
     "metadata": {},
     "output_type": "execute_result"
    }
   ],
   "source": [
    "properties_info"
   ]
  },
  {
   "cell_type": "code",
   "execution_count": 14,
   "metadata": {},
   "outputs": [
    {
     "name": "stderr",
     "output_type": "stream",
     "text": [
      "2025-03-02 12:17:15,349 - INFO - Extracting Entities from the Document\n"
     ]
    },
    {
     "name": "stderr",
     "output_type": "stream",
     "text": [
      "2025-03-02 12:17:16,529 - INFO - HTTP Request: POST http://127.0.0.1:11434/api/chat \"HTTP/1.1 200 OK\"\n",
      "2025-03-02 12:17:46,736 - INFO - INFO --- alzheimer's disease add unique_id and label\n",
      "2025-03-02 12:17:46,737 - INFO - INFO --- ad add unique_id and label\n",
      "2025-03-02 12:17:46,738 - INFO - INFO --- cognitively impaired add unique_id and label\n",
      "2025-03-02 12:17:46,739 - INFO - INFO --- ci add unique_id and label\n",
      "2025-03-02 12:17:46,741 - INFO - INFO --- cognitive decline add unique_id and label\n",
      "2025-03-02 12:17:46,741 - INFO - INFO --- tau add unique_id and label\n",
      "2025-03-02 12:17:46,743 - INFO - INFO --- abeta add unique_id and label\n",
      "2025-03-02 12:17:46,743 - INFO - INFO --- tau add unique_id and label\n",
      "2025-03-02 12:17:46,744 - INFO - INFO --- 18f-florbetapir add unique_id and label\n",
      "2025-03-02 12:17:46,745 - INFO - INFO --- 18f-mk6240 add unique_id and label\n",
      "2025-03-02 12:17:46,745 - INFO - {'entities': [{'label': 'disease', 'name': \"Alzheimer's disease\", 'properties': {'unique_id': 'MESH:D000544'}}, {'label': 'disease', 'name': 'AD', 'properties': {'unique_id': 'MESH:D000544'}}, {'label': 'disease', 'name': 'cognitively impaired', 'properties': {'unique_id': 'MESH:D003072'}}, {'label': 'disease', 'name': 'CI', 'properties': {'unique_id': 'MESH:D003072'}}, {'label': 'disease', 'name': 'cognitive decline', 'properties': {'unique_id': 'MESH:D003072'}}, {'label': 'gene', 'name': 'Tau', 'properties': {'unique_id': 'Gene ID:4137'}}, {'label': 'gene', 'name': 'Abeta', 'properties': {'unique_id': 'Gene ID:351'}}, {'label': 'gene', 'name': 'tau', 'properties': {'unique_id': 'Gene ID:4137'}}, {'label': 'chemical', 'name': '18F-florbetapir', 'properties': {'unique_id': 'MESH:C545186'}}, {'label': 'chemical', 'name': '18F-MK6240', 'properties': {'unique_id': '-'}}]}\n",
      "2025-03-02 12:17:46,877 - INFO - HTTP Request: POST http://127.0.0.1:11434/api/embed \"HTTP/1.1 200 OK\"\n",
      "2025-03-02 12:17:47,084 - INFO - HTTP Request: POST http://127.0.0.1:11434/api/embed \"HTTP/1.1 200 OK\"\n",
      "2025-03-02 12:17:47,089 - INFO - Extracting Relations from the Document\n",
      "2025-03-02 12:17:48,506 - INFO - HTTP Request: POST http://127.0.0.1:11434/api/chat \"HTTP/1.1 200 OK\"\n",
      "2025-03-02 12:18:14,953 - INFO - {'relationships': [{'startNode': {'name': \"alzheimer's disease\", 'label': 'disease'}, 'endNode': {'name': 'abeta', 'label': 'gene'}, 'name': 'is associated with'}, {'startNode': {'name': \"alzheimer's disease\", 'label': 'disease'}, 'endNode': {'name': 'tau', 'label': 'gene'}, 'name': 'is associated with'}, {'startNode': {'name': '18f florbetapir', 'label': 'chemical'}, 'endNode': {'name': 'abeta', 'label': 'gene'}, 'name': 'measures'}, {'startNode': {'name': '18f mk6240', 'label': 'chemical'}, 'endNode': {'name': 'tau', 'label': 'gene'}, 'name': 'measures'}, {'startNode': {'name': 'ci', 'label': 'disease'}, 'endNode': {'name': 'cognitively impaired', 'label': 'disease'}, 'name': 'is related to'}, {'startNode': {'name': \"alzheimer's disease\", 'label': 'disease'}, 'endNode': {'name': 'cognitive decline', 'label': 'disease'}, 'name': 'leads to'}]}\n",
      "2025-03-02 12:18:14,955 - INFO - [INFO] Verification of invented entities\n",
      "2025-03-02 12:18:15,033 - INFO - HTTP Request: POST http://127.0.0.1:11434/api/embed \"HTTP/1.1 200 OK\"\n",
      "2025-03-02 12:18:16,364 - INFO - HTTP Request: POST http://127.0.0.1:11434/api/chat \"HTTP/1.1 200 OK\"\n",
      "2025-03-02 12:18:42,750 - INFO - {'relationships': [{'startNode': {'label': 'disease', 'name': 'ad'}, 'endNode': {'label': 'disease', 'name': 'ci'}, 'name': 'associated_with'}, {'startNode': {'label': 'disease', 'name': 'ad'}, 'endNode': {'label': 'disease', 'name': \"alzheimer's disease\"}, 'name': 'is_a'}, {'startNode': {'label': 'gene', 'name': 'tau'}, 'endNode': {'label': 'disease', 'name': 'ad'}, 'name': 'associated_with'}, {'startNode': {'label': 'chemical', 'name': '18f mk6240'}, 'endNode': {'label': 'gene', 'name': 'tau'}, 'name': 'used_for_imaging'}, {'startNode': {'label': 'gene', 'name': 'abeta'}, 'endNode': {'label': 'disease', 'name': 'ad'}, 'name': 'associated_with'}, {'startNode': {'label': 'gene', 'name': 'tau'}, 'endNode': {'label': 'disease', 'name': 'cognitively impaired'}, 'name': 'associated_with'}, {'startNode': {'label': 'chemical', 'name': '18f florbetapir'}, 'endNode': {'label': 'gene', 'name': 'abeta'}, 'name': 'used_for_imaging'}, {'startNode': {'label': 'disease', 'name': 'ad'}, 'endNode': {'label': 'disease', 'name': 'cognitive decline'}, 'name': 'associated_with'}]}\n",
      "2025-03-02 12:18:42,751 - INFO - [INFO] Verification of invented entities\n",
      "2025-03-02 12:18:42,850 - INFO - HTTP Request: POST http://127.0.0.1:11434/api/embed \"HTTP/1.1 200 OK\"\n",
      "2025-03-02 12:18:42,858 - INFO - [INFO] Wohoo! consine sim 0.6242383799936746 >= 0.4 Relation was matched --- [associated_with] --merged --> [leads_to] \n",
      "2025-03-02 12:18:42,861 - INFO - [INFO] Wohoo! consine sim 0.5341547674937277 >= 0.4 Relation was matched --- [is_a] --merged --> [leads_to] \n",
      "2025-03-02 12:18:42,864 - INFO - [INFO] Wohoo! consine sim 0.6242383799936746 >= 0.4 Relation was matched --- [associated_with] --merged --> [leads_to] \n",
      "2025-03-02 12:18:42,867 - INFO - [INFO] Wohoo! consine sim 0.4127610635523283 >= 0.4 Relation was matched --- [used_for_imaging] --merged --> [leads_to] \n",
      "2025-03-02 12:18:42,869 - INFO - [INFO] Wohoo! consine sim 0.6242383799936746 >= 0.4 Relation was matched --- [associated_with] --merged --> [leads_to] \n",
      "2025-03-02 12:18:42,872 - INFO - [INFO] Wohoo! consine sim 0.6242383799936746 >= 0.4 Relation was matched --- [associated_with] --merged --> [leads_to] \n",
      "2025-03-02 12:18:42,875 - INFO - [INFO] Wohoo! consine sim 0.4127610635523283 >= 0.4 Relation was matched --- [used_for_imaging] --merged --> [leads_to] \n",
      "2025-03-02 12:18:42,878 - INFO - [INFO] Wohoo! consine sim 0.6242383799936746 >= 0.4 Relation was matched --- [associated_with] --merged --> [leads_to] \n",
      "2025-03-02 12:18:42,878 - INFO - 10 of global entities\n",
      "2025-03-02 12:18:42,879 - INFO - 14 of global relationships\n",
      "2025-03-02 12:18:42,879 - INFO - Merging entities and relationships by unique_ID...\n",
      "2025-03-02 12:18:42,880 - INFO - Merged duplicate entities, original:10 -> deduped:6, and relationships, original:14 -> deduped:10.\n",
      "2025-03-02 12:18:42,880 - INFO - 6 of global entities after merge\n",
      "2025-03-02 12:18:42,882 - INFO - 10 of global relationships after merge\n",
      "2025-03-02 12:18:42,882 - INFO - INFO ---- Removing isolated entities []\n"
     ]
    },
    {
     "name": "stdout",
     "output_type": "stream",
     "text": [
      "WARNING: this entity wasn't updated!\n",
      "WARNING: this entity wasn't updated!\n",
      "WARNING: this entity wasn't updated!\n",
      "WARNING: this entity wasn't updated!\n",
      "WARNING: this entity wasn't updated!\n",
      "WARNING: this entity wasn't updated!\n"
     ]
    }
   ],
   "source": [
    "# -----------------Build the graph-----------------\n",
    "itext2kg = iText2KG(llm_model = llm, embeddings_model = embeddings)\n",
    "kg = itext2kg.build_graph(\n",
    "    sections=[semantic_blocks], \n",
    "    source=properties_info,  \n",
    "    entities_info=pubtator_info,\n",
    "    ent_threshold=0.9, \n",
    "    rel_threshold=0.4,\n",
    "    context = semantic_blocks[-1],\n",
    "    source_id = properties_info['source'] ,\n",
    "    )"
   ]
  },
  {
   "cell_type": "code",
   "execution_count": 19,
   "metadata": {},
   "outputs": [
    {
     "data": {
      "text/plain": [
       "\"Title: The associations between fresh vegetable and fruit consumption and plasma and PET biomarkers in preclinical Alzheimer's disease: A cross-sectional and longitudinal study of Chinese population. Abstract: BACKGROUND: The identification of the modifiable lifestyle factors including dietary habits in older adults of preclinical Alzheimer's disease (AD) and early effective interventions are of great importance. OBJECTIVES: We studied whether the consumption of fresh vegetables and fruits was different between cognitively unimpaired (CU) and cognitively impaired (CI) population and mainly investigated the associations between vegetable and fruit consumption and PET and plasma AD biomarkers in older CU adults with higher beta-amyloid (Abeta) burden. DESIGN, SETTING, AND PARTICIPANTS: Older adults with the age of 50-85 years were enrolled for a cross-sectional and longitudinal study. The groups depended on whether the participants were CU or CI. Partial participants whose habits remained unchanged were followed up. MEASUREMENTS: The consumption data of vegetables and fruits were collected using a validated self-reported questionnaire. We mainly investigated the associations between vegetable and fruit consumption and various biomarkers in CU participants with positive 18F-florbetapir PET scan (Abeta-PET), part of whom also underwent plasma AD biomarkers tests and 18F-MK6240 PET scan (tau-PET). Correlation and multiple linear regression analyses were used to investigate the associations between vegetable and fruit consumption and AD biomarkers. RESULTS: A total of 1433 participants were enrolled, of which CU accounted for 49.4 %. Most of the intake habits of vegetables and fruits was different between CU and CI participants. 177 CU participants with Abeta-PET positive were selected for the following study. Multiple linear regression analysis showed higher consumption of fresh vegetables (>200 g/d), dark vegetables (>100 g/d, >=2d/week), fruits (>100 g/d), berries (>100 g/d) and grapes (>100 g/d) more or less had associations with the plasma biomarkers including Abeta40, t-Tau, p-Tau-181 and neurofilament light chain as well as amyloid and Tau PET biomarkers. Most of the habits were associated with the change of cognitive function after an approximately two-year follow-up. Especially, higher intakes of fruits and grapes correlated with both lower Abeta and Tau burden and inversely with cognitive decline after follow-up. CONCLUSION: Our data indicates that higher consumption of vegetables, dark vegetables, fruits, berries and grapes is associated with amyloid and Tau PET and plasma biomarkers in preclinical AD participants and the changes of cognitive function after follow-up. Higher intakes of fruits (>100 g/d) and grapes (>100 g/d) may be more helpful for reducing the risk of AD development..\""
      ]
     },
     "execution_count": 19,
     "metadata": {},
     "output_type": "execute_result"
    }
   ],
   "source": [
    "kg.chunk[0].context"
   ]
  },
  {
   "cell_type": "code",
   "execution_count": null,
   "metadata": {},
   "outputs": [
    {
     "data": {
      "text/plain": [
       "Entity(name=abeta, label=gene, properties=embeddings=array([-6.45760240e-03,  2.40314844e-02, -1.45196152e-01, -2.22277432e-02,\n",
       "        1.42757736e-02, -2.25719640e-03, -6.24135358e-03,  1.61856960e-03,\n",
       "       -1.03359260e-03,  6.57131840e-03, -2.32987526e-02,  7.01297100e-02,\n",
       "        1.11676242e-01, -8.38724940e-03,  6.56710720e-03, -5.94029588e-03,\n",
       "       -1.08734414e-02, -5.55830352e-03,  3.85745948e-02,  2.17089988e-02,\n",
       "       -2.11628142e-02, -1.29235102e-02, -1.19219832e-02,  2.56445384e-03,\n",
       "        1.90849518e-01,  1.27576601e-02,  3.30139200e-03,  3.21932272e-02,\n",
       "        5.38236436e-03, -2.72192542e-02,  1.62386140e-02, -3.68823472e-02,\n",
       "        7.38222648e-03, -1.90136200e-03,  3.96177200e-02, -4.14962198e-02,\n",
       "       -6.07901776e-03,  3.92776136e-02, -3.43964686e-03, -1.60196830e-02,\n",
       "        4.49002596e-02, -2.03563633e-02, -7.30315984e-02, -2.07667660e-03,\n",
       "        3.55762458e-02, -1.31322060e-02,  2.86986906e-02,  3.76886758e-02,\n",
       "        4.70624360e-02, -3.73971217e-02,  3.43356022e-02, -1.98028546e-03,\n",
       "       -2.23748800e-04, -5.63153808e-02,  9.30526010e-02,  5.73860200e-03,\n",
       "       -1.04184138e-02,  2.21127706e-02, -7.10715442e-03, -7.30151540e-03,\n",
       "        1.09353322e-02,  2.18362384e-02, -1.78181438e-02,  5.65005092e-02,\n",
       "        4.66902498e-02, -5.49964376e-02,  1.30825474e-02,  2.60717594e-02,\n",
       "       -2.35776216e-02, -3.19570228e-02,  4.79068660e-02, -5.10343998e-03,\n",
       "        1.56952204e-02,  4.39918652e-02,  8.58120260e-03, -1.00911014e-02,\n",
       "       -2.70928592e-02,  5.18805372e-03, -2.51484770e-02,  7.60106788e-03,\n",
       "        4.32316288e-02, -1.59129616e-02,  2.12967444e-02, -8.79531551e-03,\n",
       "        7.23736360e-03,  3.12427300e-03, -7.05757460e-03,  1.25767001e-02,\n",
       "        2.49100420e-03,  3.13454222e-02,  5.71379714e-02,  1.19591382e-02,\n",
       "        6.12884164e-02,  8.71684032e-03, -1.33943390e-02,  2.08074544e-02,\n",
       "       -1.79146454e-02,  4.64013478e-02, -6.04255008e-02, -2.34211266e-02,\n",
       "       -1.37488556e-02,  2.18984490e-02,  1.42733831e-02,  2.23980888e-02,\n",
       "        1.43309642e-02,  3.88203456e-02,  2.62266440e-03, -3.18935890e-02,\n",
       "        8.34401480e-03,  1.16154706e-02, -5.37241988e-02,  2.54165078e-02,\n",
       "        1.16978932e-02, -6.18423632e-02, -5.82077164e-03, -1.04393398e-02,\n",
       "        4.24792108e-02, -3.21966752e-02,  1.42930500e-03,  7.93960678e-03,\n",
       "       -3.57023404e-02,  1.29019588e-02, -2.85314982e-02,  6.52832220e-02,\n",
       "       -3.92296713e-02,  4.00065596e-02, -5.13026832e-02,  5.55205640e-02,\n",
       "       -4.68567480e-03, -1.65464120e-03, -1.00093526e-02, -3.14690528e-02,\n",
       "        2.84051152e-02,  1.51202982e-02,  4.04594558e-02,  2.63826820e-02,\n",
       "       -5.67461184e-02, -6.13185166e-02,  3.04731750e-02,  2.36355014e-02,\n",
       "        1.14668651e-02,  1.81487416e-02,  7.16624084e-03, -4.91005884e-02,\n",
       "       -8.07354920e-03, -2.92885270e-02,  4.06574370e-02, -1.41309836e-02,\n",
       "       -4.82041688e-02, -1.76579484e-02,  2.92744576e-02,  9.88616560e-03,\n",
       "       -3.34664960e-03,  3.21746860e-02,  3.55855650e-02, -5.62554872e-02,\n",
       "       -2.87398332e-02,  2.23243610e-02,  6.57033300e-03,  2.27157596e-02,\n",
       "        3.42957924e-02,  1.11072663e-02, -1.18929037e-02,  5.96580640e-03,\n",
       "       -2.66906494e-02, -2.56537103e-02,  3.57988940e-02,  5.48590552e-02,\n",
       "        1.23476864e-02,  4.00496362e-02, -7.24622460e-03, -4.24223240e-02,\n",
       "        1.51868768e-02, -3.70620490e-02,  1.46848306e-02, -1.88895860e-02,\n",
       "       -1.82858752e-02, -2.90901372e-02,  3.36265920e-03, -4.66550863e-02,\n",
       "       -1.83476280e-02, -9.36970240e-03,  1.90663046e-02,  4.74955064e-02,\n",
       "       -8.59702460e-03,  3.28601067e-02, -4.00105332e-02, -7.71759200e-03,\n",
       "       -4.21419648e-02, -5.38338452e-02,  1.61987110e-02,  2.59682308e-02,\n",
       "       -4.97291864e-02, -1.61009524e-02, -3.08284700e-02,  5.08962770e-03,\n",
       "        3.59246848e-02,  2.33623280e-02,  8.52226660e-03, -3.59888640e-02,\n",
       "       -3.26565386e-02,  2.01233230e-02, -2.33640926e-02,  1.55797292e-02,\n",
       "       -2.45233518e-02,  7.83449360e-03, -5.25200380e-03, -1.69576798e-02,\n",
       "       -2.58593920e-03, -1.28324672e-02,  5.06239356e-02, -2.52416820e-03,\n",
       "       -3.28785140e-02,  4.37460532e-03, -3.95643516e-03, -4.61267720e-02,\n",
       "        2.04702920e-02, -2.98801616e-02, -4.06873150e-02, -1.26765128e-02,\n",
       "        4.56551822e-02, -3.94984896e-03,  1.38243376e-03,  1.21766856e-02,\n",
       "       -1.54665872e-02,  1.07493854e-02, -2.61383078e-02, -3.37584992e-02,\n",
       "       -5.41016936e-02, -1.28099350e-03, -2.37937732e-02, -5.40157708e-02,\n",
       "        4.79617896e-02, -6.72315800e-03, -6.65910340e-03,  1.72871760e-02,\n",
       "       -1.19275000e-04,  4.19647362e-02, -2.31748750e-03,  1.51765542e-02,\n",
       "        1.30894950e-02,  3.58284190e-02, -1.05340252e-02, -2.07207200e-03,\n",
       "       -1.64610480e-02,  1.13321886e-02,  3.26021848e-02, -2.93994842e-02,\n",
       "        2.44888622e-02,  5.56912766e-02, -2.90780204e-02,  2.13221080e-03,\n",
       "        4.58087602e-02,  2.95297783e-02,  1.99486299e-02, -2.23627078e-02,\n",
       "       -2.13621580e-03, -1.93975272e-02,  2.64916055e-02, -3.86100060e-03,\n",
       "       -3.24983616e-02, -1.19356144e-02,  1.06987173e-02, -5.83582920e-02,\n",
       "       -2.50291886e-02,  1.83570660e-03, -2.43144600e-02, -1.24803237e-02,\n",
       "       -5.34790090e-03, -3.25987605e-02, -2.33211670e-02,  4.28580752e-02,\n",
       "        3.28140660e-02,  1.61611468e-02,  1.35691560e-02, -2.07476792e-02,\n",
       "       -1.26515968e-02, -2.92265586e-02, -1.96145364e-02,  1.15539456e-02,\n",
       "       -1.26441243e-02, -9.74791480e-03, -7.21845020e-03,  8.93840420e-03,\n",
       "        1.59093096e-02,  3.99504124e-02,  3.99337260e-02,  4.35985740e-03,\n",
       "        2.90867296e-03,  3.16611948e-02,  2.36881690e-02, -4.32710928e-02,\n",
       "       -1.91235054e-02,  5.20249098e-02,  4.10648458e-03,  1.16699202e-02,\n",
       "        3.92392364e-02, -2.26318246e-02,  9.95894702e-03, -2.13731886e-02,\n",
       "       -1.86426284e-02, -1.12581546e-02,  3.51780054e-02, -3.46807728e-02,\n",
       "        2.74753564e-02, -2.69477726e-02,  5.23089986e-02, -2.89183328e-02,\n",
       "        3.29900744e-02, -9.08098000e-04, -2.88965850e-02, -1.80690906e-02,\n",
       "       -8.68308880e-03,  2.52538932e-02, -5.36859620e-02,  9.43364776e-03,\n",
       "        3.95937122e-02, -1.76099518e-02,  4.91993240e-02, -7.28503612e-03,\n",
       "        4.36943576e-02, -5.03382628e-02, -1.14064054e-03, -2.37189460e-03,\n",
       "       -1.73896182e-02,  1.20406500e-02,  1.76791976e-02,  6.01522964e-02,\n",
       "        4.36202120e-03, -4.97065630e-02,  1.10925535e-02,  6.78558980e-03,\n",
       "       -4.07003444e-02, -1.75295454e-02, -5.41164006e-02,  1.99915223e-02,\n",
       "       -2.59242942e-02, -9.71178901e-03, -3.28097760e-02,  3.21849670e-02,\n",
       "        4.07315146e-02, -4.28079608e-03,  3.53604308e-02, -5.05945912e-02,\n",
       "       -1.75708212e-02,  5.92449628e-03, -1.18444478e-02,  3.10848842e-02,\n",
       "        2.97228490e-02,  6.62155622e-03, -3.11163562e-02, -3.59872980e-02,\n",
       "        1.05262894e-02,  3.00288396e-02, -7.31422580e-03, -2.62242584e-02,\n",
       "        5.13647440e-02, -3.01614168e-03,  2.98845000e-02,  2.75396820e-03,\n",
       "        5.44292172e-02, -2.49766984e-02,  3.92969984e-02, -1.37192384e-02,\n",
       "       -3.82283376e-02,  6.32359320e-03,  4.28799962e-02,  5.51403720e-03,\n",
       "        3.60073718e-02,  1.11766126e-02, -1.12963864e-02, -5.81682472e-02,\n",
       "       -1.76491366e-02, -4.63286796e-03, -4.17886900e-03, -4.72959420e-03,\n",
       "       -2.95317736e-02, -2.02662098e-02, -2.12554526e-02,  9.94497800e-03,\n",
       "        3.04199016e-02, -3.16455232e-02,  2.32919916e-02, -1.17612410e-02,\n",
       "        2.03304668e-02, -1.04330576e-02,  1.20799012e-02, -1.02109893e-02,\n",
       "        1.66490102e-02, -1.41339380e-02, -4.12861120e-03, -3.83861050e-02,\n",
       "       -5.01607080e-02,  1.33941400e-03,  7.11117084e-03,  1.48129960e-04,\n",
       "        2.21854032e-02,  3.30259816e-02, -3.36789602e-02,  3.51360424e-02,\n",
       "       -4.53419418e-02, -2.55426854e-02, -2.08914752e-03,  1.40787716e-03,\n",
       "        1.93889398e-02,  7.26960960e-02, -2.02700576e-02, -6.70631840e-02,\n",
       "        2.42440208e-02, -1.71152224e-02,  1.62063404e-02,  4.93785386e-02,\n",
       "        1.46019950e-02, -4.38545746e-02,  1.73381544e-02,  2.80234992e-02,\n",
       "        1.84098694e-02, -1.55927466e-02, -4.39999104e-02,  1.40938570e-02,\n",
       "        3.09167370e-02,  3.44554620e-02, -4.16738682e-03,  2.89524328e-02,\n",
       "        7.36822060e-04,  4.32200936e-02,  3.28713264e-02,  3.89084644e-02,\n",
       "        1.84102783e-02, -1.60987928e-02,  2.55427442e-02,  2.56813463e-02,\n",
       "        4.53991294e-03, -2.45011316e-02, -2.49690424e-02, -9.67251160e-03,\n",
       "       -2.23125208e-02,  1.63334796e-02,  5.03627510e-02,  6.73692540e-02,\n",
       "        6.23480348e-02,  5.18102060e-03, -1.91834220e-02,  2.17337840e-02,\n",
       "        6.38205528e-03,  1.06950714e-01,  6.07012858e-02, -2.94421992e-02,\n",
       "       -1.10866676e-02,  3.17775384e-02,  2.26577542e-02, -2.61660634e-02,\n",
       "        1.66769958e-03, -3.62686315e-03,  4.44486774e-02, -2.25334670e-02,\n",
       "       -3.19945730e-02,  6.93223000e-05,  1.51301974e-02,  3.84115908e-02,\n",
       "       -9.35321840e-03, -7.24079600e-03, -1.98864089e-02,  3.74596000e-02,\n",
       "        2.77793304e-02, -1.05294760e-02, -1.43049176e-02,  9.23819898e-03,\n",
       "        6.18277560e-03,  3.32349562e-02, -4.51112012e-02,  2.54953730e-02,\n",
       "       -1.03345858e-02, -3.16826700e-03, -3.16461576e-02, -3.86583139e-02,\n",
       "       -3.01151948e-02, -1.51838122e-02,  4.32117148e-02,  5.52651848e-02,\n",
       "        1.75586248e-02, -3.48712250e-02, -8.64201192e-02, -4.67727374e-02,\n",
       "        1.66166660e-02,  2.85557802e-02, -2.16779738e-02,  3.20849934e-02,\n",
       "        1.54116092e-02, -2.97627522e-02,  1.56477262e-02,  3.85613990e-02,\n",
       "        3.42959892e-02, -1.22215626e-02, -2.37329180e-02, -1.38290038e-02,\n",
       "       -6.73141572e-02,  1.41842264e-02,  3.55613202e-02, -3.98550508e-02,\n",
       "        3.35733452e-03,  1.44753820e-03, -2.22657930e-02, -8.88615400e-04,\n",
       "        2.81574273e-02, -2.61932333e-02, -2.10860042e-02, -1.66624788e-02,\n",
       "       -6.14349704e-02, -4.85250600e-04, -5.78786012e-02, -7.77225396e-03,\n",
       "        9.27159120e-03, -1.16711068e-02,  5.97123358e-03,  6.43370296e-03,\n",
       "        8.47855508e-03, -2.17855600e-03, -4.13078524e-02, -7.50799800e-04,\n",
       "        2.44967916e-02, -2.78475492e-02, -2.78703108e-02, -1.28718372e-02,\n",
       "       -3.72605734e-02,  1.86920006e-02, -1.96094394e-02, -6.33484112e-02,\n",
       "        1.59649326e-02, -3.05707926e-02, -4.17772434e-03, -2.24961582e-02,\n",
       "       -1.15897321e-02, -8.54834380e-03,  2.86461376e-02, -4.21066028e-02,\n",
       "       -1.33683046e-02, -2.50987250e-03,  2.53950034e-02,  3.46256872e-02,\n",
       "        1.25325580e-03,  7.03239625e-03,  2.81154528e-03, -2.36229600e-03,\n",
       "       -1.53783700e-03, -3.18730880e-02, -2.52930466e-02,  7.09180800e-03,\n",
       "       -1.97752338e-02,  4.34091200e-03,  1.30673436e-02, -3.12500420e-02,\n",
       "        6.53725440e-03, -6.37416942e-02, -1.04251870e-02, -2.49372306e-02,\n",
       "        3.51892696e-03, -1.06807384e-02, -2.73426376e-02,  9.81718920e-03,\n",
       "       -8.55379478e-03,  3.06204040e-02,  3.58180732e-02,  2.24780800e-03,\n",
       "       -4.02520400e-03, -2.24217762e-03,  4.12503500e-03, -9.22239412e-03,\n",
       "        1.88499016e-02,  2.27616952e-02,  1.31789110e-02, -3.63238476e-02,\n",
       "       -2.89211546e-02,  9.63482460e-03, -1.82205992e-02,  3.38306560e-03,\n",
       "       -3.18364680e-03, -3.60658634e-02, -5.11842180e-02, -2.45795782e-02,\n",
       "        6.44970522e-03, -5.27791160e-02, -2.49292394e-02, -1.10523241e-02,\n",
       "        1.61757676e-02,  7.22210356e-03, -3.41362164e-03, -2.90220163e-02,\n",
       "        4.75721002e-02,  2.05787468e-02,  6.30260000e-03, -1.14786904e-02,\n",
       "        2.25948232e-02, -9.51770860e-03, -1.17834574e-02, -1.58212628e-02,\n",
       "       -2.96900416e-02, -1.71877042e-02, -2.55127784e-02, -2.20827406e-02,\n",
       "        3.89392530e-02, -1.61277066e-02,  6.88769760e-02, -4.29530880e-02,\n",
       "        7.44649620e-03,  2.98219674e-02, -3.06465708e-03,  3.60827426e-02,\n",
       "       -1.41153862e-02, -6.29219640e-03,  4.78072080e-02,  2.61576460e-03,\n",
       "       -4.68738756e-02, -2.59371683e-02,  5.04828760e-03, -1.40663285e-02,\n",
       "        3.01945632e-02,  1.08441740e-02, -6.61199920e-03,  3.48044148e-02,\n",
       "        3.01902590e-02, -5.20837044e-02,  1.99704890e-02, -1.97147270e-02,\n",
       "        5.03578442e-02,  6.52743680e-03, -4.11982780e-02,  7.18273304e-03,\n",
       "       -1.80041050e-02,  3.11815380e-02,  7.69604016e-03,  6.09910916e-03,\n",
       "       -5.61774460e-02, -4.35732704e-02, -1.82727202e-02,  6.79517438e-03,\n",
       "       -2.07149650e-02,  2.62422914e-02,  3.09337100e-03,  4.64959848e-02,\n",
       "       -2.14770100e-03,  6.49527280e-03, -1.21657453e-02,  1.27842464e-02,\n",
       "        1.74335644e-02, -2.45539884e-03,  1.12164896e-02,  4.76182252e-02,\n",
       "        1.11804640e-03,  2.16083538e-03,  5.55934520e-02,  5.46715828e-02,\n",
       "       -9.92293600e-03, -1.34514362e-02, -4.91751900e-03,  1.45993766e-02,\n",
       "        7.52849640e-03, -2.39626812e-02, -5.17210954e-02, -2.12638056e-02,\n",
       "        8.19149552e-03,  2.26652638e-02,  7.88239840e-03, -3.21334532e-02,\n",
       "        1.23884338e-02, -1.12413308e-02,  5.67168848e-02, -3.03955858e-02,\n",
       "       -5.86686808e-02,  1.38317558e-02, -1.15165142e-02, -1.67615484e-02,\n",
       "        2.34152048e-02, -2.61453780e-02,  1.34563172e-02,  9.06452844e-03,\n",
       "       -2.62780860e-03,  3.15318690e-02,  1.59987560e-02, -1.99157978e-02,\n",
       "       -1.68425962e-02, -4.40662584e-02,  2.05940538e-02, -4.19855824e-02,\n",
       "       -3.22395514e-02, -9.74398580e-03,  2.78350632e-02, -2.24460120e-02,\n",
       "       -5.64648040e-03, -1.72742067e-02, -2.77191268e-02, -5.48783340e-02,\n",
       "       -1.88509620e-02, -2.59159636e-02,  2.09194984e-02, -5.50741680e-03,\n",
       "       -2.32604508e-02,  1.10742676e-02, -2.27401696e-02,  3.86135190e-02,\n",
       "       -6.70929664e-03,  2.45576352e-02, -2.63426000e-05,  4.29678688e-02,\n",
       "       -4.56505898e-02,  9.23465600e-03,  6.94131860e-03,  2.61834112e-02,\n",
       "        1.32058904e-02, -1.80795928e-02, -7.26103000e-04,  3.95712904e-02,\n",
       "        2.99571910e-02,  7.61858500e-02,  9.54593398e-03,  3.06447820e-02,\n",
       "       -3.47042400e-03, -8.16961444e-03,  8.68086320e-03,  1.35360040e-03,\n",
       "        6.41811228e-02, -1.38579080e-02, -3.63973600e-02,  4.46242460e-03,\n",
       "       -1.74374188e-02, -4.80540376e-02,  1.51031848e-02, -3.81308908e-02,\n",
       "        2.76214106e-02, -3.07653598e-02, -3.15179020e-04, -9.10018080e-03,\n",
       "       -4.57130452e-02, -3.51949760e-03, -3.13384490e-02,  3.07274180e-02,\n",
       "       -4.36816062e-02, -4.60449800e-04, -4.31464508e-02, -1.35747768e-02,\n",
       "       -2.83923638e-02, -2.52334832e-02,  7.22402600e-03,  3.30467358e-02,\n",
       "        1.38007580e-02, -2.28016592e-02,  2.67661580e-03,  2.62546194e-02,\n",
       "        4.90319578e-02,  1.53417300e-02,  2.60873470e-02, -3.39776038e-02,\n",
       "       -2.17520744e-02,  3.72908212e-02, -5.19338272e-03,  2.82401308e-02,\n",
       "       -3.96195914e-02,  1.92376256e-02,  7.59483480e-02,  1.19708208e-02,\n",
       "        1.95637054e-02, -3.31523296e-02,  4.38638496e-02,  1.81769692e-02,\n",
       "       -2.16397948e-02, -1.34688034e-02, -2.44931380e-02, -3.05140526e-02]), properties_info={'unique_id': 'Gene ID:351'})"
      ]
     },
     "execution_count": 25,
     "metadata": {},
     "output_type": "execute_result"
    }
   ],
   "source": [
    "# kg.entities[0]"
   ]
  },
  {
   "cell_type": "code",
   "execution_count": 16,
   "metadata": {},
   "outputs": [],
   "source": [
    "# kg.relationships[0]"
   ]
  },
  {
   "cell_type": "code",
   "execution_count": 17,
   "metadata": {},
   "outputs": [
    {
     "name": "stderr",
     "output_type": "stream",
     "text": [
      "2025-03-02 12:18:48,996 - INFO - Received notification from DBMS server: {severity: INFORMATION} {code: Neo.ClientNotification.Statement.CartesianProduct} {category: PERFORMANCE} {title: This query builds a cartesian product between disconnected patterns.} {description: If a part of a query contains multiple disconnected patterns, this will build a cartesian product between all those parts. This may produce a large amount of data and slow down query processing. While occasionally intended, it may often be possible to reformulate the query that avoids the use of this cross product, perhaps by adding a relationship between the different parts or by using OPTIONAL MATCH (identifier is: (m))} {position: line: 1, column: 1, offset: 0} for query: 'MATCH (n:disease {name: \"alzheimer\\'s disease\"}), (m:gene {name: \"abeta\"}) MERGE (n)-[r:is_associated_with]->(m) SET r.embeddings = \"0.009747773,-0.018262247,-0.11989937,-0.019365331,-0.0013241308,-0.030844437,-0.010199221,-0.04327022,-0.020864299,0.029109737,-0.043916803,0.034726184,0.12962806,0.039913073,-0.04121073,-0.061218902,-0.049969543,-0.018396953,-0.038423836,0.03402497,-0.019428194,-0.014610574,0.025439775,0.01273289,0.111894704,-0.029089903,0.045275826,-0.045796685,-0.030546589,-0.0019425104,0.030045187,0.008303436,0.0053912844,-0.016775254,-0.04872128,-0.017218657,0.015485829,0.055588238,0.019302469,0.026786825,0.0064016473,0.03434377,-0.028261095,-0.045323722,0.0010447116,0.011458525,0.01330361,0.021153914,0.05645035,0.047582272,-0.016180309,0.03164219,-0.025208903,-0.02240592,0.10070541,0.047425117,0.094053976,0.014062072,-0.040255822,0.038944695,0.053768225,0.07561437,-0.05039162,0.06607427,0.09394023,0.0067386143,-0.0045863288,0.0040523736,-0.011757496,-0.0019101908,0.06777754,0.013037193,0.04850276,0.0471587,-0.020081513,-0.01514495,0.013307514,-0.0370012,0.04504533,0.031784378,0.015317728,0.026857171,0.06902281,-0.036757983,0.05443277,-0.0022742683,-0.0051509673,-0.0014109407,-0.026545852,0.0095445225,0.025911244,0.048269268,0.012542526,0.021422574,-0.092677,0.03658586,0.00042207548,0.013277416,-0.06015623,-0.046817448,-0.013364227,0.038283143,-0.003864909,-0.02782106,0.026893092,0.010853756,-0.009891458,-0.0052398345,0.022991886,0.05246308,-0.05466925,0.018412387,0.00197904,-0.07173187,0.01218481,-0.05384306,0.018816607,-0.06929821,0.014161558,-0.0031813548,0.004650314,-0.008811012,0.0036249657,0.08011052,-0.03332151,0.015011929,-0.025713675,-0.018800318,0.004538621,-0.03295182,-0.0059180367,-0.07469239,0.003973141,-0.021519862,0.0072351517,0.011524287,-0.031537417,-0.007026359,0.0065399245,0.071854606,0.023610782,0.036778938,0.00014387236,-0.01786337,0.014922313,-0.029106744,0.03385659,-0.04913138,-0.025885798,0.001369734,0.02146972,0.041016158,-0.08419956,-0.018763274,0.004686235,0.011103802,-0.039025515,-0.04470707,0.015332975,-0.023494178,0.03744498,0.010737105,0.032841064,0.021016963,-0.022471776,-0.073243566,0.03601112,0.018915005,0.00650868,0.037805688,-0.0143812485,-0.017451772,-0.009101563,-0.023235384,0.03925302,-0.0037739833,-0.01630042,-0.005773135,0.040501285,-0.03673553,0.013806508,-0.06197325,0.06032985,-0.005157141,-0.015028767,-0.00012796969,0.01853016,-0.010262271,-0.06997472,-0.004711679,-0.022232302,-0.008981077,0.0146544,-0.031378765,-0.05465428,-0.02776568,0.029263899,0.022221075,0.047284424,-0.052837264,0.008408592,0.010983036,-0.04976449,0.028844817,-0.0002617392,0.042271905,-0.007196237,0.009744406,-0.020556722,0.051136985,0.057405256,-0.022798436,-0.03879502,0.011978916,-0.019072348,-0.059021715,-0.0136287715,-0.013801269,-0.0075992295,0.077320635,-0.01040184,0.015870487,-0.04526984,-0.026096087,0.0057564843,-0.010836766,0.0019060748,0.035879407,-0.02914416,0.020345684,-0.0312725,-0.033208508,0.05189433,0.012952253,0.04259819,0.041623823,0.026617695,0.017795645,-0.033994287,0.023222148,-0.0354723,0.0320942,0.016015762,-0.04658995,-0.027388508,0.07218688,-0.020558218,0.010024853,0.018316012,0.0918987,-0.019164396,0.017406123,0.0023906385,0.019068068,0.08191258,0.010713907,-0.034387175,0.007414758,0.0049731378,-0.030636393,0.019501906,-0.028677184,0.024880748,-0.054959614,0.0063043777,-0.02603472,0.011565541,-0.053534735,-0.0038559288,-0.021168131,0.008087254,0.05425316,0.010590428,0.019874217,0.04229735,0.027404971,-0.017617393,0.00031169225,-0.012596408,-0.045771986,0.014984427,-0.00643927,-0.0068048444,0.012701647,-0.01383609,0.037922435,0.026518911,0.02281677,0.011818113,0.021016216,0.034144707,-0.05178357,-0.07429127,0.08214606,0.011656279,0.00827107,0.11072147,0.015552807,0.004232541,0.046316046,0.014665251,0.03716135,0.02139788,-0.027406467,0.035464816,-0.05499853,-0.03392469,-0.011451041,0.013674048,-0.008645624,-0.041510075,-0.018525671,0.002233342,0.06489784,-0.05658206,0.06284434,0.063574746,0.004184085,-0.020049006,-0.027047254,-0.03557408,-0.0058701416,-0.039230566,-0.044108383,-0.02865623,0.037332725,0.0031277738,0.024101706,0.0068852925,-0.05952761,-0.0629102,0.010139353,0.024557456,0.00085107324,-0.024784585,0.0010222608,-0.010113346,-0.007912698,-0.03941167,0.07446489,0.059473727,-0.0432792,0.0635029,-0.05084213,-0.037205502,0.032246865,-0.024194503,0.0055828644,0.016008062,0.06967538,-0.02908691,0.033578947,-0.05959945,-0.021431556,0.01068023,-0.031748455,0.04468911,0.010791455,-0.025947537,-0.04902661,0.00612131,-0.018574314,-0.0074589117,-0.058797207,0.004319772,0.013319325,0.012944769,0.012941402,0.06298803,-0.044314932,0.008648431,-0.0068822997,-0.0029662212,0.011101931,0.047299393,0.019321177,-0.09722703,-0.0064529274,-0.029488407,-0.013944955,0.009571534,-0.018778617,0.014123836,0.014859077,0.065062486,0.0049575157,-0.011368629,-0.024249882,0.027707683,0.02948616,-0.022525659,0.018059442,-0.00577669,0.0012014932,-0.0053504054,-0.031126568,0.019412478,0.062263615,0.056228835,0.059491687,0.040962275,-0.08704932,0.01566768,-0.028755013,0.0073133553,0.040501285,0.013714459,-0.05725259,0.03817987,-0.0038999065,0.023398902,0.02364296,0.0014949441,-0.03343077,-0.008345344,-0.031543408,0.025588699,-0.012280225,-0.014418572,0.03514302,0.016077783,0.08970151,-0.007541377,0.045368623,-0.008106804,0.011607449,0.014250846,0.04527283,-0.015216044,-0.038304098,-0.04101466,0.04175554,0.03155987,-0.018405184,-0.04724252,-0.0023221634,0.033326,0.010390241,0.04808667,0.034667064,-0.0003165566,-0.01609275,-0.06593956,-0.005335438,0.0402199,0.08661228,0.028513292,-0.02021996,-0.058890004,0.013555058,0.00010645432,0.03018588,-0.020726599,-0.012451226,0.08928842,-0.010149268,0.039327856,0.033818424,0.0052033523,-0.043445334,0.015781805,0.021338759,-0.04054319,0.009531497,0.028612075,-0.07659023,0.008247076,-0.025273826,-0.006280781,0.08359489,-0.043012783,-0.003310748,0.042456,-0.021363828,-0.003795873,0.0054750075,-0.021216027,-0.06879231,0.00443067,0.044078447,0.02102295,-0.013392851,-0.08069125,-0.06038972,-0.007831595,0.011135608,0.027723772,0.023327151,0.020164205,-0.018097982,0.002761077,0.028338175,0.026384953,0.00013835319,-0.041128412,-0.044464603,-0.06880129,0.029479427,0.050185073,0.018146625,0.052044,0.06575996,-0.019604431,0.00810643,0.011092576,-0.0030441384,0.033233203,0.0079895,-0.07696142,-9.91578e-05,-0.018060002,0.015293126,0.021755595,-0.011234765,-0.028200103,-0.0039060689,0.031799346,-0.014122737,-0.04771548,0.0538251,0.025207033,0.007689781,-0.083373375,-0.019246435,-0.01358298,0.009162508,0.033631332,-0.019868603,0.035135537,-0.018084886,0.023693101,-0.01003926,-0.013612682,-0.010387995,0.03370916,-0.05840806,-0.02747756,0.001653503,0.024466906,0.057653714,0.0069560134,-0.004865374,-0.037624586,-0.018373754,0.014445981,0.0042716432,-0.0010087903,-0.027093653,-0.016743075,-0.05047843,0.0472964,-0.07521924,-0.028404782,-0.021204054,0.013999585,-0.0514962,-0.004774916,0.0062546115,-0.01830191,-0.045865532,0.038025707,-0.024338188,-0.010982194,-0.009009515,-0.033035636,-0.022580288,-0.0056182244,-0.007772475,0.019113882,0.0094280355,0.010477799,-0.07645852,0.009777707,-0.024438469,0.033743586,0.00444096,-0.010571296,0.023510734,-0.024954462,-0.026833223,-0.00076744397,-0.08476832,-0.0026873634,-0.0474341,-0.052780386,-0.0059185275,-0.044395752,-0.0075225225,0.03752131,-0.013632513,0.0135111855,0.012212125,-0.048481803,-0.00089316856,-0.006539176,0.058168586,-0.003310748,0.01689125,-0.001002055,-0.00035678098,0.025764188,-0.010332991,0.087408535,-0.020814907,-0.024399554,0.044494536,0.015077597,-0.029663334,-0.05486382,0.015284145,0.025794499,0.039925046,0.034246486,0.00496818,0.04208781,-0.04614991,0.020162148,-0.008404091,-0.053274304,-0.008815128,-0.011546458,-0.05561817,-0.005895586,0.025945667,-0.015344389,-0.039517563,-0.08908486,-0.006192311,0.0016340925,0.004721408,-0.034616176,0.04066293,-0.06837623,-0.05666887,-0.062191773,0.045503326,-0.031193173,0.0034190733,0.027657917,0.060698044,0.012175081,0.0017960658,0.009969288,0.041737575,0.019923234,-0.060081396,0.024648009,-0.0019288004,0.046545044,-0.011218676,0.07010045,0.052458588,0.019880204,0.030578021,0.039308395,-0.030314598,-0.018398613,-0.034601208,-0.0486195,0.0009781074,-0.025201421,-0.030004775,-0.03922009,0.030032463,-0.008270509,0.005111304,0.036484085,-0.032811128,-0.06269467,-0.023426872,0.040499788,0.015741581,-0.008565737,-0.023090856,0.0034929737,0.044877697,0.030913286,0.025138935,-0.00936218,-0.015031574,0.0065264544,0.030509919,0.05309769,0.03631795,-0.012532798,-0.012357447,0.006891841,-0.01796889,-0.01697881,-0.07753616,-0.03052264,-0.07577602,0.019916125,-0.041230187,0.003206632,-0.021007726,0.009148219,0.038180616,-0.08469049,0.074710354,-0.024343658,0.02838682,-0.010901558,0.023012372,0.0099995965,-0.02271724,0.00030455948,0.0073159747,-0.014979189,0.025184583,-0.056653902,0.025867838,0.039881643,0.013420492,0.011719329,-0.0019675808,-0.010677986,-0.049038585,-0.034996342,0.045334194,0.022416398,0.013223323,-0.06990588,-0.02657429,-0.017095553,0.002659487,0.05824043,-0.054869812,0.02281939,-0.0148396185,-0.026484488,0.017008742,-0.058593653,0.054501615,-0.014856831,-0.012947856,-0.026548846,-0.017069735,-0.029780269,-0.029711418,-0.034542836,-0.0091745285,0.010607265,0.0485297,0.01181512,0.007491746,0.044859737,0.017214542,-0.0068666777,0.032793168,-0.022204611,0.02608561,-0.0020981696,-0.0034057898,-0.016115388,-0.022152225,-0.08689965,0.025171112,0.07073506,0.02075354,0.035972204,-0.031553883,-0.037648533,-0.002663229,0.009774714,-0.017451024,-0.08423549,-0.012703236\" SET r.source = \"PMID39890535\"'\n",
      "2025-03-02 12:18:49,184 - INFO - Received notification from DBMS server: {severity: INFORMATION} {code: Neo.ClientNotification.Statement.CartesianProduct} {category: PERFORMANCE} {title: This query builds a cartesian product between disconnected patterns.} {description: If a part of a query contains multiple disconnected patterns, this will build a cartesian product between all those parts. This may produce a large amount of data and slow down query processing. While occasionally intended, it may often be possible to reformulate the query that avoids the use of this cross product, perhaps by adding a relationship between the different parts or by using OPTIONAL MATCH (identifier is: (m))} {position: line: 1, column: 1, offset: 0} for query: 'MATCH (n:disease {name: \"alzheimer\\'s disease\"}), (m:gene {name: \"tau\"}) MERGE (n)-[r:is_associated_with]->(m) SET r.embeddings = \"0.009747773,-0.018262247,-0.11989937,-0.019365331,-0.0013241308,-0.030844437,-0.010199221,-0.04327022,-0.020864299,0.029109737,-0.043916803,0.034726184,0.12962806,0.039913073,-0.04121073,-0.061218902,-0.049969543,-0.018396953,-0.038423836,0.03402497,-0.019428194,-0.014610574,0.025439775,0.01273289,0.111894704,-0.029089903,0.045275826,-0.045796685,-0.030546589,-0.0019425104,0.030045187,0.008303436,0.0053912844,-0.016775254,-0.04872128,-0.017218657,0.015485829,0.055588238,0.019302469,0.026786825,0.0064016473,0.03434377,-0.028261095,-0.045323722,0.0010447116,0.011458525,0.01330361,0.021153914,0.05645035,0.047582272,-0.016180309,0.03164219,-0.025208903,-0.02240592,0.10070541,0.047425117,0.094053976,0.014062072,-0.040255822,0.038944695,0.053768225,0.07561437,-0.05039162,0.06607427,0.09394023,0.0067386143,-0.0045863288,0.0040523736,-0.011757496,-0.0019101908,0.06777754,0.013037193,0.04850276,0.0471587,-0.020081513,-0.01514495,0.013307514,-0.0370012,0.04504533,0.031784378,0.015317728,0.026857171,0.06902281,-0.036757983,0.05443277,-0.0022742683,-0.0051509673,-0.0014109407,-0.026545852,0.0095445225,0.025911244,0.048269268,0.012542526,0.021422574,-0.092677,0.03658586,0.00042207548,0.013277416,-0.06015623,-0.046817448,-0.013364227,0.038283143,-0.003864909,-0.02782106,0.026893092,0.010853756,-0.009891458,-0.0052398345,0.022991886,0.05246308,-0.05466925,0.018412387,0.00197904,-0.07173187,0.01218481,-0.05384306,0.018816607,-0.06929821,0.014161558,-0.0031813548,0.004650314,-0.008811012,0.0036249657,0.08011052,-0.03332151,0.015011929,-0.025713675,-0.018800318,0.004538621,-0.03295182,-0.0059180367,-0.07469239,0.003973141,-0.021519862,0.0072351517,0.011524287,-0.031537417,-0.007026359,0.0065399245,0.071854606,0.023610782,0.036778938,0.00014387236,-0.01786337,0.014922313,-0.029106744,0.03385659,-0.04913138,-0.025885798,0.001369734,0.02146972,0.041016158,-0.08419956,-0.018763274,0.004686235,0.011103802,-0.039025515,-0.04470707,0.015332975,-0.023494178,0.03744498,0.010737105,0.032841064,0.021016963,-0.022471776,-0.073243566,0.03601112,0.018915005,0.00650868,0.037805688,-0.0143812485,-0.017451772,-0.009101563,-0.023235384,0.03925302,-0.0037739833,-0.01630042,-0.005773135,0.040501285,-0.03673553,0.013806508,-0.06197325,0.06032985,-0.005157141,-0.015028767,-0.00012796969,0.01853016,-0.010262271,-0.06997472,-0.004711679,-0.022232302,-0.008981077,0.0146544,-0.031378765,-0.05465428,-0.02776568,0.029263899,0.022221075,0.047284424,-0.052837264,0.008408592,0.010983036,-0.04976449,0.028844817,-0.0002617392,0.042271905,-0.007196237,0.009744406,-0.020556722,0.051136985,0.057405256,-0.022798436,-0.03879502,0.011978916,-0.019072348,-0.059021715,-0.0136287715,-0.013801269,-0.0075992295,0.077320635,-0.01040184,0.015870487,-0.04526984,-0.026096087,0.0057564843,-0.010836766,0.0019060748,0.035879407,-0.02914416,0.020345684,-0.0312725,-0.033208508,0.05189433,0.012952253,0.04259819,0.041623823,0.026617695,0.017795645,-0.033994287,0.023222148,-0.0354723,0.0320942,0.016015762,-0.04658995,-0.027388508,0.07218688,-0.020558218,0.010024853,0.018316012,0.0918987,-0.019164396,0.017406123,0.0023906385,0.019068068,0.08191258,0.010713907,-0.034387175,0.007414758,0.0049731378,-0.030636393,0.019501906,-0.028677184,0.024880748,-0.054959614,0.0063043777,-0.02603472,0.011565541,-0.053534735,-0.0038559288,-0.021168131,0.008087254,0.05425316,0.010590428,0.019874217,0.04229735,0.027404971,-0.017617393,0.00031169225,-0.012596408,-0.045771986,0.014984427,-0.00643927,-0.0068048444,0.012701647,-0.01383609,0.037922435,0.026518911,0.02281677,0.011818113,0.021016216,0.034144707,-0.05178357,-0.07429127,0.08214606,0.011656279,0.00827107,0.11072147,0.015552807,0.004232541,0.046316046,0.014665251,0.03716135,0.02139788,-0.027406467,0.035464816,-0.05499853,-0.03392469,-0.011451041,0.013674048,-0.008645624,-0.041510075,-0.018525671,0.002233342,0.06489784,-0.05658206,0.06284434,0.063574746,0.004184085,-0.020049006,-0.027047254,-0.03557408,-0.0058701416,-0.039230566,-0.044108383,-0.02865623,0.037332725,0.0031277738,0.024101706,0.0068852925,-0.05952761,-0.0629102,0.010139353,0.024557456,0.00085107324,-0.024784585,0.0010222608,-0.010113346,-0.007912698,-0.03941167,0.07446489,0.059473727,-0.0432792,0.0635029,-0.05084213,-0.037205502,0.032246865,-0.024194503,0.0055828644,0.016008062,0.06967538,-0.02908691,0.033578947,-0.05959945,-0.021431556,0.01068023,-0.031748455,0.04468911,0.010791455,-0.025947537,-0.04902661,0.00612131,-0.018574314,-0.0074589117,-0.058797207,0.004319772,0.013319325,0.012944769,0.012941402,0.06298803,-0.044314932,0.008648431,-0.0068822997,-0.0029662212,0.011101931,0.047299393,0.019321177,-0.09722703,-0.0064529274,-0.029488407,-0.013944955,0.009571534,-0.018778617,0.014123836,0.014859077,0.065062486,0.0049575157,-0.011368629,-0.024249882,0.027707683,0.02948616,-0.022525659,0.018059442,-0.00577669,0.0012014932,-0.0053504054,-0.031126568,0.019412478,0.062263615,0.056228835,0.059491687,0.040962275,-0.08704932,0.01566768,-0.028755013,0.0073133553,0.040501285,0.013714459,-0.05725259,0.03817987,-0.0038999065,0.023398902,0.02364296,0.0014949441,-0.03343077,-0.008345344,-0.031543408,0.025588699,-0.012280225,-0.014418572,0.03514302,0.016077783,0.08970151,-0.007541377,0.045368623,-0.008106804,0.011607449,0.014250846,0.04527283,-0.015216044,-0.038304098,-0.04101466,0.04175554,0.03155987,-0.018405184,-0.04724252,-0.0023221634,0.033326,0.010390241,0.04808667,0.034667064,-0.0003165566,-0.01609275,-0.06593956,-0.005335438,0.0402199,0.08661228,0.028513292,-0.02021996,-0.058890004,0.013555058,0.00010645432,0.03018588,-0.020726599,-0.012451226,0.08928842,-0.010149268,0.039327856,0.033818424,0.0052033523,-0.043445334,0.015781805,0.021338759,-0.04054319,0.009531497,0.028612075,-0.07659023,0.008247076,-0.025273826,-0.006280781,0.08359489,-0.043012783,-0.003310748,0.042456,-0.021363828,-0.003795873,0.0054750075,-0.021216027,-0.06879231,0.00443067,0.044078447,0.02102295,-0.013392851,-0.08069125,-0.06038972,-0.007831595,0.011135608,0.027723772,0.023327151,0.020164205,-0.018097982,0.002761077,0.028338175,0.026384953,0.00013835319,-0.041128412,-0.044464603,-0.06880129,0.029479427,0.050185073,0.018146625,0.052044,0.06575996,-0.019604431,0.00810643,0.011092576,-0.0030441384,0.033233203,0.0079895,-0.07696142,-9.91578e-05,-0.018060002,0.015293126,0.021755595,-0.011234765,-0.028200103,-0.0039060689,0.031799346,-0.014122737,-0.04771548,0.0538251,0.025207033,0.007689781,-0.083373375,-0.019246435,-0.01358298,0.009162508,0.033631332,-0.019868603,0.035135537,-0.018084886,0.023693101,-0.01003926,-0.013612682,-0.010387995,0.03370916,-0.05840806,-0.02747756,0.001653503,0.024466906,0.057653714,0.0069560134,-0.004865374,-0.037624586,-0.018373754,0.014445981,0.0042716432,-0.0010087903,-0.027093653,-0.016743075,-0.05047843,0.0472964,-0.07521924,-0.028404782,-0.021204054,0.013999585,-0.0514962,-0.004774916,0.0062546115,-0.01830191,-0.045865532,0.038025707,-0.024338188,-0.010982194,-0.009009515,-0.033035636,-0.022580288,-0.0056182244,-0.007772475,0.019113882,0.0094280355,0.010477799,-0.07645852,0.009777707,-0.024438469,0.033743586,0.00444096,-0.010571296,0.023510734,-0.024954462,-0.026833223,-0.00076744397,-0.08476832,-0.0026873634,-0.0474341,-0.052780386,-0.0059185275,-0.044395752,-0.0075225225,0.03752131,-0.013632513,0.0135111855,0.012212125,-0.048481803,-0.00089316856,-0.006539176,0.058168586,-0.003310748,0.01689125,-0.001002055,-0.00035678098,0.025764188,-0.010332991,0.087408535,-0.020814907,-0.024399554,0.044494536,0.015077597,-0.029663334,-0.05486382,0.015284145,0.025794499,0.039925046,0.034246486,0.00496818,0.04208781,-0.04614991,0.020162148,-0.008404091,-0.053274304,-0.008815128,-0.011546458,-0.05561817,-0.005895586,0.025945667,-0.015344389,-0.039517563,-0.08908486,-0.006192311,0.0016340925,0.004721408,-0.034616176,0.04066293,-0.06837623,-0.05666887,-0.062191773,0.045503326,-0.031193173,0.0034190733,0.027657917,0.060698044,0.012175081,0.0017960658,0.009969288,0.041737575,0.019923234,-0.060081396,0.024648009,-0.0019288004,0.046545044,-0.011218676,0.07010045,0.052458588,0.019880204,0.030578021,0.039308395,-0.030314598,-0.018398613,-0.034601208,-0.0486195,0.0009781074,-0.025201421,-0.030004775,-0.03922009,0.030032463,-0.008270509,0.005111304,0.036484085,-0.032811128,-0.06269467,-0.023426872,0.040499788,0.015741581,-0.008565737,-0.023090856,0.0034929737,0.044877697,0.030913286,0.025138935,-0.00936218,-0.015031574,0.0065264544,0.030509919,0.05309769,0.03631795,-0.012532798,-0.012357447,0.006891841,-0.01796889,-0.01697881,-0.07753616,-0.03052264,-0.07577602,0.019916125,-0.041230187,0.003206632,-0.021007726,0.009148219,0.038180616,-0.08469049,0.074710354,-0.024343658,0.02838682,-0.010901558,0.023012372,0.0099995965,-0.02271724,0.00030455948,0.0073159747,-0.014979189,0.025184583,-0.056653902,0.025867838,0.039881643,0.013420492,0.011719329,-0.0019675808,-0.010677986,-0.049038585,-0.034996342,0.045334194,0.022416398,0.013223323,-0.06990588,-0.02657429,-0.017095553,0.002659487,0.05824043,-0.054869812,0.02281939,-0.0148396185,-0.026484488,0.017008742,-0.058593653,0.054501615,-0.014856831,-0.012947856,-0.026548846,-0.017069735,-0.029780269,-0.029711418,-0.034542836,-0.0091745285,0.010607265,0.0485297,0.01181512,0.007491746,0.044859737,0.017214542,-0.0068666777,0.032793168,-0.022204611,0.02608561,-0.0020981696,-0.0034057898,-0.016115388,-0.022152225,-0.08689965,0.025171112,0.07073506,0.02075354,0.035972204,-0.031553883,-0.037648533,-0.002663229,0.009774714,-0.017451024,-0.08423549,-0.012703236\" SET r.source = \"PMID39890535\"'\n",
      "2025-03-02 12:18:49,762 - INFO - Received notification from DBMS server: {severity: INFORMATION} {code: Neo.ClientNotification.Statement.CartesianProduct} {category: PERFORMANCE} {title: This query builds a cartesian product between disconnected patterns.} {description: If a part of a query contains multiple disconnected patterns, this will build a cartesian product between all those parts. This may produce a large amount of data and slow down query processing. While occasionally intended, it may often be possible to reformulate the query that avoids the use of this cross product, perhaps by adding a relationship between the different parts or by using OPTIONAL MATCH (identifier is: (m))} {position: line: 1, column: 1, offset: 0} for query: 'MATCH (n:chemical {name: \"18f florbetapir\"}), (m:gene {name: \"abeta\"}) MERGE (n)-[r:measures]->(m) SET r.embeddings = \"0.026440311,0.034757216,-0.21841718,-0.06910302,0.014252231,-0.005784594,0.02991958,-0.0132689215,0.018245764,0.014106819,0.0007104393,0.030657282,0.04143202,0.017382154,0.03024587,-0.07333063,0.03950264,-0.05285934,0.0055008614,0.0665778,0.02775612,-0.02107023,-0.03218589,-0.030969389,0.13817412,0.011794843,0.03358682,0.037757687,-0.026841082,0.0057961205,0.020506758,0.0046363645,0.01474699,-0.04152423,-0.03231357,-0.0586262,0.019095188,0.045496486,0.039772186,-0.012111826,-0.0045805047,0.008033283,-0.013182916,0.00094474014,0.07971461,0.013298182,0.03474303,0.0021634593,0.022742921,0.025599753,0.0019045536,-0.068521366,0.020760342,0.013626248,0.05971148,0.013240991,-0.015060869,0.0063281185,0.053568672,0.0025389614,0.046971895,0.014924323,-0.075288385,0.04055245,0.039637413,0.025269914,0.0036468476,0.022312004,-0.0021754294,0.008472071,0.024688262,-0.022866335,0.06998259,0.00035366797,-0.05626413,-0.001652076,-0.025660047,0.033948578,0.029873472,0.036654677,0.00065680995,-0.043020923,0.095986664,0.02880593,0.09787348,0.01301445,0.014622857,1.7733273e-06,-0.03467919,0.07985648,-0.009026236,0.0072121224,0.06687572,0.0485537,-0.0718836,-0.017197728,0.007818157,0.033008713,-0.017813073,-0.028295211,-0.0026919108,0.043028016,-0.06853555,-0.031916346,0.026883643,0.038133632,0.034033697,0.015505974,0.014394319,-0.026018258,-0.036892302,0.013773434,-0.02495781,-0.008040266,0.004513506,-0.011950453,0.055689573,-0.057626046,-0.015086582,0.013343401,0.011673814,-0.0035909878,0.0647761,0.05869004,-0.04222647,0.050192256,-0.06568404,0.023351174,0.011036302,-0.0010648831,0.04267335,-0.0054390165,-0.014479218,-0.049759567,-0.011310282,0.02174454,-0.02441517,-0.0014199918,-0.036778808,0.030550884,-0.008088146,-0.014206125,0.036062386,-0.018517084,0.011837846,-0.028515104,0.06408095,-0.024301678,-0.010995737,-0.028217185,0.010625778,0.0040289997,0.039977893,0.028500916,0.0050415695,-0.02263475,-0.013085451,0.04323372,0.0061302534,0.010493664,0.033622287,0.017687166,0.008955303,0.020403905,-0.024656344,-0.04077234,0.011353727,0.07804059,0.04797205,0.03649508,-0.062165763,-0.06630825,-0.053320408,-0.02738372,-0.03321442,-0.0055647013,0.015568262,-0.023514321,0.05847724,0.0044687847,0.006045273,-0.018978149,0.06108758,-0.0094518345,-0.01877599,-0.06889022,0.059300065,-0.058590736,-0.06581172,-0.0108226165,0.03750942,0.009139729,-0.032189436,-0.051944304,-0.0444183,-0.03667241,0.035239562,0.008516405,0.02224107,-0.056902528,-0.047510985,-0.008279832,-0.0123157585,-0.026592817,-0.018963963,0.0428294,-0.010399955,0.043439426,0.020031506,0.041233405,0.017814847,0.006999766,-0.027096441,-0.04427644,-0.011950341,-0.00015006782,0.010166486,-0.04861754,0.00080686394,0.011086842,-0.034310337,0.02727732,0.025005687,-0.0045964643,0.06896115,0.008377641,-0.048943836,0.014825016,-0.021577846,-0.026954576,-0.00045685345,-0.05537037,0.059470307,0.022077926,-0.026443858,0.009820687,0.028958436,0.019061495,0.025317794,-0.032338396,0.026472231,-0.035182815,0.011090389,0.03379962,-0.031387895,0.04057373,0.018811457,0.015381841,-0.012916916,0.028601775,-0.023735985,0.016261412,0.009356518,0.00884713,0.035721906,0.0133496085,0.018905442,0.0041305227,-0.043680597,0.018723233,-0.031111255,-0.029639393,0.04020488,-0.022840455,-0.014160905,-0.059342626,-0.023326349,-0.0023851253,0.013858553,-0.031366613,0.01742826,0.052157104,0.02863569,0.03918344,0.0005124916,-0.04366641,0.010164713,-0.02464925,0.0036503943,0.0010327415,-0.05101508,0.022166591,-0.037225686,0.00017932773,-0.004221849,0.04373025,0.05012842,-0.008402912,-0.028515104,-0.012576438,0.029543633,0.0043120114,0.020744383,0.018316697,-0.03240933,0.03133824,0.059016332,-0.045617074,0.051710226,-0.072280824,-0.0034012417,-0.0036073911,0.0064229914,0.02135086,0.00057455804,-0.0044377516,0.06761342,-0.060562674,0.04970282,-0.03531759,-0.056235757,-0.010597182,-0.03733918,0.016965423,-0.07825339,-0.007439108,0.0143757,0.039261468,0.036126226,0.010627551,0.046822935,-0.04661723,0.006110886,-0.02085965,0.019811613,0.010658916,0.007083556,0.035849586,-0.04082909,-0.012083231,-0.0074745747,0.061867844,-0.005677529,-0.017039903,0.013592554,0.036856834,0.013682994,-0.0013512755,0.0002713191,0.047057014,0.041173115,-0.06440725,-0.006540031,-0.0787641,-0.031451732,-0.045602884,-0.016443176,-0.00083529257,0.03465791,-0.021386327,-0.020616703,0.004154906,-0.02224107,-0.031160908,0.058051642,0.016818237,0.07006771,0.028564757,0.001766234,0.025103223,0.020407451,0.00069603097,-0.064662606,-0.036445424,-0.0235888,0.017557714,0.024025038,0.021693114,0.04614907,0.012672197,-0.06718782,0.008430398,-0.0312744,0.04331884,0.010714443,-0.001478955,-0.019656226,-0.029220888,-0.004454612,0.0020011999,0.045978833,0.007643151,0.03701289,-0.050149698,-0.016850157,-0.056675542,-0.04677328,-0.0044164164,-0.03142336,-0.010981329,-0.017495647,-0.07184104,-0.06540031,-0.018639443,0.01097867,-0.031650346,0.048879996,0.016593024,0.019373601,0.054178696,-0.032019198,-0.018009912,0.027316334,-0.0074444283,-0.020196425,0.020159185,0.049546767,-0.03594889,0.023120642,0.015025402,-0.011292549,0.020121945,0.027369535,-0.061782725,0.008912743,0.033178955,0.028195905,0.01173056,-0.012776824,0.03492036,0.024322959,0.06012289,0.008974809,-0.012152612,-0.05124916,0.065386124,0.007873573,0.04141074,0.021030886,-0.022728736,0.010043239,0.008279665,0.024791116,0.03283493,0.038552135,0.028132064,-0.032054666,0.00782658,0.009781674,-0.0066003245,0.005030043,-0.026348097,-0.08651,-0.0067249,-0.037856992,0.10732177,0.030135924,-0.055122107,-0.01982048,0.02452157,0.034108177,0.054150324,-0.01379161,0.010221459,0.044141665,-0.027305694,0.017495647,0.0128858825,0.034565695,0.056746475,0.021677153,-0.004525975,-0.03375706,0.00974532,-0.04634768,-0.035353053,-0.0028847603,0.034097537,-0.034363538,0.050043296,-0.03926856,-0.06040662,0.028231371,-0.035012577,-0.015683085,0.0022521256,-0.04180087,0.018428417,0.00785052,-0.018112766,0.005514161,-0.008169913,-0.025418874,-0.0459079,-0.01703813,0.023180936,-0.02955782,-0.049355246,0.03608721,-0.022290725,0.027699374,0.0842827,0.03573609,-0.010371305,-0.0010952997,0.026326818,0.0045042513,-0.0039101867,0.02286661,-0.023642,0.047730878,0.09120577,0.005309342,0.00013898453,-0.0018828303,0.0077392985,0.0016022013,-0.039690614,-0.025472075,0.024752103,-0.029646486,0.062321816,0.040524077,0.015999846,0.009872113,-0.04376572,0.057753723,-0.0058111935,-0.054150324,0.01466852,0.028054038,-0.059101455,-0.011120535,-0.029795446,-0.0175852,-0.028117878,-0.04816357,-0.011918533,0.022362543,-0.03404079,0.04222647,0.0007199709,-0.060066145,-0.03343786,-0.01077917,-0.045496486,-0.0031850066,0.006055913,0.03459407,0.047035735,0.006967403,0.02999406,-0.006057686,0.017690713,0.01943212,-0.01750274,0.027280867,-0.024376158,0.0053727385,-0.006266939,0.03176384,-0.048986394,0.003757348,-0.03570772,-0.023163201,-0.0066313576,0.0054512084,-0.012609243,-0.05916529,-0.036842648,0.07897691,-0.025252182,0.043957237,0.0032310025,0.022654256,-0.038679816,0.0029667767,-0.010178898,0.022095658,0.063712105,0.005119596,-0.045021236,0.035899237,-0.037168942,-0.030231684,0.008171492,-0.033508793,0.008609504,-0.0063972785,-0.0477096,0.027656812,0.02164878,0.017108174,0.013942342,-0.010522038,0.036594383,0.037800245,-0.04623419,0.019313307,-0.013431181,-0.0073100985,0.0016970743,-0.01892495,-0.04151714,-0.027507853,0.016669277,0.016081419,-0.064041056,-0.029210247,-0.03038419,-0.022680856,-0.009583282,0.017706674,-0.1098328,-0.0009203569,0.091801606,0.02053513,-0.0044643516,-0.019492414,-0.048262876,0.052653637,0.025894126,0.014149379,0.022764202,0.052306063,-0.061357126,0.053228192,-0.08504878,-0.05887447,0.00064903783,-0.013385075,-0.05563992,0.03606948,-0.008659157,0.046418615,0.038530856,-0.035087056,-0.00083523715,-0.029025821,0.017155169,-0.059300065,0.04185762,-0.009896053,-0.061541554,-0.052845154,0.009391542,-0.011920306,0.031217655,0.05277422,0.047291093,0.033499926,-0.023099361,-0.023936372,-0.03476431,0.0035280348,-0.042715907,0.027227668,0.061811097,0.02857185,-0.019922445,0.03838899,0.060520116,0.065442875,-0.005601941,0.0003289522,0.031217655,0.0797288,-0.06879091,0.007595161,-0.06091734,-0.015571588,-0.03196245,0.0236952,0.00701617,-0.028277477,-0.015769312,-0.031590052,-0.013282222,-0.07928901,-0.08084954,0.04246055,0.02378032,-0.0012120692,-0.033671938,0.0026564444,0.017644607,0.034033697,-0.003062093,-0.015942212,-0.03446639,-0.0048890635,-0.013733533,0.026897829,0.013401034,-0.045368806,-0.04623419,0.0056320876,-0.01903135,0.037213273,-0.05319982,-0.008423305,-0.03534596,0.028096598,-0.018682003,0.017504513,0.0023222275,0.020531584,-0.014789105,-0.05180953,-0.033295993,0.019196268,0.019201588,0.04904314,0.024106612,-0.015218696,-0.018928496,-0.021381894,-0.04634768,-0.0134560075,0.0048872903,-0.070053525,0.053143073,0.009912456,0.009650447,0.010960937,0.009172314,-0.033969857,-0.09522059,0.012555158,0.008836933,0.049596418,-0.011249988,-0.032288745,-0.06967048,-0.02333876,-0.058080018,0.052547235,0.014073126,0.03745267,-0.01962098,0.033508793,-0.026990041,-0.046489548,0.036181197,-0.033671938,0.019376261,-0.0047919736,-0.008022533,-0.058675855,-0.0059484043,-0.04996527,0.028114332,0.010587651,0.047362026,0.016127082,-0.037076727,-0.0088701835,0.033161223,0.019001203,-0.03122652,0.033764154,0.03365066,-0.009707194,0.010512284,-0.028266838,0.009764827,-0.025397595,-0.010294165,0.06779785,-0.00011792627,0.057086952,-0.017245607,0.0049369433,0.035679348,-0.05579597,-0.03832515,-0.011950453,-0.0254969\" SET r.source = \"PMID39890535\"'\n",
      "2025-03-02 12:18:50,401 - INFO - Received notification from DBMS server: {severity: INFORMATION} {code: Neo.ClientNotification.Statement.CartesianProduct} {category: PERFORMANCE} {title: This query builds a cartesian product between disconnected patterns.} {description: If a part of a query contains multiple disconnected patterns, this will build a cartesian product between all those parts. This may produce a large amount of data and slow down query processing. While occasionally intended, it may often be possible to reformulate the query that avoids the use of this cross product, perhaps by adding a relationship between the different parts or by using OPTIONAL MATCH (identifier is: (m))} {position: line: 1, column: 1, offset: 0} for query: 'MATCH (n:chemical {name: \"18f mk6240\"}), (m:gene {name: \"tau\"}) MERGE (n)-[r:measures]->(m) SET r.embeddings = \"0.026440311,0.034757216,-0.21841718,-0.06910302,0.014252231,-0.005784594,0.02991958,-0.0132689215,0.018245764,0.014106819,0.0007104393,0.030657282,0.04143202,0.017382154,0.03024587,-0.07333063,0.03950264,-0.05285934,0.0055008614,0.0665778,0.02775612,-0.02107023,-0.03218589,-0.030969389,0.13817412,0.011794843,0.03358682,0.037757687,-0.026841082,0.0057961205,0.020506758,0.0046363645,0.01474699,-0.04152423,-0.03231357,-0.0586262,0.019095188,0.045496486,0.039772186,-0.012111826,-0.0045805047,0.008033283,-0.013182916,0.00094474014,0.07971461,0.013298182,0.03474303,0.0021634593,0.022742921,0.025599753,0.0019045536,-0.068521366,0.020760342,0.013626248,0.05971148,0.013240991,-0.015060869,0.0063281185,0.053568672,0.0025389614,0.046971895,0.014924323,-0.075288385,0.04055245,0.039637413,0.025269914,0.0036468476,0.022312004,-0.0021754294,0.008472071,0.024688262,-0.022866335,0.06998259,0.00035366797,-0.05626413,-0.001652076,-0.025660047,0.033948578,0.029873472,0.036654677,0.00065680995,-0.043020923,0.095986664,0.02880593,0.09787348,0.01301445,0.014622857,1.7733273e-06,-0.03467919,0.07985648,-0.009026236,0.0072121224,0.06687572,0.0485537,-0.0718836,-0.017197728,0.007818157,0.033008713,-0.017813073,-0.028295211,-0.0026919108,0.043028016,-0.06853555,-0.031916346,0.026883643,0.038133632,0.034033697,0.015505974,0.014394319,-0.026018258,-0.036892302,0.013773434,-0.02495781,-0.008040266,0.004513506,-0.011950453,0.055689573,-0.057626046,-0.015086582,0.013343401,0.011673814,-0.0035909878,0.0647761,0.05869004,-0.04222647,0.050192256,-0.06568404,0.023351174,0.011036302,-0.0010648831,0.04267335,-0.0054390165,-0.014479218,-0.049759567,-0.011310282,0.02174454,-0.02441517,-0.0014199918,-0.036778808,0.030550884,-0.008088146,-0.014206125,0.036062386,-0.018517084,0.011837846,-0.028515104,0.06408095,-0.024301678,-0.010995737,-0.028217185,0.010625778,0.0040289997,0.039977893,0.028500916,0.0050415695,-0.02263475,-0.013085451,0.04323372,0.0061302534,0.010493664,0.033622287,0.017687166,0.008955303,0.020403905,-0.024656344,-0.04077234,0.011353727,0.07804059,0.04797205,0.03649508,-0.062165763,-0.06630825,-0.053320408,-0.02738372,-0.03321442,-0.0055647013,0.015568262,-0.023514321,0.05847724,0.0044687847,0.006045273,-0.018978149,0.06108758,-0.0094518345,-0.01877599,-0.06889022,0.059300065,-0.058590736,-0.06581172,-0.0108226165,0.03750942,0.009139729,-0.032189436,-0.051944304,-0.0444183,-0.03667241,0.035239562,0.008516405,0.02224107,-0.056902528,-0.047510985,-0.008279832,-0.0123157585,-0.026592817,-0.018963963,0.0428294,-0.010399955,0.043439426,0.020031506,0.041233405,0.017814847,0.006999766,-0.027096441,-0.04427644,-0.011950341,-0.00015006782,0.010166486,-0.04861754,0.00080686394,0.011086842,-0.034310337,0.02727732,0.025005687,-0.0045964643,0.06896115,0.008377641,-0.048943836,0.014825016,-0.021577846,-0.026954576,-0.00045685345,-0.05537037,0.059470307,0.022077926,-0.026443858,0.009820687,0.028958436,0.019061495,0.025317794,-0.032338396,0.026472231,-0.035182815,0.011090389,0.03379962,-0.031387895,0.04057373,0.018811457,0.015381841,-0.012916916,0.028601775,-0.023735985,0.016261412,0.009356518,0.00884713,0.035721906,0.0133496085,0.018905442,0.0041305227,-0.043680597,0.018723233,-0.031111255,-0.029639393,0.04020488,-0.022840455,-0.014160905,-0.059342626,-0.023326349,-0.0023851253,0.013858553,-0.031366613,0.01742826,0.052157104,0.02863569,0.03918344,0.0005124916,-0.04366641,0.010164713,-0.02464925,0.0036503943,0.0010327415,-0.05101508,0.022166591,-0.037225686,0.00017932773,-0.004221849,0.04373025,0.05012842,-0.008402912,-0.028515104,-0.012576438,0.029543633,0.0043120114,0.020744383,0.018316697,-0.03240933,0.03133824,0.059016332,-0.045617074,0.051710226,-0.072280824,-0.0034012417,-0.0036073911,0.0064229914,0.02135086,0.00057455804,-0.0044377516,0.06761342,-0.060562674,0.04970282,-0.03531759,-0.056235757,-0.010597182,-0.03733918,0.016965423,-0.07825339,-0.007439108,0.0143757,0.039261468,0.036126226,0.010627551,0.046822935,-0.04661723,0.006110886,-0.02085965,0.019811613,0.010658916,0.007083556,0.035849586,-0.04082909,-0.012083231,-0.0074745747,0.061867844,-0.005677529,-0.017039903,0.013592554,0.036856834,0.013682994,-0.0013512755,0.0002713191,0.047057014,0.041173115,-0.06440725,-0.006540031,-0.0787641,-0.031451732,-0.045602884,-0.016443176,-0.00083529257,0.03465791,-0.021386327,-0.020616703,0.004154906,-0.02224107,-0.031160908,0.058051642,0.016818237,0.07006771,0.028564757,0.001766234,0.025103223,0.020407451,0.00069603097,-0.064662606,-0.036445424,-0.0235888,0.017557714,0.024025038,0.021693114,0.04614907,0.012672197,-0.06718782,0.008430398,-0.0312744,0.04331884,0.010714443,-0.001478955,-0.019656226,-0.029220888,-0.004454612,0.0020011999,0.045978833,0.007643151,0.03701289,-0.050149698,-0.016850157,-0.056675542,-0.04677328,-0.0044164164,-0.03142336,-0.010981329,-0.017495647,-0.07184104,-0.06540031,-0.018639443,0.01097867,-0.031650346,0.048879996,0.016593024,0.019373601,0.054178696,-0.032019198,-0.018009912,0.027316334,-0.0074444283,-0.020196425,0.020159185,0.049546767,-0.03594889,0.023120642,0.015025402,-0.011292549,0.020121945,0.027369535,-0.061782725,0.008912743,0.033178955,0.028195905,0.01173056,-0.012776824,0.03492036,0.024322959,0.06012289,0.008974809,-0.012152612,-0.05124916,0.065386124,0.007873573,0.04141074,0.021030886,-0.022728736,0.010043239,0.008279665,0.024791116,0.03283493,0.038552135,0.028132064,-0.032054666,0.00782658,0.009781674,-0.0066003245,0.005030043,-0.026348097,-0.08651,-0.0067249,-0.037856992,0.10732177,0.030135924,-0.055122107,-0.01982048,0.02452157,0.034108177,0.054150324,-0.01379161,0.010221459,0.044141665,-0.027305694,0.017495647,0.0128858825,0.034565695,0.056746475,0.021677153,-0.004525975,-0.03375706,0.00974532,-0.04634768,-0.035353053,-0.0028847603,0.034097537,-0.034363538,0.050043296,-0.03926856,-0.06040662,0.028231371,-0.035012577,-0.015683085,0.0022521256,-0.04180087,0.018428417,0.00785052,-0.018112766,0.005514161,-0.008169913,-0.025418874,-0.0459079,-0.01703813,0.023180936,-0.02955782,-0.049355246,0.03608721,-0.022290725,0.027699374,0.0842827,0.03573609,-0.010371305,-0.0010952997,0.026326818,0.0045042513,-0.0039101867,0.02286661,-0.023642,0.047730878,0.09120577,0.005309342,0.00013898453,-0.0018828303,0.0077392985,0.0016022013,-0.039690614,-0.025472075,0.024752103,-0.029646486,0.062321816,0.040524077,0.015999846,0.009872113,-0.04376572,0.057753723,-0.0058111935,-0.054150324,0.01466852,0.028054038,-0.059101455,-0.011120535,-0.029795446,-0.0175852,-0.028117878,-0.04816357,-0.011918533,0.022362543,-0.03404079,0.04222647,0.0007199709,-0.060066145,-0.03343786,-0.01077917,-0.045496486,-0.0031850066,0.006055913,0.03459407,0.047035735,0.006967403,0.02999406,-0.006057686,0.017690713,0.01943212,-0.01750274,0.027280867,-0.024376158,0.0053727385,-0.006266939,0.03176384,-0.048986394,0.003757348,-0.03570772,-0.023163201,-0.0066313576,0.0054512084,-0.012609243,-0.05916529,-0.036842648,0.07897691,-0.025252182,0.043957237,0.0032310025,0.022654256,-0.038679816,0.0029667767,-0.010178898,0.022095658,0.063712105,0.005119596,-0.045021236,0.035899237,-0.037168942,-0.030231684,0.008171492,-0.033508793,0.008609504,-0.0063972785,-0.0477096,0.027656812,0.02164878,0.017108174,0.013942342,-0.010522038,0.036594383,0.037800245,-0.04623419,0.019313307,-0.013431181,-0.0073100985,0.0016970743,-0.01892495,-0.04151714,-0.027507853,0.016669277,0.016081419,-0.064041056,-0.029210247,-0.03038419,-0.022680856,-0.009583282,0.017706674,-0.1098328,-0.0009203569,0.091801606,0.02053513,-0.0044643516,-0.019492414,-0.048262876,0.052653637,0.025894126,0.014149379,0.022764202,0.052306063,-0.061357126,0.053228192,-0.08504878,-0.05887447,0.00064903783,-0.013385075,-0.05563992,0.03606948,-0.008659157,0.046418615,0.038530856,-0.035087056,-0.00083523715,-0.029025821,0.017155169,-0.059300065,0.04185762,-0.009896053,-0.061541554,-0.052845154,0.009391542,-0.011920306,0.031217655,0.05277422,0.047291093,0.033499926,-0.023099361,-0.023936372,-0.03476431,0.0035280348,-0.042715907,0.027227668,0.061811097,0.02857185,-0.019922445,0.03838899,0.060520116,0.065442875,-0.005601941,0.0003289522,0.031217655,0.0797288,-0.06879091,0.007595161,-0.06091734,-0.015571588,-0.03196245,0.0236952,0.00701617,-0.028277477,-0.015769312,-0.031590052,-0.013282222,-0.07928901,-0.08084954,0.04246055,0.02378032,-0.0012120692,-0.033671938,0.0026564444,0.017644607,0.034033697,-0.003062093,-0.015942212,-0.03446639,-0.0048890635,-0.013733533,0.026897829,0.013401034,-0.045368806,-0.04623419,0.0056320876,-0.01903135,0.037213273,-0.05319982,-0.008423305,-0.03534596,0.028096598,-0.018682003,0.017504513,0.0023222275,0.020531584,-0.014789105,-0.05180953,-0.033295993,0.019196268,0.019201588,0.04904314,0.024106612,-0.015218696,-0.018928496,-0.021381894,-0.04634768,-0.0134560075,0.0048872903,-0.070053525,0.053143073,0.009912456,0.009650447,0.010960937,0.009172314,-0.033969857,-0.09522059,0.012555158,0.008836933,0.049596418,-0.011249988,-0.032288745,-0.06967048,-0.02333876,-0.058080018,0.052547235,0.014073126,0.03745267,-0.01962098,0.033508793,-0.026990041,-0.046489548,0.036181197,-0.033671938,0.019376261,-0.0047919736,-0.008022533,-0.058675855,-0.0059484043,-0.04996527,0.028114332,0.010587651,0.047362026,0.016127082,-0.037076727,-0.0088701835,0.033161223,0.019001203,-0.03122652,0.033764154,0.03365066,-0.009707194,0.010512284,-0.028266838,0.009764827,-0.025397595,-0.010294165,0.06779785,-0.00011792627,0.057086952,-0.017245607,0.0049369433,0.035679348,-0.05579597,-0.03832515,-0.011950453,-0.0254969\" SET r.source = \"PMID39890535\"'\n",
      "2025-03-02 12:18:50,640 - INFO - Received notification from DBMS server: {severity: INFORMATION} {code: Neo.ClientNotification.Statement.CartesianProduct} {category: PERFORMANCE} {title: This query builds a cartesian product between disconnected patterns.} {description: If a part of a query contains multiple disconnected patterns, this will build a cartesian product between all those parts. This may produce a large amount of data and slow down query processing. While occasionally intended, it may often be possible to reformulate the query that avoids the use of this cross product, perhaps by adding a relationship between the different parts or by using OPTIONAL MATCH (identifier is: (m))} {position: line: 1, column: 1, offset: 0} for query: 'MATCH (n:disease {name: \"alzheimer\\'s disease\"}), (m:disease {name: \"cognitively impaired\"}) MERGE (n)-[r:leads_to]->(m) SET r.embeddings = \"-0.019786686,0.032699805,-0.18124305,-0.017803168,0.08032982,0.031203374,0.046103742,-0.011533829,0.003730421,-0.041806296,-0.014528391,0.08267466,0.059213508,0.009666054,-0.014337607,0.006697771,0.018196994,-0.03144425,-0.0031561588,0.01705655,-0.0022707605,-0.064231455,0.01476767,-0.016684575,0.11406615,-0.0005098686,-0.020605246,-0.02260422,-0.025330625,-0.04616769,0.060667306,-0.031987827,0.005037134,-0.00694711,-0.026596837,-0.0072711236,0.048627637,-0.019475995,0.008857085,0.03823362,0.017097052,0.024242807,-0.044701103,-0.061357964,0.0009331382,-0.07725169,0.028770072,0.029144181,0.04650876,0.0065037226,-0.033098426,-0.014090333,-0.01408607,-0.03717631,0.06141765,0.035417683,0.08414125,0.005715538,0.04343489,-0.005901426,0.09439884,0.023117952,-0.048725694,0.0039771623,-0.013477478,-0.03962773,-0.016352566,0.028743427,0.002767839,-0.013995474,0.03874522,0.034362506,0.071982205,0.0109631745,-0.021529859,0.011411358,-0.0043840106,-0.011366859,0.036860824,0.037479006,0.015248896,0.008472252,0.037180573,-0.017256727,0.036121134,0.013409265,0.007198114,0.01420491,-0.03127372,0.055747412,-0.016342508,0.004408292,0.0262174,0.029992586,-0.07226358,-0.0024927207,-0.02171638,0.004753389,-0.069390096,-0.022235442,0.010805431,0.0014570624,0.035021193,-0.02858142,0.011313834,0.034042757,0.076526925,0.018017933,-0.0041077263,-0.024885107,-0.010115569,0.014198248,-0.015857488,-0.036515493,-0.010706308,0.010550696,0.08846427,-0.13825154,0.029186815,0.012134527,-0.0117886625,-0.045135964,0.021771803,0.03435931,0.0018319032,0.014616322,-0.012095824,0.034707837,-0.015425824,-0.020527974,0.011619462,-0.0403056,-0.037078254,-0.0017580942,0.03652189,0.06206568,-0.02137105,-0.008676959,0.05027755,0.012840908,0.0020192235,0.012777058,0.049655102,-0.017950252,0.039354876,-0.053884335,0.027939787,-0.043831382,0.0016928117,0.037299946,0.044048812,0.0076582874,-0.0076585542,0.040550742,0.0054927785,-0.06214242,-0.03827199,-0.02683132,-0.048932463,-0.08156619,0.013722138,-0.04481195,-0.04135012,0.018489297,-0.027834268,-0.050247706,0.012989858,0.05329173,0.021018257,0.08963243,-0.0222461,-0.014740758,0.0055892365,-0.0231414,0.070907846,0.0077043846,-0.040501714,-0.01333892,0.042087678,-0.05903871,0.064154714,-0.015360808,0.042622726,0.037766784,-0.0073077613,-0.009845114,0.007752881,-0.011694337,-0.04730174,0.005329173,-0.03107121,0.018139439,-0.04647465,-0.0023911998,-0.00575977,-0.056885723,0.018191397,-0.019809602,0.045570824,-0.0095710615,0.009477934,-0.045037907,-0.050908525,-0.007546642,-0.031736292,0.03085591,-0.0002216936,0.027328,-0.014082872,-0.0016707622,0.07540993,0.0033419244,-0.011306905,-0.020834401,-0.04707152,-0.06400123,-0.016350968,-0.020974824,-0.05145423,0.07778034,-0.015602753,0.049599677,0.039278135,-0.043780223,-0.013859048,-0.028717848,-0.023024159,-0.009904268,-0.020923398,-0.0006714758,-0.025639717,-0.054395933,0.026222726,-0.020230604,0.03617869,0.014280052,0.01719511,-0.002028949,0.00394119,0.0064511634,-0.02928487,0.060564984,0.02990945,-0.016583852,-0.03099447,0.031056289,0.0075628953,0.043714136,-0.011731507,0.05063567,-0.00988828,0.027639223,0.009412918,0.060948685,0.05988285,-0.008286997,-0.05247317,0.06582595,0.018122386,-0.06257728,0.021399828,-0.041145477,-0.0031167334,-0.026539281,-0.014873188,-0.011825435,-0.040710617,-0.020761391,0.026586179,-0.05561951,0.0032310775,0.037990607,0.029144181,0.059712317,-0.003967303,0.018417621,0.060104545,-0.003878572,0.0056084218,0.009098497,0.014987766,-0.06835837,-0.021489888,-0.035213042,0.01677304,-0.002931578,0.046368066,-0.02814656,0.019483456,-0.0054426845,0.036379065,0.0031378835,0.016368022,0.039390046,0.06912577,0.016941706,0.13313553,0.041584603,0.058748804,-0.00434221,0.024223354,0.07140239,0.010876842,0.021485094,0.033774167,-0.018583892,0.034066204,-0.009349434,0.027707435,0.025916833,-0.01234223,-0.025735643,-0.014444622,0.014998424,-0.07170935,0.03771349,-0.0063294587,0.021075813,0.0062299357,-0.041433252,0.011401232,-0.00837666,-0.04287426,-0.032675825,0.032151967,0.03267849,-0.0075306543,0.02980713,-0.019285211,-0.041580338,0.0145060085,0.033701688,-0.016735734,-0.009640474,-0.0026464672,-0.0042508147,0.014258735,0.029480984,-0.037893616,0.091627665,0.05562804,-0.03533455,-0.034093916,0.026021285,-0.03649844,-0.038514998,0.038804907,0.029336032,0.03599963,-0.013102837,-0.040898204,0.0039890856,-0.042113256,0.009301605,-0.006736574,0.00729244,0.04095789,0.008187192,0.033479996,-0.045263864,0.053675428,0.021400893,-0.022912245,-0.008685286,0.005992122,0.017530315,0.07397745,0.011812111,0.05388007,-0.02967923,0.007725702,0.012515963,0.021284716,0.047058728,0.02036197,-0.008376927,-0.030813279,-0.0008533338,0.017349789,0.039226975,0.014091931,-0.0037271904,0.010550164,-0.018637449,0.030591585,-0.043993387,-0.010188579,-0.032606013,0.015227579,0.050780624,-0.049186133,-0.014397293,-0.024534445,-0.017505268,-0.0047875955,-0.054118816,-0.015527078,0.03565856,0.06582168,-0.027832137,-0.024952251,-0.059763476,0.007782724,0.032674227,-0.015045853,0.06206568,-0.020680388,-0.06832426,0.0074621094,-0.011287188,0.039261084,0.011654901,-0.010773639,-0.035893045,0.02806982,0.032993976,0.056365598,0.018091476,0.00081269885,-0.035812043,0.0144058205,0.062176526,-0.00026539282,-0.014857735,0.0064696157,0.028705057,0.015800864,0.033968147,-0.019012358,-0.05359869,-0.02830004,0.039847292,0.059592944,-0.039815318,-0.013689845,-0.01931399,0.04248843,6.781372e-05,-0.033695295,0.04772381,0.0015193472,-0.01837712,-0.055304024,-0.0031783187,0.0010816555,0.08795267,0.046137847,-0.01994443,-0.016462881,-0.012804703,-0.009879087,0.024292503,0.011882714,0.019351292,0.07380691,-0.042684544,0.013345813,0.035036113,0.03961494,0.037056938,0.009053531,-0.04575841,-0.06968853,0.021891175,0.006035056,-0.021672547,-0.007162941,-0.04967642,0.030759986,0.031520993,-0.008165359,0.032697674,0.028494023,0.0029174555,-0.011265671,0.0040884083,-0.012526887,-0.007383036,-2.5047113e-05,0.018584957,0.0034354513,-0.022229046,-0.094731376,-0.04153344,-0.036590103,0.014858433,-0.00048308953,-0.025588557,0.06782119,0.0051944777,0.05352195,0.0960189,-0.0017891198,-0.065391086,-0.057448484,0.039148103,-0.065203495,0.049834162,0.025138775,-0.017030172,0.035155486,0.0413757,-0.00515331,0.0005045393,0.040631745,-0.03556477,0.0610169,-0.047237787,-0.037834994,-0.027282167,-0.038775064,-0.00030962494,0.032959066,0.022196537,0.016063193,-0.03154444,0.021282585,-0.031130897,-0.038986098,0.06391597,-0.01091841,-0.032162625,-0.03596126,-0.045992896,-0.020420324,0.04831215,-0.06991875,-0.075333185,0.040742595,-0.047242053,0.005969872,-0.026608558,-0.018744834,-0.013356456,0.0110185975,-0.031753343,0.029940624,-0.0068527833,-0.011364995,0.02503965,0.028061293,0.005717936,0.019134395,0.010922673,-0.0027605116,-0.025582163,-0.025290122,-0.040535823,0.024286106,-0.020798696,0.019890605,-0.018351939,-0.0047271093,-0.024012186,-0.012363682,-0.074327044,-0.026428435,0.014893972,-0.070976056,-0.025505422,0.04440267,0.0027487874,0.032034725,0.028523866,-0.0033014226,-0.01568269,-0.018655302,0.0034167992,0.0021319357,0.007675075,0.015259554,-0.10801594,0.0109418575,-0.014688799,-0.075120024,0.051015105,0.0021759013,-0.02727364,0.0010327937,-0.023305539,0.016896676,-0.033260435,-0.0672499,-0.025373258,-0.02496824,-0.0029587569,-0.05634428,0.013916602,0.034088586,-0.05089147,0.0013990412,-0.017769594,-0.014878517,-0.003222551,0.02221732,0.03451812,-0.017232414,-0.038480893,0.0028454452,-0.0037477408,-0.03672866,0.015695214,0.09482517,-0.03849368,-0.046214588,0.023608236,0.019436559,0.024492878,0.024430525,0.01931985,0.048486948,-0.01393099,0.009728938,-0.021824028,0.048772592,0.0067039663,0.03625543,0.0035848012,0.011050306,-0.018401634,-0.016207613,-0.045762673,-0.013908608,-0.0048884503,0.055564087,0.03761064,-0.043221723,-0.026881946,-0.02985829,0.028012265,-0.010045491,0.023350304,-0.08136155,-0.06267107,-0.04405094,-0.02238679,-0.00961223,0.03127798,-0.048674535,0.06882307,0.024822755,-0.03244827,-0.032188203,0.008272741,0.03363987,0.010356219,0.040235255,0.06132386,0.049343877,-0.03468865,0.06785955,0.05029034,0.011428543,0.032058172,0.015160431,-0.026180094,0.03410884,-0.014980305,-0.024593066,-0.036315117,-0.025646111,-0.0340726,-0.048764065,-0.0004904171,0.015786076,-0.029859355,0.02236334,-0.003686722,-0.07607501,0.03307711,0.0031394158,0.0034429121,0.00038583213,-0.009823881,-0.020375026,0.03187698,0.00810847,0.041576076,0.002433167,-0.009178967,-0.019757975,-0.018703265,-0.019325713,-0.012754309,0.026375143,-0.025019402,0.019209538,-0.06360048,-0.046487443,-0.034460563,-0.022928234,-0.05184646,0.0042646704,0.012023146,-0.06047972,-0.0025276267,0.015107139,0.035949532,-0.04584794,0.09301752,-0.011935748,0.023795823,-0.0008806458,0.07786561,-0.028195588,-0.029336032,0.03139949,0.0063523743,-0.016078647,-0.043144982,-0.008062173,0.0036803267,0.02365087,0.060471192,0.049646575,0.018328091,-0.0624238,-0.018580161,-0.006695306,0.025944546,0.012122802,0.0022347886,-0.060334764,-0.006413926,-0.007475764,-0.031932402,0.04694362,-0.059985172,-0.016162315,-0.038384967,-0.004377383,-0.060582038,-0.03154797,-0.0031873784,-0.028059162,-0.04094084,-0.011622192,0.0042429874,-0.05272897,-0.021879453,-0.0041117235,-0.0042193728,-0.0011553647,0.049702,-0.006526437,-0.018687144,0.0004375251,0.046265747,0.011627722,-0.01065728,-0.001758627,0.023518173,0.011500355,0.02588486,-0.008623668,0.025908306,-0.058416262,-0.011513146,0.03434985,0.033910595,0.010894061,-0.036858693,-0.027958838,0.03850221,-0.010970635,-0.031516727,-0.06633755,-0.0052593607\" SET r.source = \"PMID39890535\"'\n",
      "2025-03-02 12:18:50,950 - INFO - Received notification from DBMS server: {severity: INFORMATION} {code: Neo.ClientNotification.Statement.CartesianProduct} {category: PERFORMANCE} {title: This query builds a cartesian product between disconnected patterns.} {description: If a part of a query contains multiple disconnected patterns, this will build a cartesian product between all those parts. This may produce a large amount of data and slow down query processing. While occasionally intended, it may often be possible to reformulate the query that avoids the use of this cross product, perhaps by adding a relationship between the different parts or by using OPTIONAL MATCH (identifier is: (m))} {position: line: 1, column: 1, offset: 0} for query: 'MATCH (n:gene {name: \"tau\"}), (m:disease {name: \"alzheimer\\'s disease\"}) MERGE (n)-[r:leads_to]->(m) SET r.embeddings = \"-0.019786686,0.032699805,-0.18124305,-0.017803168,0.08032982,0.031203374,0.046103742,-0.011533829,0.003730421,-0.041806296,-0.014528391,0.08267466,0.059213508,0.009666054,-0.014337607,0.006697771,0.018196994,-0.03144425,-0.0031561588,0.01705655,-0.0022707605,-0.064231455,0.01476767,-0.016684575,0.11406615,-0.0005098686,-0.020605246,-0.02260422,-0.025330625,-0.04616769,0.060667306,-0.031987827,0.005037134,-0.00694711,-0.026596837,-0.0072711236,0.048627637,-0.019475995,0.008857085,0.03823362,0.017097052,0.024242807,-0.044701103,-0.061357964,0.0009331382,-0.07725169,0.028770072,0.029144181,0.04650876,0.0065037226,-0.033098426,-0.014090333,-0.01408607,-0.03717631,0.06141765,0.035417683,0.08414125,0.005715538,0.04343489,-0.005901426,0.09439884,0.023117952,-0.048725694,0.0039771623,-0.013477478,-0.03962773,-0.016352566,0.028743427,0.002767839,-0.013995474,0.03874522,0.034362506,0.071982205,0.0109631745,-0.021529859,0.011411358,-0.0043840106,-0.011366859,0.036860824,0.037479006,0.015248896,0.008472252,0.037180573,-0.017256727,0.036121134,0.013409265,0.007198114,0.01420491,-0.03127372,0.055747412,-0.016342508,0.004408292,0.0262174,0.029992586,-0.07226358,-0.0024927207,-0.02171638,0.004753389,-0.069390096,-0.022235442,0.010805431,0.0014570624,0.035021193,-0.02858142,0.011313834,0.034042757,0.076526925,0.018017933,-0.0041077263,-0.024885107,-0.010115569,0.014198248,-0.015857488,-0.036515493,-0.010706308,0.010550696,0.08846427,-0.13825154,0.029186815,0.012134527,-0.0117886625,-0.045135964,0.021771803,0.03435931,0.0018319032,0.014616322,-0.012095824,0.034707837,-0.015425824,-0.020527974,0.011619462,-0.0403056,-0.037078254,-0.0017580942,0.03652189,0.06206568,-0.02137105,-0.008676959,0.05027755,0.012840908,0.0020192235,0.012777058,0.049655102,-0.017950252,0.039354876,-0.053884335,0.027939787,-0.043831382,0.0016928117,0.037299946,0.044048812,0.0076582874,-0.0076585542,0.040550742,0.0054927785,-0.06214242,-0.03827199,-0.02683132,-0.048932463,-0.08156619,0.013722138,-0.04481195,-0.04135012,0.018489297,-0.027834268,-0.050247706,0.012989858,0.05329173,0.021018257,0.08963243,-0.0222461,-0.014740758,0.0055892365,-0.0231414,0.070907846,0.0077043846,-0.040501714,-0.01333892,0.042087678,-0.05903871,0.064154714,-0.015360808,0.042622726,0.037766784,-0.0073077613,-0.009845114,0.007752881,-0.011694337,-0.04730174,0.005329173,-0.03107121,0.018139439,-0.04647465,-0.0023911998,-0.00575977,-0.056885723,0.018191397,-0.019809602,0.045570824,-0.0095710615,0.009477934,-0.045037907,-0.050908525,-0.007546642,-0.031736292,0.03085591,-0.0002216936,0.027328,-0.014082872,-0.0016707622,0.07540993,0.0033419244,-0.011306905,-0.020834401,-0.04707152,-0.06400123,-0.016350968,-0.020974824,-0.05145423,0.07778034,-0.015602753,0.049599677,0.039278135,-0.043780223,-0.013859048,-0.028717848,-0.023024159,-0.009904268,-0.020923398,-0.0006714758,-0.025639717,-0.054395933,0.026222726,-0.020230604,0.03617869,0.014280052,0.01719511,-0.002028949,0.00394119,0.0064511634,-0.02928487,0.060564984,0.02990945,-0.016583852,-0.03099447,0.031056289,0.0075628953,0.043714136,-0.011731507,0.05063567,-0.00988828,0.027639223,0.009412918,0.060948685,0.05988285,-0.008286997,-0.05247317,0.06582595,0.018122386,-0.06257728,0.021399828,-0.041145477,-0.0031167334,-0.026539281,-0.014873188,-0.011825435,-0.040710617,-0.020761391,0.026586179,-0.05561951,0.0032310775,0.037990607,0.029144181,0.059712317,-0.003967303,0.018417621,0.060104545,-0.003878572,0.0056084218,0.009098497,0.014987766,-0.06835837,-0.021489888,-0.035213042,0.01677304,-0.002931578,0.046368066,-0.02814656,0.019483456,-0.0054426845,0.036379065,0.0031378835,0.016368022,0.039390046,0.06912577,0.016941706,0.13313553,0.041584603,0.058748804,-0.00434221,0.024223354,0.07140239,0.010876842,0.021485094,0.033774167,-0.018583892,0.034066204,-0.009349434,0.027707435,0.025916833,-0.01234223,-0.025735643,-0.014444622,0.014998424,-0.07170935,0.03771349,-0.0063294587,0.021075813,0.0062299357,-0.041433252,0.011401232,-0.00837666,-0.04287426,-0.032675825,0.032151967,0.03267849,-0.0075306543,0.02980713,-0.019285211,-0.041580338,0.0145060085,0.033701688,-0.016735734,-0.009640474,-0.0026464672,-0.0042508147,0.014258735,0.029480984,-0.037893616,0.091627665,0.05562804,-0.03533455,-0.034093916,0.026021285,-0.03649844,-0.038514998,0.038804907,0.029336032,0.03599963,-0.013102837,-0.040898204,0.0039890856,-0.042113256,0.009301605,-0.006736574,0.00729244,0.04095789,0.008187192,0.033479996,-0.045263864,0.053675428,0.021400893,-0.022912245,-0.008685286,0.005992122,0.017530315,0.07397745,0.011812111,0.05388007,-0.02967923,0.007725702,0.012515963,0.021284716,0.047058728,0.02036197,-0.008376927,-0.030813279,-0.0008533338,0.017349789,0.039226975,0.014091931,-0.0037271904,0.010550164,-0.018637449,0.030591585,-0.043993387,-0.010188579,-0.032606013,0.015227579,0.050780624,-0.049186133,-0.014397293,-0.024534445,-0.017505268,-0.0047875955,-0.054118816,-0.015527078,0.03565856,0.06582168,-0.027832137,-0.024952251,-0.059763476,0.007782724,0.032674227,-0.015045853,0.06206568,-0.020680388,-0.06832426,0.0074621094,-0.011287188,0.039261084,0.011654901,-0.010773639,-0.035893045,0.02806982,0.032993976,0.056365598,0.018091476,0.00081269885,-0.035812043,0.0144058205,0.062176526,-0.00026539282,-0.014857735,0.0064696157,0.028705057,0.015800864,0.033968147,-0.019012358,-0.05359869,-0.02830004,0.039847292,0.059592944,-0.039815318,-0.013689845,-0.01931399,0.04248843,6.781372e-05,-0.033695295,0.04772381,0.0015193472,-0.01837712,-0.055304024,-0.0031783187,0.0010816555,0.08795267,0.046137847,-0.01994443,-0.016462881,-0.012804703,-0.009879087,0.024292503,0.011882714,0.019351292,0.07380691,-0.042684544,0.013345813,0.035036113,0.03961494,0.037056938,0.009053531,-0.04575841,-0.06968853,0.021891175,0.006035056,-0.021672547,-0.007162941,-0.04967642,0.030759986,0.031520993,-0.008165359,0.032697674,0.028494023,0.0029174555,-0.011265671,0.0040884083,-0.012526887,-0.007383036,-2.5047113e-05,0.018584957,0.0034354513,-0.022229046,-0.094731376,-0.04153344,-0.036590103,0.014858433,-0.00048308953,-0.025588557,0.06782119,0.0051944777,0.05352195,0.0960189,-0.0017891198,-0.065391086,-0.057448484,0.039148103,-0.065203495,0.049834162,0.025138775,-0.017030172,0.035155486,0.0413757,-0.00515331,0.0005045393,0.040631745,-0.03556477,0.0610169,-0.047237787,-0.037834994,-0.027282167,-0.038775064,-0.00030962494,0.032959066,0.022196537,0.016063193,-0.03154444,0.021282585,-0.031130897,-0.038986098,0.06391597,-0.01091841,-0.032162625,-0.03596126,-0.045992896,-0.020420324,0.04831215,-0.06991875,-0.075333185,0.040742595,-0.047242053,0.005969872,-0.026608558,-0.018744834,-0.013356456,0.0110185975,-0.031753343,0.029940624,-0.0068527833,-0.011364995,0.02503965,0.028061293,0.005717936,0.019134395,0.010922673,-0.0027605116,-0.025582163,-0.025290122,-0.040535823,0.024286106,-0.020798696,0.019890605,-0.018351939,-0.0047271093,-0.024012186,-0.012363682,-0.074327044,-0.026428435,0.014893972,-0.070976056,-0.025505422,0.04440267,0.0027487874,0.032034725,0.028523866,-0.0033014226,-0.01568269,-0.018655302,0.0034167992,0.0021319357,0.007675075,0.015259554,-0.10801594,0.0109418575,-0.014688799,-0.075120024,0.051015105,0.0021759013,-0.02727364,0.0010327937,-0.023305539,0.016896676,-0.033260435,-0.0672499,-0.025373258,-0.02496824,-0.0029587569,-0.05634428,0.013916602,0.034088586,-0.05089147,0.0013990412,-0.017769594,-0.014878517,-0.003222551,0.02221732,0.03451812,-0.017232414,-0.038480893,0.0028454452,-0.0037477408,-0.03672866,0.015695214,0.09482517,-0.03849368,-0.046214588,0.023608236,0.019436559,0.024492878,0.024430525,0.01931985,0.048486948,-0.01393099,0.009728938,-0.021824028,0.048772592,0.0067039663,0.03625543,0.0035848012,0.011050306,-0.018401634,-0.016207613,-0.045762673,-0.013908608,-0.0048884503,0.055564087,0.03761064,-0.043221723,-0.026881946,-0.02985829,0.028012265,-0.010045491,0.023350304,-0.08136155,-0.06267107,-0.04405094,-0.02238679,-0.00961223,0.03127798,-0.048674535,0.06882307,0.024822755,-0.03244827,-0.032188203,0.008272741,0.03363987,0.010356219,0.040235255,0.06132386,0.049343877,-0.03468865,0.06785955,0.05029034,0.011428543,0.032058172,0.015160431,-0.026180094,0.03410884,-0.014980305,-0.024593066,-0.036315117,-0.025646111,-0.0340726,-0.048764065,-0.0004904171,0.015786076,-0.029859355,0.02236334,-0.003686722,-0.07607501,0.03307711,0.0031394158,0.0034429121,0.00038583213,-0.009823881,-0.020375026,0.03187698,0.00810847,0.041576076,0.002433167,-0.009178967,-0.019757975,-0.018703265,-0.019325713,-0.012754309,0.026375143,-0.025019402,0.019209538,-0.06360048,-0.046487443,-0.034460563,-0.022928234,-0.05184646,0.0042646704,0.012023146,-0.06047972,-0.0025276267,0.015107139,0.035949532,-0.04584794,0.09301752,-0.011935748,0.023795823,-0.0008806458,0.07786561,-0.028195588,-0.029336032,0.03139949,0.0063523743,-0.016078647,-0.043144982,-0.008062173,0.0036803267,0.02365087,0.060471192,0.049646575,0.018328091,-0.0624238,-0.018580161,-0.006695306,0.025944546,0.012122802,0.0022347886,-0.060334764,-0.006413926,-0.007475764,-0.031932402,0.04694362,-0.059985172,-0.016162315,-0.038384967,-0.004377383,-0.060582038,-0.03154797,-0.0031873784,-0.028059162,-0.04094084,-0.011622192,0.0042429874,-0.05272897,-0.021879453,-0.0041117235,-0.0042193728,-0.0011553647,0.049702,-0.006526437,-0.018687144,0.0004375251,0.046265747,0.011627722,-0.01065728,-0.001758627,0.023518173,0.011500355,0.02588486,-0.008623668,0.025908306,-0.058416262,-0.011513146,0.03434985,0.033910595,0.010894061,-0.036858693,-0.027958838,0.03850221,-0.010970635,-0.031516727,-0.06633755,-0.0052593607\" SET r.source = \"PMID39890535\"'\n",
      "2025-03-02 12:18:51,201 - INFO - Received notification from DBMS server: {severity: INFORMATION} {code: Neo.ClientNotification.Statement.CartesianProduct} {category: PERFORMANCE} {title: This query builds a cartesian product between disconnected patterns.} {description: If a part of a query contains multiple disconnected patterns, this will build a cartesian product between all those parts. This may produce a large amount of data and slow down query processing. While occasionally intended, it may often be possible to reformulate the query that avoids the use of this cross product, perhaps by adding a relationship between the different parts or by using OPTIONAL MATCH (identifier is: (m))} {position: line: 1, column: 1, offset: 0} for query: 'MATCH (n:gene {name: \"abeta\"}), (m:disease {name: \"alzheimer\\'s disease\"}) MERGE (n)-[r:leads_to]->(m) SET r.embeddings = \"-0.019786686,0.032699805,-0.18124305,-0.017803168,0.08032982,0.031203374,0.046103742,-0.011533829,0.003730421,-0.041806296,-0.014528391,0.08267466,0.059213508,0.009666054,-0.014337607,0.006697771,0.018196994,-0.03144425,-0.0031561588,0.01705655,-0.0022707605,-0.064231455,0.01476767,-0.016684575,0.11406615,-0.0005098686,-0.020605246,-0.02260422,-0.025330625,-0.04616769,0.060667306,-0.031987827,0.005037134,-0.00694711,-0.026596837,-0.0072711236,0.048627637,-0.019475995,0.008857085,0.03823362,0.017097052,0.024242807,-0.044701103,-0.061357964,0.0009331382,-0.07725169,0.028770072,0.029144181,0.04650876,0.0065037226,-0.033098426,-0.014090333,-0.01408607,-0.03717631,0.06141765,0.035417683,0.08414125,0.005715538,0.04343489,-0.005901426,0.09439884,0.023117952,-0.048725694,0.0039771623,-0.013477478,-0.03962773,-0.016352566,0.028743427,0.002767839,-0.013995474,0.03874522,0.034362506,0.071982205,0.0109631745,-0.021529859,0.011411358,-0.0043840106,-0.011366859,0.036860824,0.037479006,0.015248896,0.008472252,0.037180573,-0.017256727,0.036121134,0.013409265,0.007198114,0.01420491,-0.03127372,0.055747412,-0.016342508,0.004408292,0.0262174,0.029992586,-0.07226358,-0.0024927207,-0.02171638,0.004753389,-0.069390096,-0.022235442,0.010805431,0.0014570624,0.035021193,-0.02858142,0.011313834,0.034042757,0.076526925,0.018017933,-0.0041077263,-0.024885107,-0.010115569,0.014198248,-0.015857488,-0.036515493,-0.010706308,0.010550696,0.08846427,-0.13825154,0.029186815,0.012134527,-0.0117886625,-0.045135964,0.021771803,0.03435931,0.0018319032,0.014616322,-0.012095824,0.034707837,-0.015425824,-0.020527974,0.011619462,-0.0403056,-0.037078254,-0.0017580942,0.03652189,0.06206568,-0.02137105,-0.008676959,0.05027755,0.012840908,0.0020192235,0.012777058,0.049655102,-0.017950252,0.039354876,-0.053884335,0.027939787,-0.043831382,0.0016928117,0.037299946,0.044048812,0.0076582874,-0.0076585542,0.040550742,0.0054927785,-0.06214242,-0.03827199,-0.02683132,-0.048932463,-0.08156619,0.013722138,-0.04481195,-0.04135012,0.018489297,-0.027834268,-0.050247706,0.012989858,0.05329173,0.021018257,0.08963243,-0.0222461,-0.014740758,0.0055892365,-0.0231414,0.070907846,0.0077043846,-0.040501714,-0.01333892,0.042087678,-0.05903871,0.064154714,-0.015360808,0.042622726,0.037766784,-0.0073077613,-0.009845114,0.007752881,-0.011694337,-0.04730174,0.005329173,-0.03107121,0.018139439,-0.04647465,-0.0023911998,-0.00575977,-0.056885723,0.018191397,-0.019809602,0.045570824,-0.0095710615,0.009477934,-0.045037907,-0.050908525,-0.007546642,-0.031736292,0.03085591,-0.0002216936,0.027328,-0.014082872,-0.0016707622,0.07540993,0.0033419244,-0.011306905,-0.020834401,-0.04707152,-0.06400123,-0.016350968,-0.020974824,-0.05145423,0.07778034,-0.015602753,0.049599677,0.039278135,-0.043780223,-0.013859048,-0.028717848,-0.023024159,-0.009904268,-0.020923398,-0.0006714758,-0.025639717,-0.054395933,0.026222726,-0.020230604,0.03617869,0.014280052,0.01719511,-0.002028949,0.00394119,0.0064511634,-0.02928487,0.060564984,0.02990945,-0.016583852,-0.03099447,0.031056289,0.0075628953,0.043714136,-0.011731507,0.05063567,-0.00988828,0.027639223,0.009412918,0.060948685,0.05988285,-0.008286997,-0.05247317,0.06582595,0.018122386,-0.06257728,0.021399828,-0.041145477,-0.0031167334,-0.026539281,-0.014873188,-0.011825435,-0.040710617,-0.020761391,0.026586179,-0.05561951,0.0032310775,0.037990607,0.029144181,0.059712317,-0.003967303,0.018417621,0.060104545,-0.003878572,0.0056084218,0.009098497,0.014987766,-0.06835837,-0.021489888,-0.035213042,0.01677304,-0.002931578,0.046368066,-0.02814656,0.019483456,-0.0054426845,0.036379065,0.0031378835,0.016368022,0.039390046,0.06912577,0.016941706,0.13313553,0.041584603,0.058748804,-0.00434221,0.024223354,0.07140239,0.010876842,0.021485094,0.033774167,-0.018583892,0.034066204,-0.009349434,0.027707435,0.025916833,-0.01234223,-0.025735643,-0.014444622,0.014998424,-0.07170935,0.03771349,-0.0063294587,0.021075813,0.0062299357,-0.041433252,0.011401232,-0.00837666,-0.04287426,-0.032675825,0.032151967,0.03267849,-0.0075306543,0.02980713,-0.019285211,-0.041580338,0.0145060085,0.033701688,-0.016735734,-0.009640474,-0.0026464672,-0.0042508147,0.014258735,0.029480984,-0.037893616,0.091627665,0.05562804,-0.03533455,-0.034093916,0.026021285,-0.03649844,-0.038514998,0.038804907,0.029336032,0.03599963,-0.013102837,-0.040898204,0.0039890856,-0.042113256,0.009301605,-0.006736574,0.00729244,0.04095789,0.008187192,0.033479996,-0.045263864,0.053675428,0.021400893,-0.022912245,-0.008685286,0.005992122,0.017530315,0.07397745,0.011812111,0.05388007,-0.02967923,0.007725702,0.012515963,0.021284716,0.047058728,0.02036197,-0.008376927,-0.030813279,-0.0008533338,0.017349789,0.039226975,0.014091931,-0.0037271904,0.010550164,-0.018637449,0.030591585,-0.043993387,-0.010188579,-0.032606013,0.015227579,0.050780624,-0.049186133,-0.014397293,-0.024534445,-0.017505268,-0.0047875955,-0.054118816,-0.015527078,0.03565856,0.06582168,-0.027832137,-0.024952251,-0.059763476,0.007782724,0.032674227,-0.015045853,0.06206568,-0.020680388,-0.06832426,0.0074621094,-0.011287188,0.039261084,0.011654901,-0.010773639,-0.035893045,0.02806982,0.032993976,0.056365598,0.018091476,0.00081269885,-0.035812043,0.0144058205,0.062176526,-0.00026539282,-0.014857735,0.0064696157,0.028705057,0.015800864,0.033968147,-0.019012358,-0.05359869,-0.02830004,0.039847292,0.059592944,-0.039815318,-0.013689845,-0.01931399,0.04248843,6.781372e-05,-0.033695295,0.04772381,0.0015193472,-0.01837712,-0.055304024,-0.0031783187,0.0010816555,0.08795267,0.046137847,-0.01994443,-0.016462881,-0.012804703,-0.009879087,0.024292503,0.011882714,0.019351292,0.07380691,-0.042684544,0.013345813,0.035036113,0.03961494,0.037056938,0.009053531,-0.04575841,-0.06968853,0.021891175,0.006035056,-0.021672547,-0.007162941,-0.04967642,0.030759986,0.031520993,-0.008165359,0.032697674,0.028494023,0.0029174555,-0.011265671,0.0040884083,-0.012526887,-0.007383036,-2.5047113e-05,0.018584957,0.0034354513,-0.022229046,-0.094731376,-0.04153344,-0.036590103,0.014858433,-0.00048308953,-0.025588557,0.06782119,0.0051944777,0.05352195,0.0960189,-0.0017891198,-0.065391086,-0.057448484,0.039148103,-0.065203495,0.049834162,0.025138775,-0.017030172,0.035155486,0.0413757,-0.00515331,0.0005045393,0.040631745,-0.03556477,0.0610169,-0.047237787,-0.037834994,-0.027282167,-0.038775064,-0.00030962494,0.032959066,0.022196537,0.016063193,-0.03154444,0.021282585,-0.031130897,-0.038986098,0.06391597,-0.01091841,-0.032162625,-0.03596126,-0.045992896,-0.020420324,0.04831215,-0.06991875,-0.075333185,0.040742595,-0.047242053,0.005969872,-0.026608558,-0.018744834,-0.013356456,0.0110185975,-0.031753343,0.029940624,-0.0068527833,-0.011364995,0.02503965,0.028061293,0.005717936,0.019134395,0.010922673,-0.0027605116,-0.025582163,-0.025290122,-0.040535823,0.024286106,-0.020798696,0.019890605,-0.018351939,-0.0047271093,-0.024012186,-0.012363682,-0.074327044,-0.026428435,0.014893972,-0.070976056,-0.025505422,0.04440267,0.0027487874,0.032034725,0.028523866,-0.0033014226,-0.01568269,-0.018655302,0.0034167992,0.0021319357,0.007675075,0.015259554,-0.10801594,0.0109418575,-0.014688799,-0.075120024,0.051015105,0.0021759013,-0.02727364,0.0010327937,-0.023305539,0.016896676,-0.033260435,-0.0672499,-0.025373258,-0.02496824,-0.0029587569,-0.05634428,0.013916602,0.034088586,-0.05089147,0.0013990412,-0.017769594,-0.014878517,-0.003222551,0.02221732,0.03451812,-0.017232414,-0.038480893,0.0028454452,-0.0037477408,-0.03672866,0.015695214,0.09482517,-0.03849368,-0.046214588,0.023608236,0.019436559,0.024492878,0.024430525,0.01931985,0.048486948,-0.01393099,0.009728938,-0.021824028,0.048772592,0.0067039663,0.03625543,0.0035848012,0.011050306,-0.018401634,-0.016207613,-0.045762673,-0.013908608,-0.0048884503,0.055564087,0.03761064,-0.043221723,-0.026881946,-0.02985829,0.028012265,-0.010045491,0.023350304,-0.08136155,-0.06267107,-0.04405094,-0.02238679,-0.00961223,0.03127798,-0.048674535,0.06882307,0.024822755,-0.03244827,-0.032188203,0.008272741,0.03363987,0.010356219,0.040235255,0.06132386,0.049343877,-0.03468865,0.06785955,0.05029034,0.011428543,0.032058172,0.015160431,-0.026180094,0.03410884,-0.014980305,-0.024593066,-0.036315117,-0.025646111,-0.0340726,-0.048764065,-0.0004904171,0.015786076,-0.029859355,0.02236334,-0.003686722,-0.07607501,0.03307711,0.0031394158,0.0034429121,0.00038583213,-0.009823881,-0.020375026,0.03187698,0.00810847,0.041576076,0.002433167,-0.009178967,-0.019757975,-0.018703265,-0.019325713,-0.012754309,0.026375143,-0.025019402,0.019209538,-0.06360048,-0.046487443,-0.034460563,-0.022928234,-0.05184646,0.0042646704,0.012023146,-0.06047972,-0.0025276267,0.015107139,0.035949532,-0.04584794,0.09301752,-0.011935748,0.023795823,-0.0008806458,0.07786561,-0.028195588,-0.029336032,0.03139949,0.0063523743,-0.016078647,-0.043144982,-0.008062173,0.0036803267,0.02365087,0.060471192,0.049646575,0.018328091,-0.0624238,-0.018580161,-0.006695306,0.025944546,0.012122802,0.0022347886,-0.060334764,-0.006413926,-0.007475764,-0.031932402,0.04694362,-0.059985172,-0.016162315,-0.038384967,-0.004377383,-0.060582038,-0.03154797,-0.0031873784,-0.028059162,-0.04094084,-0.011622192,0.0042429874,-0.05272897,-0.021879453,-0.0041117235,-0.0042193728,-0.0011553647,0.049702,-0.006526437,-0.018687144,0.0004375251,0.046265747,0.011627722,-0.01065728,-0.001758627,0.023518173,0.011500355,0.02588486,-0.008623668,0.025908306,-0.058416262,-0.011513146,0.03434985,0.033910595,0.010894061,-0.036858693,-0.027958838,0.03850221,-0.010970635,-0.031516727,-0.06633755,-0.0052593607\" SET r.source = \"PMID39890535\"'\n",
      "2025-03-02 12:18:51,451 - INFO - Received notification from DBMS server: {severity: INFORMATION} {code: Neo.ClientNotification.Statement.CartesianProduct} {category: PERFORMANCE} {title: This query builds a cartesian product between disconnected patterns.} {description: If a part of a query contains multiple disconnected patterns, this will build a cartesian product between all those parts. This may produce a large amount of data and slow down query processing. While occasionally intended, it may often be possible to reformulate the query that avoids the use of this cross product, perhaps by adding a relationship between the different parts or by using OPTIONAL MATCH (identifier is: (m))} {position: line: 1, column: 1, offset: 0} for query: 'MATCH (n:gene {name: \"tau\"}), (m:disease {name: \"cognitively impaired\"}) MERGE (n)-[r:leads_to]->(m) SET r.embeddings = \"-0.019786686,0.032699805,-0.18124305,-0.017803168,0.08032982,0.031203374,0.046103742,-0.011533829,0.003730421,-0.041806296,-0.014528391,0.08267466,0.059213508,0.009666054,-0.014337607,0.006697771,0.018196994,-0.03144425,-0.0031561588,0.01705655,-0.0022707605,-0.064231455,0.01476767,-0.016684575,0.11406615,-0.0005098686,-0.020605246,-0.02260422,-0.025330625,-0.04616769,0.060667306,-0.031987827,0.005037134,-0.00694711,-0.026596837,-0.0072711236,0.048627637,-0.019475995,0.008857085,0.03823362,0.017097052,0.024242807,-0.044701103,-0.061357964,0.0009331382,-0.07725169,0.028770072,0.029144181,0.04650876,0.0065037226,-0.033098426,-0.014090333,-0.01408607,-0.03717631,0.06141765,0.035417683,0.08414125,0.005715538,0.04343489,-0.005901426,0.09439884,0.023117952,-0.048725694,0.0039771623,-0.013477478,-0.03962773,-0.016352566,0.028743427,0.002767839,-0.013995474,0.03874522,0.034362506,0.071982205,0.0109631745,-0.021529859,0.011411358,-0.0043840106,-0.011366859,0.036860824,0.037479006,0.015248896,0.008472252,0.037180573,-0.017256727,0.036121134,0.013409265,0.007198114,0.01420491,-0.03127372,0.055747412,-0.016342508,0.004408292,0.0262174,0.029992586,-0.07226358,-0.0024927207,-0.02171638,0.004753389,-0.069390096,-0.022235442,0.010805431,0.0014570624,0.035021193,-0.02858142,0.011313834,0.034042757,0.076526925,0.018017933,-0.0041077263,-0.024885107,-0.010115569,0.014198248,-0.015857488,-0.036515493,-0.010706308,0.010550696,0.08846427,-0.13825154,0.029186815,0.012134527,-0.0117886625,-0.045135964,0.021771803,0.03435931,0.0018319032,0.014616322,-0.012095824,0.034707837,-0.015425824,-0.020527974,0.011619462,-0.0403056,-0.037078254,-0.0017580942,0.03652189,0.06206568,-0.02137105,-0.008676959,0.05027755,0.012840908,0.0020192235,0.012777058,0.049655102,-0.017950252,0.039354876,-0.053884335,0.027939787,-0.043831382,0.0016928117,0.037299946,0.044048812,0.0076582874,-0.0076585542,0.040550742,0.0054927785,-0.06214242,-0.03827199,-0.02683132,-0.048932463,-0.08156619,0.013722138,-0.04481195,-0.04135012,0.018489297,-0.027834268,-0.050247706,0.012989858,0.05329173,0.021018257,0.08963243,-0.0222461,-0.014740758,0.0055892365,-0.0231414,0.070907846,0.0077043846,-0.040501714,-0.01333892,0.042087678,-0.05903871,0.064154714,-0.015360808,0.042622726,0.037766784,-0.0073077613,-0.009845114,0.007752881,-0.011694337,-0.04730174,0.005329173,-0.03107121,0.018139439,-0.04647465,-0.0023911998,-0.00575977,-0.056885723,0.018191397,-0.019809602,0.045570824,-0.0095710615,0.009477934,-0.045037907,-0.050908525,-0.007546642,-0.031736292,0.03085591,-0.0002216936,0.027328,-0.014082872,-0.0016707622,0.07540993,0.0033419244,-0.011306905,-0.020834401,-0.04707152,-0.06400123,-0.016350968,-0.020974824,-0.05145423,0.07778034,-0.015602753,0.049599677,0.039278135,-0.043780223,-0.013859048,-0.028717848,-0.023024159,-0.009904268,-0.020923398,-0.0006714758,-0.025639717,-0.054395933,0.026222726,-0.020230604,0.03617869,0.014280052,0.01719511,-0.002028949,0.00394119,0.0064511634,-0.02928487,0.060564984,0.02990945,-0.016583852,-0.03099447,0.031056289,0.0075628953,0.043714136,-0.011731507,0.05063567,-0.00988828,0.027639223,0.009412918,0.060948685,0.05988285,-0.008286997,-0.05247317,0.06582595,0.018122386,-0.06257728,0.021399828,-0.041145477,-0.0031167334,-0.026539281,-0.014873188,-0.011825435,-0.040710617,-0.020761391,0.026586179,-0.05561951,0.0032310775,0.037990607,0.029144181,0.059712317,-0.003967303,0.018417621,0.060104545,-0.003878572,0.0056084218,0.009098497,0.014987766,-0.06835837,-0.021489888,-0.035213042,0.01677304,-0.002931578,0.046368066,-0.02814656,0.019483456,-0.0054426845,0.036379065,0.0031378835,0.016368022,0.039390046,0.06912577,0.016941706,0.13313553,0.041584603,0.058748804,-0.00434221,0.024223354,0.07140239,0.010876842,0.021485094,0.033774167,-0.018583892,0.034066204,-0.009349434,0.027707435,0.025916833,-0.01234223,-0.025735643,-0.014444622,0.014998424,-0.07170935,0.03771349,-0.0063294587,0.021075813,0.0062299357,-0.041433252,0.011401232,-0.00837666,-0.04287426,-0.032675825,0.032151967,0.03267849,-0.0075306543,0.02980713,-0.019285211,-0.041580338,0.0145060085,0.033701688,-0.016735734,-0.009640474,-0.0026464672,-0.0042508147,0.014258735,0.029480984,-0.037893616,0.091627665,0.05562804,-0.03533455,-0.034093916,0.026021285,-0.03649844,-0.038514998,0.038804907,0.029336032,0.03599963,-0.013102837,-0.040898204,0.0039890856,-0.042113256,0.009301605,-0.006736574,0.00729244,0.04095789,0.008187192,0.033479996,-0.045263864,0.053675428,0.021400893,-0.022912245,-0.008685286,0.005992122,0.017530315,0.07397745,0.011812111,0.05388007,-0.02967923,0.007725702,0.012515963,0.021284716,0.047058728,0.02036197,-0.008376927,-0.030813279,-0.0008533338,0.017349789,0.039226975,0.014091931,-0.0037271904,0.010550164,-0.018637449,0.030591585,-0.043993387,-0.010188579,-0.032606013,0.015227579,0.050780624,-0.049186133,-0.014397293,-0.024534445,-0.017505268,-0.0047875955,-0.054118816,-0.015527078,0.03565856,0.06582168,-0.027832137,-0.024952251,-0.059763476,0.007782724,0.032674227,-0.015045853,0.06206568,-0.020680388,-0.06832426,0.0074621094,-0.011287188,0.039261084,0.011654901,-0.010773639,-0.035893045,0.02806982,0.032993976,0.056365598,0.018091476,0.00081269885,-0.035812043,0.0144058205,0.062176526,-0.00026539282,-0.014857735,0.0064696157,0.028705057,0.015800864,0.033968147,-0.019012358,-0.05359869,-0.02830004,0.039847292,0.059592944,-0.039815318,-0.013689845,-0.01931399,0.04248843,6.781372e-05,-0.033695295,0.04772381,0.0015193472,-0.01837712,-0.055304024,-0.0031783187,0.0010816555,0.08795267,0.046137847,-0.01994443,-0.016462881,-0.012804703,-0.009879087,0.024292503,0.011882714,0.019351292,0.07380691,-0.042684544,0.013345813,0.035036113,0.03961494,0.037056938,0.009053531,-0.04575841,-0.06968853,0.021891175,0.006035056,-0.021672547,-0.007162941,-0.04967642,0.030759986,0.031520993,-0.008165359,0.032697674,0.028494023,0.0029174555,-0.011265671,0.0040884083,-0.012526887,-0.007383036,-2.5047113e-05,0.018584957,0.0034354513,-0.022229046,-0.094731376,-0.04153344,-0.036590103,0.014858433,-0.00048308953,-0.025588557,0.06782119,0.0051944777,0.05352195,0.0960189,-0.0017891198,-0.065391086,-0.057448484,0.039148103,-0.065203495,0.049834162,0.025138775,-0.017030172,0.035155486,0.0413757,-0.00515331,0.0005045393,0.040631745,-0.03556477,0.0610169,-0.047237787,-0.037834994,-0.027282167,-0.038775064,-0.00030962494,0.032959066,0.022196537,0.016063193,-0.03154444,0.021282585,-0.031130897,-0.038986098,0.06391597,-0.01091841,-0.032162625,-0.03596126,-0.045992896,-0.020420324,0.04831215,-0.06991875,-0.075333185,0.040742595,-0.047242053,0.005969872,-0.026608558,-0.018744834,-0.013356456,0.0110185975,-0.031753343,0.029940624,-0.0068527833,-0.011364995,0.02503965,0.028061293,0.005717936,0.019134395,0.010922673,-0.0027605116,-0.025582163,-0.025290122,-0.040535823,0.024286106,-0.020798696,0.019890605,-0.018351939,-0.0047271093,-0.024012186,-0.012363682,-0.074327044,-0.026428435,0.014893972,-0.070976056,-0.025505422,0.04440267,0.0027487874,0.032034725,0.028523866,-0.0033014226,-0.01568269,-0.018655302,0.0034167992,0.0021319357,0.007675075,0.015259554,-0.10801594,0.0109418575,-0.014688799,-0.075120024,0.051015105,0.0021759013,-0.02727364,0.0010327937,-0.023305539,0.016896676,-0.033260435,-0.0672499,-0.025373258,-0.02496824,-0.0029587569,-0.05634428,0.013916602,0.034088586,-0.05089147,0.0013990412,-0.017769594,-0.014878517,-0.003222551,0.02221732,0.03451812,-0.017232414,-0.038480893,0.0028454452,-0.0037477408,-0.03672866,0.015695214,0.09482517,-0.03849368,-0.046214588,0.023608236,0.019436559,0.024492878,0.024430525,0.01931985,0.048486948,-0.01393099,0.009728938,-0.021824028,0.048772592,0.0067039663,0.03625543,0.0035848012,0.011050306,-0.018401634,-0.016207613,-0.045762673,-0.013908608,-0.0048884503,0.055564087,0.03761064,-0.043221723,-0.026881946,-0.02985829,0.028012265,-0.010045491,0.023350304,-0.08136155,-0.06267107,-0.04405094,-0.02238679,-0.00961223,0.03127798,-0.048674535,0.06882307,0.024822755,-0.03244827,-0.032188203,0.008272741,0.03363987,0.010356219,0.040235255,0.06132386,0.049343877,-0.03468865,0.06785955,0.05029034,0.011428543,0.032058172,0.015160431,-0.026180094,0.03410884,-0.014980305,-0.024593066,-0.036315117,-0.025646111,-0.0340726,-0.048764065,-0.0004904171,0.015786076,-0.029859355,0.02236334,-0.003686722,-0.07607501,0.03307711,0.0031394158,0.0034429121,0.00038583213,-0.009823881,-0.020375026,0.03187698,0.00810847,0.041576076,0.002433167,-0.009178967,-0.019757975,-0.018703265,-0.019325713,-0.012754309,0.026375143,-0.025019402,0.019209538,-0.06360048,-0.046487443,-0.034460563,-0.022928234,-0.05184646,0.0042646704,0.012023146,-0.06047972,-0.0025276267,0.015107139,0.035949532,-0.04584794,0.09301752,-0.011935748,0.023795823,-0.0008806458,0.07786561,-0.028195588,-0.029336032,0.03139949,0.0063523743,-0.016078647,-0.043144982,-0.008062173,0.0036803267,0.02365087,0.060471192,0.049646575,0.018328091,-0.0624238,-0.018580161,-0.006695306,0.025944546,0.012122802,0.0022347886,-0.060334764,-0.006413926,-0.007475764,-0.031932402,0.04694362,-0.059985172,-0.016162315,-0.038384967,-0.004377383,-0.060582038,-0.03154797,-0.0031873784,-0.028059162,-0.04094084,-0.011622192,0.0042429874,-0.05272897,-0.021879453,-0.0041117235,-0.0042193728,-0.0011553647,0.049702,-0.006526437,-0.018687144,0.0004375251,0.046265747,0.011627722,-0.01065728,-0.001758627,0.023518173,0.011500355,0.02588486,-0.008623668,0.025908306,-0.058416262,-0.011513146,0.03434985,0.033910595,0.010894061,-0.036858693,-0.027958838,0.03850221,-0.010970635,-0.031516727,-0.06633755,-0.0052593607\" SET r.source = \"PMID39890535\"'\n"
     ]
    }
   ],
   "source": [
    "GraphIntegrator(uri=URI, username=USERNAME, password=PASSWORD).visualize_graph(knowledge_graph=kg)"
   ]
  }
 ],
 "metadata": {
  "kernelspec": {
   "display_name": "Python 3",
   "language": "python",
   "name": "python3"
  },
  "language_info": {
   "codemirror_mode": {
    "name": "ipython",
    "version": 3
   },
   "file_extension": ".py",
   "mimetype": "text/x-python",
   "name": "python",
   "nbconvert_exporter": "python",
   "pygments_lexer": "ipython3",
   "version": "3.10.16"
  }
 },
 "nbformat": 4,
 "nbformat_minor": 2
}
