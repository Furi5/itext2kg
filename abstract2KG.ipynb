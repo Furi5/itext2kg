{
 "cells": [
  {
   "cell_type": "code",
   "execution_count": 1,
   "metadata": {},
   "outputs": [
    {
     "name": "stderr",
     "output_type": "stream",
     "text": [
      "/home/mindrank/miniconda3/envs/kg/lib/python3.11/site-packages/pydantic/_internal/_generate_schema.py:502: UserWarning: <built-in function array> is not a Python type (it may be an instance of an object), Pydantic will allow any object with no validation since we cannot even enforce that the input is an instance of the given type. To get rid of this error wrap the type with `pydantic.SkipValidation`.\n",
      "  warn(\n"
     ]
    }
   ],
   "source": [
    "%load_ext autoreload\n",
    "%autoreload 2\n",
    "import sys\n",
    "sys.path.append(\"..\")\n",
    "\n",
    "import json\n",
    "import pickle\n",
    "import logging\n",
    "import os\n",
    "\n",
    "import pandas as pd\n",
    "import numpy as np\n",
    "\n",
    "from itext2kg import iText2KG\n",
    "from itext2kg.utils import PubtatorProcessor\n",
    "from langchain_ollama import ChatOllama, OllamaEmbeddings\n",
    "from itext2kg.graph_integration import GraphIntegrator"
   ]
  },
  {
   "cell_type": "code",
   "execution_count": 2,
   "metadata": {},
   "outputs": [],
   "source": [
    "logging.basicConfig(level=logging.INFO, format='%(asctime)s - %(levelname)s - %(message)s')"
   ]
  },
  {
   "cell_type": "code",
   "execution_count": 3,
   "metadata": {},
   "outputs": [],
   "source": [
    "NEO4J_URI = \"neo4j+s://435eb4f0.databases.neo4j.io\"\n",
    "NEO4J_USERNAME = \"neo4j\"\n",
    "NEO4J_PASSWORD = \"nqL3At3rptFpfRrBhg5Y1-7k78oHqVaW42WKtqVRnJo\"\n",
    "\n",
    "llm = ChatOllama(\n",
    "    model=\"deepseek-r1:32b\",\n",
    "    temperature=0,\n",
    ")\n",
    "\n",
    "embeddings = OllamaEmbeddings(\n",
    "    model=\"nomic-embed-text:latest\",\n",
    ")"
   ]
  },
  {
   "cell_type": "code",
   "execution_count": 4,
   "metadata": {},
   "outputs": [],
   "source": [
    "DATA_PATH = \"/home/mindrank/fuli/itext2kg/Data/delirium\"\n",
    "OUTPUT_PATH = \"/home/mindrank/fuli/itext2kg/output_kg/delirium\"\n",
    "pmid_list =[]\n",
    "for file_name in os.listdir(DATA_PATH):\n",
    "    pmid = file_name.split('.')[0]\n",
    "    if os.path.exists(f\"{OUTPUT_PATH}/{pmid}.pkl\"):\n",
    "        pass\n",
    "    else:\n",
    "        pmid_list.append(pmid)\n",
    "\n",
    "pmid_list_chunk = np.array_split(pmid_list, 10)"
   ]
  },
  {
   "cell_type": "code",
   "execution_count": null,
   "metadata": {},
   "outputs": [
    {
     "name": "stdout",
     "output_type": "stream",
     "text": [
      "35137933\n"
     ]
    }
   ],
   "source": [
    "# for i in pmid_list_chunk[0]:\n",
    "#     print(i)\n",
    "#     break"
   ]
  },
  {
   "cell_type": "code",
   "execution_count": 6,
   "metadata": {},
   "outputs": [],
   "source": [
    "PUTATOR_PATH = \"/home/mindrank/fuli/itext2kg/Data/delirium\"\n",
    "JSON_PATH = \"/home/mindrank/fuli/itext2kg/output_kg/\"\n",
    "PMID = 52451"
   ]
  },
  {
   "cell_type": "code",
   "execution_count": 7,
   "metadata": {},
   "outputs": [],
   "source": [
    "with open(f\"{PUTATOR_PATH}/{PMID}.txt\", \"r\") as f:\n",
    "    text = f.readlines()"
   ]
  },
  {
   "cell_type": "code",
   "execution_count": 8,
   "metadata": {},
   "outputs": [
    {
     "data": {
      "text/plain": [
       "['52451|t|Proceedings: EEG investigation during delirium tremens.\\n',\n",
       " '52451|a|\\n',\n",
       " '52451\\t38\\t54\\tdelirium tremens\\tDisease\\tMESH:D000430\\n',\n",
       " '\\n']"
      ]
     },
     "execution_count": 8,
     "metadata": {},
     "output_type": "execute_result"
    }
   ],
   "source": [
    "text"
   ]
  },
  {
   "cell_type": "code",
   "execution_count": 23,
   "metadata": {},
   "outputs": [
    {
     "name": "stderr",
     "output_type": "stream",
     "text": [
      "2025-03-09 13:16:14,811 - INFO - Processing PubTator file: /home/mindrank/fuli/itext2kg/Data/delirium/37359413.txt\n",
      "2025-03-09 13:16:14,813 - WARNING - Skipping malformed entity line: ['37359413', 'Association', 'MESH:D000069348', 'MESH:D017291']\n",
      "2025-03-09 13:16:14,814 - WARNING - Skipping malformed entity line: ['37359413', 'Positive_Correlation', 'MESH:D017291', 'MESH:C537863']\n",
      "2025-03-09 13:16:14,814 - WARNING - Skipping malformed entity line: ['37359413', 'Positive_Correlation', 'MESH:D017963', 'MESH:D001927']\n",
      "2025-03-09 13:16:14,815 - WARNING - Skipping malformed entity line: ['37359413', 'Association', 'MESH:D000069348', '1576']\n",
      "2025-03-09 13:16:14,816 - WARNING - Skipping malformed entity line: ['37359413', 'Association', 'MESH:D000069348', 'MESH:D018942']\n",
      "2025-03-09 13:16:14,817 - WARNING - Skipping malformed entity line: ['37359413', 'Comparison', 'MESH:D017291', 'MESH:D017963']\n",
      "2025-03-09 13:16:14,818 - WARNING - Skipping malformed entity line: ['37359413', 'Positive_Correlation', 'MESH:D017963', 'MESH:D002546']\n",
      "2025-03-09 13:16:14,819 - WARNING - Skipping malformed entity line: ['37359413', 'Positive_Correlation', 'MESH:D017963', 'MESH:D003693']\n",
      "2025-03-09 13:16:14,819 - WARNING - Skipping malformed entity line: ['37359413', 'Positive_Correlation', 'MESH:D017291', 'MESH:D002546']\n",
      "2025-03-09 13:16:14,820 - WARNING - Skipping malformed entity line: ['37359413', 'Positive_Correlation', 'MESH:D017291', 'MESH:D050723']\n",
      "2025-03-09 13:16:14,820 - WARNING - Skipping malformed entity line: ['37359413', 'Association', 'MESH:D000069348', 'MESH:D017963']\n",
      "2025-03-09 13:16:14,821 - WARNING - Skipping malformed entity line: ['37359413', 'Positive_Correlation', 'MESH:D017291', 'MESH:D003693']\n",
      "2025-03-09 13:16:14,821 - WARNING - Skipping malformed entity line: ['37359413', 'Positive_Correlation', 'MESH:D000069348', 'MESH:D001927']\n",
      "2025-03-09 13:16:14,821 - WARNING - Skipping malformed entity line: ['37359413', 'Positive_Correlation', 'MESH:D017291', 'MESH:D005600']\n",
      "2025-03-09 13:16:14,821 - WARNING - Skipping malformed entity line: ['37359413', 'Negative_Correlation', 'MESH:D017291', '1576']\n",
      "2025-03-09 13:16:14,821 - WARNING - Skipping malformed entity line: ['37359413', 'Positive_Correlation', 'MESH:D017963', 'MESH:D005600']\n",
      "2025-03-09 13:16:14,822 - WARNING - Skipping malformed entity line: ['37359413', 'Positive_Correlation', 'MESH:D017291', 'MESH:D001927']\n",
      "2025-03-09 13:16:14,822 - WARNING - Skipping malformed entity line: ['37359413', 'Association', 'MESH:D018942', 'MESH:C537863']\n",
      "2025-03-09 13:16:14,822 - WARNING - Skipping malformed entity line: ['']\n"
     ]
    },
    {
     "name": "stderr",
     "output_type": "stream",
     "text": [
      "2025-03-09 13:16:30,175 - INFO - HTTP Request: POST http://127.0.0.1:11434/api/chat \"HTTP/1.1 200 OK\"\n",
      "2025-03-09 13:17:21,687 - INFO - Abstract distilled successfully.\n",
      "2025-03-09 13:17:21,689 - INFO - Adding encephalopathy to the abstract\n",
      "2025-03-09 13:17:21,690 - INFO - Adding delirium to the abstract\n",
      "2025-03-09 13:17:21,691 - INFO - Adding transient ischemic attack to the abstract\n",
      "2025-03-09 13:17:21,691 - INFO - Adding dementia to the abstract\n",
      "2025-03-09 13:17:21,692 - INFO - Adding fracture to the abstract\n",
      "2025-03-09 13:17:21,692 - INFO - Adding fragility fractures to the abstract\n",
      "2025-03-09 13:17:21,693 - INFO - Adding falls to the abstract\n",
      "2025-03-09 13:17:21,693 - INFO - Adding cytochrome P450 3A4 to the abstract\n",
      "2025-03-09 13:17:21,694 - INFO - Adding CYP3A4 to the abstract\n",
      "2025-03-09 13:17:21,694 - INFO - Adding [{'chemical': 'quetiapine'}, {'chemical': 'clarithromycin'}, {'chemical': 'Quetiapine'}, {'chemical': 'azithromycin'}, {'chemical': 'macrolide'}] to the abstract\n"
     ]
    }
   ],
   "source": [
    "pubtator_file = f\"{PUTATOR_PATH}/{PMID}.txt\"\n",
    "pubtator_process = PubtatorProcessor(pubtator_file, llm)\n",
    "semantic_blocks = pubtator_process.block\n",
    "properties_info = pubtator_process.properties_info\n",
    "pubtator_info = pubtator_process.pubtator_info"
   ]
  },
  {
   "cell_type": "code",
   "execution_count": 24,
   "metadata": {},
   "outputs": [
    {
     "data": {
      "text/plain": [
       "{'source': 'PMID37359413'}"
      ]
     },
     "execution_count": 24,
     "metadata": {},
     "output_type": "execute_result"
    }
   ],
   "source": [
    "properties_info"
   ]
  },
  {
   "cell_type": "code",
   "execution_count": 25,
   "metadata": {},
   "outputs": [
    {
     "data": {
      "text/plain": [
       "[\"disease - [['disease': 'encephalopathy'], ['disease': 'delirium'], ['disease': 'transient ischemic attack'], ['disease': 'dementia'], ['disease': 'fracture'], ['disease': 'fragility fractures'], ['disease': 'falls']]\",\n",
       " \"gene - [['gene': 'cytochrome P450 3A4'], ['gene': 'CYP3A4']]\",\n",
       " \"chemical - [['chemical': 'quetiapine'], ['chemical': 'clarithromycin'], ['chemical': 'Quetiapine'], ['chemical': 'azithromycin'], ['chemical': 'macrolide']]\",\n",
       " 'Title: Adverse events with quetiapine and clarithromycin coprescription: A population-based retrospective cohort study.\\n Abstract: Background and Aims Quetiapine is an atypical antipsychotic predominantly metabolized by the cytochrome P450 3A4 CYP3A4 enzyme We studied the risk of adverse events following coprescription of clarithromycin a strong CYP3A4 inhibitor versus azithromycin not a CYP3A4 inhibitor in quetiapine users Materials and Methods This was a population-based retrospective cohort study from 2004 to 2020 in Ontario Canada in adult quetiapine users newly co-prescribed clarithromycin n  16909 or azithromycin n  25267 The primary outcome was the composite of hospital encounters with encephalopathy defined as a diagnosis of delirium disorientation transient alteration of awareness transient ischemic attack or unspecified dementia a fall or a fracture within 30 days of new coprescription Secondary outcomes were individual components of the composite outcome hospital encounter with computed tomography CT head scan and all-cause mortality Results Coprescription of clarithromycin versus azithromycin with quetiapine was associated with a higher risk of the primary composite outcome 365 of 16909 clarithromycin users 22% vs 309 of 16929 azithromycin users 18% absolute risk increase 034% 95% confidence interval CI 004-063 relative risk RR 119 95% CI 102-138 This was primarily driven by an increase in fragility fractures 78 of 16909 clarithromycin users 05% vs 45 of 16923 azithromycin users 03% absolute risk increase 020% 95% CI 007-032 RR 174 95% CI 121-252 Hospital encounters with a CT head scan were higher in clarithromycin users 220 of 16909 13% vs 175 of 16923 azithromycin users 10% absolute risk increase 027% 95% CI 004-050 RR 126 95% CI 104-154 but there was no difference in hospital encounters with encephalopathy falls or all-cause mortality between macrolide groups Conclusion Among adults taking quetiapine concurrent use of clarithromycin compared with azithromycin was associated with a small but statistically greater 30-day risk of a hospital encounter for encephalopathy falls or fracture which was predominantly related to a higher rate of fragility fractures.']"
      ]
     },
     "execution_count": 25,
     "metadata": {},
     "output_type": "execute_result"
    }
   ],
   "source": [
    "semantic_blocks"
   ]
  },
  {
   "cell_type": "code",
   "execution_count": 26,
   "metadata": {},
   "outputs": [],
   "source": [
    "pubtator_info['abstract'] = {'context':semantic_blocks[-1], 'source':properties_info['source']}"
   ]
  },
  {
   "cell_type": "code",
   "execution_count": 27,
   "metadata": {},
   "outputs": [
    {
     "data": {
      "text/plain": [
       "{'quetiapine': {'label': 'chemical', 'unique_id': 'MESH:D000069348'},\n",
       " 'clarithromycin': {'label': 'chemical', 'unique_id': 'MESH:D017291'},\n",
       " 'Quetiapine': {'label': 'chemical', 'unique_id': 'MESH:D000069348'},\n",
       " 'cytochrome P450 3A4': {'label': 'gene', 'unique_id': 'Gene ID:1576'},\n",
       " 'CYP3A4': {'label': 'gene', 'unique_id': 'Gene ID:1576'},\n",
       " 'azithromycin': {'label': 'chemical', 'unique_id': 'MESH:D017963'},\n",
       " 'encephalopathy': {'label': 'disease', 'unique_id': 'MESH:D001927'},\n",
       " 'delirium': {'label': 'disease', 'unique_id': 'MESH:D003693'},\n",
       " 'transient ischemic attack': {'label': 'disease',\n",
       "  'unique_id': 'MESH:D002546'},\n",
       " 'dementia': {'label': 'disease', 'unique_id': 'MESH:D003704'},\n",
       " 'fracture': {'label': 'disease', 'unique_id': 'MESH:D050723'},\n",
       " 'fragility fractures': {'label': 'disease', 'unique_id': 'MESH:D005600'},\n",
       " 'falls': {'label': 'disease', 'unique_id': 'MESH:C537863'},\n",
       " 'macrolide': {'label': 'chemical', 'unique_id': 'MESH:D018942'},\n",
       " 'abstract': {'context': 'Title: Adverse events with quetiapine and clarithromycin coprescription: A population-based retrospective cohort study.\\n Abstract: Background and Aims Quetiapine is an atypical antipsychotic predominantly metabolized by the cytochrome P450 3A4 CYP3A4 enzyme We studied the risk of adverse events following coprescription of clarithromycin a strong CYP3A4 inhibitor versus azithromycin not a CYP3A4 inhibitor in quetiapine users Materials and Methods This was a population-based retrospective cohort study from 2004 to 2020 in Ontario Canada in adult quetiapine users newly co-prescribed clarithromycin n  16909 or azithromycin n  25267 The primary outcome was the composite of hospital encounters with encephalopathy defined as a diagnosis of delirium disorientation transient alteration of awareness transient ischemic attack or unspecified dementia a fall or a fracture within 30 days of new coprescription Secondary outcomes were individual components of the composite outcome hospital encounter with computed tomography CT head scan and all-cause mortality Results Coprescription of clarithromycin versus azithromycin with quetiapine was associated with a higher risk of the primary composite outcome 365 of 16909 clarithromycin users 22% vs 309 of 16929 azithromycin users 18% absolute risk increase 034% 95% confidence interval CI 004-063 relative risk RR 119 95% CI 102-138 This was primarily driven by an increase in fragility fractures 78 of 16909 clarithromycin users 05% vs 45 of 16923 azithromycin users 03% absolute risk increase 020% 95% CI 007-032 RR 174 95% CI 121-252 Hospital encounters with a CT head scan were higher in clarithromycin users 220 of 16909 13% vs 175 of 16923 azithromycin users 10% absolute risk increase 027% 95% CI 004-050 RR 126 95% CI 104-154 but there was no difference in hospital encounters with encephalopathy falls or all-cause mortality between macrolide groups Conclusion Among adults taking quetiapine concurrent use of clarithromycin compared with azithromycin was associated with a small but statistically greater 30-day risk of a hospital encounter for encephalopathy falls or fracture which was predominantly related to a higher rate of fragility fractures.',\n",
       "  'source': 'PMID37359413'}}"
      ]
     },
     "execution_count": 27,
     "metadata": {},
     "output_type": "execute_result"
    }
   ],
   "source": [
    "pubtator_info"
   ]
  },
  {
   "cell_type": "code",
   "execution_count": null,
   "metadata": {},
   "outputs": [
    {
     "name": "stderr",
     "output_type": "stream",
     "text": [
      "2025-03-09 13:17:21,815 - INFO - Extracting Entities from the Document\n"
     ]
    },
    {
     "name": "stderr",
     "output_type": "stream",
     "text": [
      "2025-03-09 13:17:35,410 - INFO - HTTP Request: POST http://127.0.0.1:11434/api/chat \"HTTP/1.1 200 OK\"\n",
      "2025-03-09 13:18:27,650 - INFO - INFO --- encephalopathy add unique_id and label\n",
      "2025-03-09 13:18:27,652 - INFO - INFO --- delirium add unique_id and label\n",
      "2025-03-09 13:18:27,653 - INFO - INFO --- transient ischemic attack add unique_id and label\n",
      "2025-03-09 13:18:27,653 - INFO - INFO --- dementia add unique_id and label\n",
      "2025-03-09 13:18:27,654 - INFO - INFO --- fracture add unique_id and label\n",
      "2025-03-09 13:18:27,655 - INFO - INFO --- fragility fractures add unique_id and label\n",
      "2025-03-09 13:18:27,656 - INFO - INFO --- falls add unique_id and label\n",
      "2025-03-09 13:18:27,657 - INFO - INFO --- cytochrome p450 3a4 add unique_id and label\n",
      "2025-03-09 13:18:27,657 - INFO - INFO --- cyp3a4 add unique_id and label\n",
      "2025-03-09 13:18:27,658 - INFO - INFO --- quetiapine add unique_id and label\n",
      "2025-03-09 13:18:27,659 - INFO - INFO --- clarithromycin add unique_id and label\n",
      "2025-03-09 13:18:27,659 - INFO - INFO --- azithromycin add unique_id and label\n",
      "2025-03-09 13:18:27,660 - INFO - INFO --- macrolide add unique_id and label\n",
      "2025-03-09 13:18:27,660 - INFO - {'entities': [{'label': 'disease', 'name': 'encephalopathy', 'properties': {'unique_id': 'MESH:D001927'}}, {'label': 'disease', 'name': 'delirium', 'properties': {'unique_id': 'MESH:D003693'}}, {'label': 'disease', 'name': 'transient ischemic attack', 'properties': {'unique_id': 'MESH:D002546'}}, {'label': 'disease', 'name': 'dementia', 'properties': {'unique_id': 'MESH:D003704'}}, {'label': 'disease', 'name': 'fracture', 'properties': {'unique_id': 'MESH:D050723'}}, {'label': 'disease', 'name': 'fragility fractures', 'properties': {'unique_id': 'MESH:D005600'}}, {'label': 'disease', 'name': 'falls', 'properties': {'unique_id': 'MESH:C537863'}}, {'label': 'gene', 'name': 'cytochrome P450 3A4', 'properties': {'unique_id': 'Gene ID:1576'}}, {'label': 'gene', 'name': 'CYP3A4', 'properties': {'unique_id': 'Gene ID:1576'}}, {'label': 'chemical', 'name': 'quetiapine', 'properties': {'unique_id': 'MESH:D000069348'}}, {'label': 'chemical', 'name': 'clarithromycin', 'properties': {'unique_id': 'MESH:D017291'}}, {'label': 'chemical', 'name': 'azithromycin', 'properties': {'unique_id': 'MESH:D017963'}}, {'label': 'chemical', 'name': 'macrolide', 'properties': {'unique_id': 'MESH:D018942'}}, {'name': 'PMID37359413', 'label': 'abstract', 'properties': {'context': 'Title: Adverse events with quetiapine and clarithromycin coprescription: A population-based retrospective cohort study.\\n Abstract: Background and Aims Quetiapine is an atypical antipsychotic predominantly metabolized by the cytochrome P450 3A4 CYP3A4 enzyme We studied the risk of adverse events following coprescription of clarithromycin a strong CYP3A4 inhibitor versus azithromycin not a CYP3A4 inhibitor in quetiapine users Materials and Methods This was a population-based retrospective cohort study from 2004 to 2020 in Ontario Canada in adult quetiapine users newly co-prescribed clarithromycin n  16909 or azithromycin n  25267 The primary outcome was the composite of hospital encounters with encephalopathy defined as a diagnosis of delirium disorientation transient alteration of awareness transient ischemic attack or unspecified dementia a fall or a fracture within 30 days of new coprescription Secondary outcomes were individual components of the composite outcome hospital encounter with computed tomography CT head scan and all-cause mortality Results Coprescription of clarithromycin versus azithromycin with quetiapine was associated with a higher risk of the primary composite outcome 365 of 16909 clarithromycin users 22% vs 309 of 16929 azithromycin users 18% absolute risk increase 034% 95% confidence interval CI 004-063 relative risk RR 119 95% CI 102-138 This was primarily driven by an increase in fragility fractures 78 of 16909 clarithromycin users 05% vs 45 of 16923 azithromycin users 03% absolute risk increase 020% 95% CI 007-032 RR 174 95% CI 121-252 Hospital encounters with a CT head scan were higher in clarithromycin users 220 of 16909 13% vs 175 of 16923 azithromycin users 10% absolute risk increase 027% 95% CI 004-050 RR 126 95% CI 104-154 but there was no difference in hospital encounters with encephalopathy falls or all-cause mortality between macrolide groups Conclusion Among adults taking quetiapine concurrent use of clarithromycin compared with azithromycin was associated with a small but statistically greater 30-day risk of a hospital encounter for encephalopathy falls or fracture which was predominantly related to a higher rate of fragility fractures.'}}]}\n",
      "2025-03-09 13:18:27,901 - INFO - HTTP Request: POST http://127.0.0.1:11434/api/embed \"HTTP/1.1 200 OK\"\n",
      "2025-03-09 13:18:28,072 - INFO - HTTP Request: POST http://127.0.0.1:11434/api/embed \"HTTP/1.1 200 OK\"\n",
      "2025-03-09 13:18:28,078 - INFO - Extracting Relations from the Document\n",
      "2025-03-09 13:18:51,102 - INFO - HTTP Request: POST http://127.0.0.1:11434/api/chat \"HTTP/1.1 200 OK\"\n",
      "2025-03-09 13:19:47,102 - INFO - {'relationships': [{'startNode': {'name': 'quetiapine', 'label': 'chemical'}, 'endNode': {'name': 'cytochrome p450 3a4', 'label': 'gene'}, 'name': 'metabolized_by'}, {'startNode': {'name': 'clarithromycin', 'label': 'chemical'}, 'endNode': {'name': 'cytochrome p450 3a4', 'label': 'gene'}, 'name': 'inhibits'}, {'startNode': {'name': 'azithromycin', 'label': 'chemical'}, 'endNode': {'name': 'cytochrome p450 3a4', 'label': 'gene'}, 'name': 'does_not_inhibit'}, {'startNode': {'name': 'quetiapine', 'label': 'chemical'}, 'endNode': {'name': 'encephalopathy', 'label': 'disease'}, 'name': 'associated_with'}, {'startNode': {'name': 'quetiapine', 'label': 'chemical'}, 'endNode': {'name': 'fracture', 'label': 'disease'}, 'name': 'associated_with'}, {'startNode': {'name': 'quetiapine', 'label': 'chemical'}, 'endNode': {'name': 'fall', 'label': 'disease'}, 'name': 'associated_with'}, {'startNode': {'name': 'clarithromycin', 'label': 'chemical'}, 'endNode': {'name': 'encephalopathy', 'label': 'disease'}, 'name': 'increases_risk_of'}, {'startNode': {'name': 'clarithromycin', 'label': 'chemical'}, 'endNode': {'name': 'fracture', 'label': 'disease'}, 'name': 'increases_risk_of'}, {'startNode': {'name': 'clarithromycin', 'label': 'chemical'}, 'endNode': {'name': 'fall', 'label': 'disease'}, 'name': 'increases_risk_of'}, {'startNode': {'name': 'azithromycin', 'label': 'chemical'}, 'endNode': {'name': 'encephalopathy', 'label': 'disease'}, 'name': 'does_not_increase_risk_of'}, {'startNode': {'name': 'azithromycin', 'label': 'chemical'}, 'endNode': {'name': 'fracture', 'label': 'disease'}, 'name': 'does_not_increase_risk_of'}, {'startNode': {'name': 'azithromycin', 'label': 'chemical'}, 'endNode': {'name': 'fall', 'label': 'disease'}, 'name': 'does_not_increase_risk_of'}]}\n",
      "2025-03-09 13:19:47,104 - INFO - [INFO] Verification of invented entities\n",
      "2025-03-09 13:19:47,106 - INFO - [INFO][INVENTED ENTITIES] Aie; the entities label='disease' name='fall' properties=EntityProperties(embeddings=None) properties_info={} is invented. Solving it ...\n",
      "2025-03-09 13:19:47,135 - INFO - HTTP Request: POST http://127.0.0.1:11434/api/embed \"HTTP/1.1 200 OK\"\n",
      "2025-03-09 13:19:47,157 - INFO - HTTP Request: POST http://127.0.0.1:11434/api/embed \"HTTP/1.1 200 OK\"\n",
      "2025-03-09 13:19:47,175 - INFO - [INFO] Wohoo!  0.5186216084701332 >= 0.9 Entity was matched --- [fall:disease] --merged--> [fall:disease]\n",
      "2025-03-09 13:19:47,177 - INFO - [INFO][INVENTED ENTITIES] Aie; the entities label='disease' name='fall' properties=EntityProperties(embeddings=None) properties_info={} is invented. Solving it ...\n",
      "2025-03-09 13:19:47,199 - INFO - HTTP Request: POST http://127.0.0.1:11434/api/embed \"HTTP/1.1 200 OK\"\n",
      "2025-03-09 13:19:47,226 - INFO - HTTP Request: POST http://127.0.0.1:11434/api/embed \"HTTP/1.1 200 OK\"\n",
      "2025-03-09 13:19:47,237 - INFO - [INFO] Wohoo!  0.5186216084701332 >= 0.9 Entity was matched --- [fall:disease] --merged--> [fall:disease]\n",
      "2025-03-09 13:19:47,238 - INFO - [INFO][INVENTED ENTITIES] Aie; the entities label='disease' name='fall' properties=EntityProperties(embeddings=None) properties_info={} is invented. Solving it ...\n",
      "2025-03-09 13:19:47,266 - INFO - HTTP Request: POST http://127.0.0.1:11434/api/embed \"HTTP/1.1 200 OK\"\n",
      "2025-03-09 13:19:47,290 - INFO - HTTP Request: POST http://127.0.0.1:11434/api/embed \"HTTP/1.1 200 OK\"\n",
      "2025-03-09 13:19:47,299 - INFO - [INFO] Wohoo!  0.5186216084701332 >= 0.9 Entity was matched --- [fall:disease] --merged--> [fall:disease]\n",
      "2025-03-09 13:19:47,300 - INFO - add abstract relationship\n",
      "2025-03-09 13:19:47,300 - INFO - True\n",
      "2025-03-09 13:19:47,301 - INFO - True\n",
      "2025-03-09 13:19:47,301 - INFO - add abstract relationship\n",
      "2025-03-09 13:19:47,302 - INFO - True\n",
      "2025-03-09 13:19:47,302 - INFO - True\n",
      "2025-03-09 13:19:47,303 - INFO - add abstract relationship\n",
      "2025-03-09 13:19:47,304 - INFO - True\n",
      "2025-03-09 13:19:47,304 - INFO - True\n",
      "2025-03-09 13:19:47,305 - INFO - add abstract relationship\n",
      "2025-03-09 13:19:47,305 - INFO - True\n",
      "2025-03-09 13:19:47,305 - INFO - True\n",
      "2025-03-09 13:19:47,306 - INFO - add abstract relationship\n",
      "2025-03-09 13:19:47,308 - INFO - True\n",
      "2025-03-09 13:19:47,309 - INFO - True\n",
      "2025-03-09 13:19:47,309 - INFO - add abstract relationship\n",
      "2025-03-09 13:19:47,310 - INFO - True\n",
      "2025-03-09 13:19:47,310 - INFO - True\n",
      "2025-03-09 13:19:47,310 - INFO - add abstract relationship\n",
      "2025-03-09 13:19:47,311 - INFO - True\n",
      "2025-03-09 13:19:47,311 - INFO - True\n",
      "2025-03-09 13:19:47,616 - INFO - HTTP Request: POST http://127.0.0.1:11434/api/embed \"HTTP/1.1 200 OK\"\n",
      "2025-03-09 13:20:09,691 - INFO - HTTP Request: POST http://127.0.0.1:11434/api/chat \"HTTP/1.1 200 OK\"\n"
     ]
    }
   ],
   "source": [
    "# -----------------Build the graph-----------------\n",
    "itext2kg = iText2KG(llm_model = llm, embeddings_model = embeddings)\n",
    "kg = itext2kg.build_graph(\n",
    "    sections=[semantic_blocks], \n",
    "    source=properties_info,  \n",
    "    entities_info=pubtator_info,\n",
    "    ent_threshold=0.9, \n",
    "    rel_threshold=0.4,\n",
    "    )"
   ]
  },
  {
   "cell_type": "code",
   "execution_count": null,
   "metadata": {},
   "outputs": [],
   "source": [
    "with open(f'/home/mindrank/fuli/itext2kg/output_kg/delirium/{PMID}.pkl', 'wb') as f:\n",
    "    pickle.dump(kg, f)"
   ]
  },
  {
   "cell_type": "code",
   "execution_count": null,
   "metadata": {},
   "outputs": [
    {
     "name": "stderr",
     "output_type": "stream",
     "text": [
      "2025-03-07 17:15:06,662 - INFO - Received notification from DBMS server: {severity: INFORMATION} {code: Neo.ClientNotification.Statement.CartesianProduct} {category: PERFORMANCE} {title: This query builds a cartesian product between disconnected patterns.} {description: If a part of a query contains multiple disconnected patterns, this will build a cartesian product between all those parts. This may produce a large amount of data and slow down query processing. While occasionally intended, it may often be possible to reformulate the query that avoids the use of this cross product, perhaps by adding a relationship between the different parts or by using OPTIONAL MATCH (identifier is: (m))} {position: line: 1, column: 1, offset: 0} for query: 'MATCH (n:chemical {name: \"cocaine\"}), (m:abstract {name: \"pmid25153461\"}) MERGE (n)-[r:tested_for]->(m) SET r.embeddings = [0.03972173, 0.0013063349, -0.18745048, -0.022331238, 0.07720502, -0.008214364, 0.0014885276, -0.016775025, 0.013228519, -0.02553783, -0.022903083, 0.065263815, 0.05039902, 0.00041518654, -0.05035221, -0.038568463, 0.05979963, -0.050364975, -0.008605612, -0.019690642, 0.031727593, -0.06631069, -0.049679823, 0.014391892, 0.08590771, -0.024728201, 0.026057543, 0.026995372, -0.03202974, -0.033919226, 0.0105770165, -0.012491237, 0.045079526, -0.057314362, 0.008958029, -0.04354751, 0.05243745, 0.06591067, 0.048224412, -0.0127665205, -0.013137024, 0.058208037, -0.043270897, -0.048769128, 0.047360525, 0.0046258327, 0.023631323, 0.09625307, 0.027034203, -0.048152067, -0.010859748, -0.038019493, 0.008538453, -0.014939035, 0.12045038, 0.0008867598, -0.01930019, -0.029449785, -0.03568317, -0.03815567, 0.03909403, 0.04029198, -0.056093007, 0.034304358, 0.024122844, -0.04280704, -0.04087074, 0.02125883, -0.009766592, 0.03450224, 0.054131176, 0.0002864548, 0.06198701, 0.0038664746, -0.026891109, -0.046828575, 0.005864643, -0.0020586443, -0.043513466, 0.014067936, 0.07457506, 0.02678472, 0.052250203, 0.047390316, 0.077902935, -0.0054365234, 0.023210019, -0.021183291, -0.01936806, 0.042781502, 0.029236473, 0.017888928, 0.036502372, 0.07050671, -0.039483417, 0.013817919, 0.009233047, 0.010669311, -0.03842803, -0.008900379, 0.006400416, 0.008251732, 0.014484984, -0.034563947, 0.024775013, -0.0052819923, 0.0060148975, -0.0052444898, -0.006186439, -0.0057373405, -0.029007204, 0.03985791, -0.07576662, 0.0014080702, -0.017945847, 0.011187228, 0.023059476, -0.03546188, 0.016950568, 0.026893238, -0.0044258195, 0.0115720285, -0.025463358, 0.091605954, -0.042896405, 0.05216935, -0.061246533, 0.021517355, 0.020019386, -0.00045401888, -0.0066847424, -0.009549158, -0.03320854, -0.024567554, 0.0045947134, 0.044134784, 0.007338775, -0.00919581, -0.03785778, -0.032865964, 0.00104169, -0.0051428876, 0.019462967, 0.021705667, 0.045202937, -0.011515642, 0.075902805, -0.023616694, -0.00669618, 0.027219852, 0.014913202, 0.03426606, 0.05031391, 0.0105709, 0.02635384, -0.03453416, -0.035202287, 0.041206934, 0.035551246, 0.06351902, -0.01688115, 0.00909474, -0.036666214, -0.015785068, -0.06736608, -0.020439627, 0.0062152976, 0.06763844, 0.025344465, 0.035110794, -0.078337006, -0.065697886, 0.040155802, -0.04332622, -0.0010394292, -0.011993066, -0.027332626, -0.022579126, 0.024952685, -0.0552887, 0.012255583, -0.06252321, 0.06739161, 0.048692524, -0.004156902, -0.02864867, 0.014009421, -0.046947733, -0.035785303, -0.024677668, -0.009251465, 0.0055181775, -0.063587114, -0.05614833, -0.004886488, -0.062344477, 0.039440863, -0.044143293, 0.048492514, -0.035959784, -0.056624956, -0.0070291804, 0.0042252745, 0.018595124, -0.041598447, -0.0039983983, -0.001494778, -0.052922588, 0.01671731, 0.0060791187, 0.056561124, -0.021707794, -0.009068143, 0.014195603, 0.022871166, -0.011204983, 0.0068078893, -0.02967214, -0.027406037, 0.02915083, 0.041594192, -0.022554656, -0.021963129, 0.0049306396, 0.007869128, 0.00566187, -0.051807623, 0.020275787, 0.0031023293, 0.0019682131, 0.030670078, -0.064306304, 0.05015645, 0.032857455, 0.0053299344, -0.010716122, -0.034853328, -0.0025661243, -0.0044205002, 0.023453651, -0.0046160575, 0.037755646, -0.024763312, -0.024795229, -0.007990679, -0.029291265, -0.025022903, -0.017503265, 0.039051473, 0.09134211, -0.0469988, 0.06062096, 0.0059507857, 0.02650385, 0.006297849, 0.022666633, -0.002694856, -0.0012236168, 0.005796605, -0.036742814, 0.025326112, -0.041589938, -0.012222602, -0.023561636, 0.010629148, -0.008654717, -0.040028132, -0.02257168, 0.006126994, -0.026008073, 0.0111982, 0.04229211, 0.0402324, 0.06307644, -0.002485002, -0.014569032, 0.0014776892, -0.020010343, 0.026042119, 0.0075398516, -0.017165476, -0.028603986, -0.012716784, 0.035277825, -0.0051950845, 0.02506918, 0.038657833, -0.024997368, 0.020488566, 0.023082351, 0.02198228, 0.0157082, -0.018330446, 0.045071013, -0.03832164, 0.018211821, 0.06968964, -0.060208168, -0.0066514956, 0.003114564, -0.0040678177, 0.047339246, 0.028791232, 0.052531075, 0.04377306, -0.0068184943, 0.043504953, -0.061101843, 0.07161742, -0.018167138, -0.026723014, 0.0354023, -0.0071849083, -0.011949912, -0.05786759, 0.00019416155, 0.0329681, 0.036415134, 0.043121953, -0.048867006, 0.031163728, 0.001694259, 0.0072523328, -0.049377676, 0.00046685216, 0.016615974, 0.052143816, 0.011634532, -0.05391414, -0.019172523, 0.0059050377, 0.064599946, 0.009686268, -0.029861515, 0.017088344, 0.014209434, -0.0033180348, 0.03786629, -0.032145705, 0.006985294, 0.015152048, -0.0632722, 0.011453403, -0.03939405, 0.023422798, -0.0032417001, 0.007937218, 0.03350005, 0.021463096, 0.020203441, -0.04221551, 0.021388624, -0.029231686, -0.0025360691, 0.03153822, -0.006859887, 0.075315535, 0.041726116, -0.019569257, -0.048535068, 0.025765505, 0.029578518, -0.0132151535, -0.0748304, 0.010223537, 0.04106703, 0.03788331, 0.029318927, 0.06862573, 0.0067250705, -0.041513335, 0.00057716516, 0.033265993, 0.04967557, 0.041023944, 0.030697739, -0.060829487, -0.00576447, -0.032925542, -0.006845258, 0.047811616, 0.011856621, 0.01947999, 0.030999888, 0.0037981193, -0.07820934, 0.030124297, -0.02899763, 0.011479469, 0.020733261, -0.035785303, -0.0054264166, -0.0688981, -0.016702149, -0.0049572447, -0.04436033, 0.048266966, -0.028120976, 0.023460208, 0.0147372605, -0.04827548, -0.02780074, 0.028469935, -0.034691617, -0.0190406, -0.03443841, -0.042113375, -0.028286945, -0.008472359, 0.035949145, 0.0055705747, -0.0012676356, -0.0031734772, -0.07229406, -0.025235683, 0.024937792, 0.05216509, -0.024369668, -0.04776055, 0.027399654, 0.006588726, 0.050986294, 0.0006294292, 0.024007943, -0.03186377, -0.008421824, 0.017607925, 0.07837105, 0.030955203, -0.09236345, -0.004649504, -0.001274152, -0.014936077, -0.001178534, -0.010313901, 0.031993568, -0.032789364, 0.028212471, 0.00028565686, 0.05264172, 0.0015939865, -0.04572212, -0.031553116, 0.0167721, -0.0014272204, 0.121480234, 0.058637854, -0.046747718, -0.034940567, -0.036218975, -0.053950313, 0.012006631, 0.03759819, 0.021396337, 0.07289836, -0.032091446, 0.023224914, -0.022292273, -0.0049753236, 0.055918526, -0.011232645, -0.02009705, -0.019884802, -0.0061527933, 0.0042210855, 0.02122904, 0.032334015, -0.02477714, 0.015731873, 0.0833501, -0.061484847, -0.0020267274, 0.0773412, -0.01712239, 0.0015426534, -0.017850894, -0.003779534, 0.004627561, -0.021116797, 0.041866552, -0.0041226083, 0.0029283818, -0.024125502, -0.06018689, 0.020923434, -8.5643864e-05, 0.01741177, -0.016422344, 0.041764416, -0.020428987, 0.049088296, 0.027834253, 0.049292564, -0.03953874, 0.021243934, -0.0206423, -0.052607674, 0.012585924, -0.007597169, -0.053880095, 0.022879146, 0.021573743, -0.016222863, -0.019825757, -0.019120922, -0.017620293, 0.05113524, -0.10175981, -0.049420234, -0.009313138, -0.050394766, 0.0065414817, 0.020090668, 0.033736236, 0.04560722, -0.0085492255, 0.0011968863, 0.0067064525, -0.06800442, -0.00044683754, 0.034546927, 0.017301656, 0.02682355, -0.020000236, -0.024421798, 0.003094084, 0.0006691924, -0.014272469, 0.029280627, -0.035755515, 0.038598254, 0.051535264, -0.022695092, -0.006954009, 0.0051668254, -0.047956306, -0.0107077435, 0.008724104, -0.032325506, 0.018799094, -0.031438213, -0.020825822, -0.0105709, 0.018913463, 0.0074164392, -0.0029039122, -0.08400546, 0.049126595, -0.019575741, -0.02426115, 0.0374535, -0.034108598, -0.018973574, -0.038828056, 0.024163272, -0.02569316, -0.027706321, -0.024821825, -0.03173398, -0.054173734, 0.05597385, -0.017440496, -0.003632151, 0.002666729, 0.013020527, -0.023833264, -0.033040445, -0.0060233963, -0.00091880973, 0.030595606, 0.009369758, -0.033497922, -0.011267753, -0.0414878, -0.04293045, 0.0048359525, 0.01902464, 0.010082636, -0.013843718, -0.028220983, 0.07448994, -0.050190497, 0.014713987, -0.005904639, 0.013701954, -0.0063392418, -0.0017251121, -0.046496637, 0.06767248, -0.07050245, -0.043794334, 0.00060376263, 0.0052234777, -0.0090632215, 0.036287464, 0.0031976812, -0.01684205, -0.047505215, -0.023525996, -0.006658677, -0.014081766, -0.0009621636, -0.0126715675, -0.05936556, -0.029884921, 0.035774134, 0.03825355, -0.0047628097, -0.02928701, -0.009726696, -0.00937029, -0.013206193, -0.012216484, -0.034732044, 0.018037476, -0.075502776, 0.07100887, -0.030314736, -0.05099906, -0.044764612, 0.007983896, -0.026079353, 0.03949193, -0.03692155, 0.048662737, 0.018229641, -0.018427392, -0.01588348, 0.031121172, 0.046875387, -0.0519438, 0.0908825, -0.04492207, -0.09115486, -0.055271678, 0.029891305, 0.016800027, 0.040972877, 0.037815224, 0.05436098, 0.03829185, 0.038368452, -0.04459439, 0.027667755, 0.05206296, 0.039708965, 0.03741094, 0.07460059, 0.06005071, -0.027665628, 0.08030309, 0.07969879, -0.019552335, -0.018024575, -0.0011527345, 0.025234353, 0.019084219, -0.0042992155, -0.027859258, -0.028123105, -0.03930894, -0.0001469178, -0.022824887, 0.00047024334, 0.0017337565, -0.014092405, 0.0087941885, -0.057425007, 0.0037539674, -0.03882167, 0.071093984, 0.01791925, -0.004746585, -0.0061525274, 0.014367158, 0.012416764, 0.039134458, 0.057714388, 0.0093075195, -0.010970926, -0.0069855605, -0.019465094, 0.061506126, 0.0020671557, 0.020014066, -0.033812836, 0.0071951486, -0.034249034, 0.0035406556, -0.03871954, -0.030029612, -0.02951894, -0.01685269, -0.023776013, 0.0047221156, -0.009159371, 0.031280756, 0.004455609, -0.0046042884, 0.057059027, -0.056395154, 0.038683366, 0.027837979, 0.04630514, -0.031338207, -0.0068057613, -0.0007809018, -0.028459296, -0.029550856, -0.021394143, 0.020037472, 0.011091147, 0.0063184956, 0.0850268, 0.020009812, 0.0068578925, -0.027108144, -0.07100887, -0.00412314, -0.029531706, 0.052441705, -0.011262168, -0.03773224, -0.023341943, -0.018843777, -0.049628757, 0.0073847882, -0.013197666, 0.027444337, -0.046607286, 0.00050269224, -0.025367606, -0.032511685, 0.018488968, -0.0045203734, -0.008069674, 0.006032839, 0.0023591958, -0.061765715, -0.0026552258, -0.041249488, 0.028921029, -0.006457716, 0.023413222, 0.026433634, 0.018357575, -0.0048862216, 0.024680328, 0.03391284, -0.014972448, 0.009876706, -0.032838304, -0.0135014085, 0.036257677, -0.02201975, -0.0019054926, -0.04308365, -0.0020559847, 0.101002306, -0.0040152874, 0.024680328, 0.0023195655, 0.0316361, 0.019758731, -0.024003688, -0.09364864, -0.0045933835, -0.0029453707] SET r.source = \"PMID25153461\"'\n",
      "2025-03-07 17:15:07,132 - INFO - Received notification from DBMS server: {severity: INFORMATION} {code: Neo.ClientNotification.Statement.CartesianProduct} {category: PERFORMANCE} {title: This query builds a cartesian product between disconnected patterns.} {description: If a part of a query contains multiple disconnected patterns, this will build a cartesian product between all those parts. This may produce a large amount of data and slow down query processing. While occasionally intended, it may often be possible to reformulate the query that avoids the use of this cross product, perhaps by adding a relationship between the different parts or by using OPTIONAL MATCH (identifier is: (m))} {position: line: 1, column: 1, offset: 0} for query: 'MATCH (n:chemical {name: \"opiates\"}), (m:abstract {name: \"pmid25153461\"}) MERGE (n)-[r:tested_for]->(m) SET r.embeddings = [0.03972173, 0.0013063349, -0.18745048, -0.022331238, 0.07720502, -0.008214364, 0.0014885276, -0.016775025, 0.013228519, -0.02553783, -0.022903083, 0.065263815, 0.05039902, 0.00041518654, -0.05035221, -0.038568463, 0.05979963, -0.050364975, -0.008605612, -0.019690642, 0.031727593, -0.06631069, -0.049679823, 0.014391892, 0.08590771, -0.024728201, 0.026057543, 0.026995372, -0.03202974, -0.033919226, 0.0105770165, -0.012491237, 0.045079526, -0.057314362, 0.008958029, -0.04354751, 0.05243745, 0.06591067, 0.048224412, -0.0127665205, -0.013137024, 0.058208037, -0.043270897, -0.048769128, 0.047360525, 0.0046258327, 0.023631323, 0.09625307, 0.027034203, -0.048152067, -0.010859748, -0.038019493, 0.008538453, -0.014939035, 0.12045038, 0.0008867598, -0.01930019, -0.029449785, -0.03568317, -0.03815567, 0.03909403, 0.04029198, -0.056093007, 0.034304358, 0.024122844, -0.04280704, -0.04087074, 0.02125883, -0.009766592, 0.03450224, 0.054131176, 0.0002864548, 0.06198701, 0.0038664746, -0.026891109, -0.046828575, 0.005864643, -0.0020586443, -0.043513466, 0.014067936, 0.07457506, 0.02678472, 0.052250203, 0.047390316, 0.077902935, -0.0054365234, 0.023210019, -0.021183291, -0.01936806, 0.042781502, 0.029236473, 0.017888928, 0.036502372, 0.07050671, -0.039483417, 0.013817919, 0.009233047, 0.010669311, -0.03842803, -0.008900379, 0.006400416, 0.008251732, 0.014484984, -0.034563947, 0.024775013, -0.0052819923, 0.0060148975, -0.0052444898, -0.006186439, -0.0057373405, -0.029007204, 0.03985791, -0.07576662, 0.0014080702, -0.017945847, 0.011187228, 0.023059476, -0.03546188, 0.016950568, 0.026893238, -0.0044258195, 0.0115720285, -0.025463358, 0.091605954, -0.042896405, 0.05216935, -0.061246533, 0.021517355, 0.020019386, -0.00045401888, -0.0066847424, -0.009549158, -0.03320854, -0.024567554, 0.0045947134, 0.044134784, 0.007338775, -0.00919581, -0.03785778, -0.032865964, 0.00104169, -0.0051428876, 0.019462967, 0.021705667, 0.045202937, -0.011515642, 0.075902805, -0.023616694, -0.00669618, 0.027219852, 0.014913202, 0.03426606, 0.05031391, 0.0105709, 0.02635384, -0.03453416, -0.035202287, 0.041206934, 0.035551246, 0.06351902, -0.01688115, 0.00909474, -0.036666214, -0.015785068, -0.06736608, -0.020439627, 0.0062152976, 0.06763844, 0.025344465, 0.035110794, -0.078337006, -0.065697886, 0.040155802, -0.04332622, -0.0010394292, -0.011993066, -0.027332626, -0.022579126, 0.024952685, -0.0552887, 0.012255583, -0.06252321, 0.06739161, 0.048692524, -0.004156902, -0.02864867, 0.014009421, -0.046947733, -0.035785303, -0.024677668, -0.009251465, 0.0055181775, -0.063587114, -0.05614833, -0.004886488, -0.062344477, 0.039440863, -0.044143293, 0.048492514, -0.035959784, -0.056624956, -0.0070291804, 0.0042252745, 0.018595124, -0.041598447, -0.0039983983, -0.001494778, -0.052922588, 0.01671731, 0.0060791187, 0.056561124, -0.021707794, -0.009068143, 0.014195603, 0.022871166, -0.011204983, 0.0068078893, -0.02967214, -0.027406037, 0.02915083, 0.041594192, -0.022554656, -0.021963129, 0.0049306396, 0.007869128, 0.00566187, -0.051807623, 0.020275787, 0.0031023293, 0.0019682131, 0.030670078, -0.064306304, 0.05015645, 0.032857455, 0.0053299344, -0.010716122, -0.034853328, -0.0025661243, -0.0044205002, 0.023453651, -0.0046160575, 0.037755646, -0.024763312, -0.024795229, -0.007990679, -0.029291265, -0.025022903, -0.017503265, 0.039051473, 0.09134211, -0.0469988, 0.06062096, 0.0059507857, 0.02650385, 0.006297849, 0.022666633, -0.002694856, -0.0012236168, 0.005796605, -0.036742814, 0.025326112, -0.041589938, -0.012222602, -0.023561636, 0.010629148, -0.008654717, -0.040028132, -0.02257168, 0.006126994, -0.026008073, 0.0111982, 0.04229211, 0.0402324, 0.06307644, -0.002485002, -0.014569032, 0.0014776892, -0.020010343, 0.026042119, 0.0075398516, -0.017165476, -0.028603986, -0.012716784, 0.035277825, -0.0051950845, 0.02506918, 0.038657833, -0.024997368, 0.020488566, 0.023082351, 0.02198228, 0.0157082, -0.018330446, 0.045071013, -0.03832164, 0.018211821, 0.06968964, -0.060208168, -0.0066514956, 0.003114564, -0.0040678177, 0.047339246, 0.028791232, 0.052531075, 0.04377306, -0.0068184943, 0.043504953, -0.061101843, 0.07161742, -0.018167138, -0.026723014, 0.0354023, -0.0071849083, -0.011949912, -0.05786759, 0.00019416155, 0.0329681, 0.036415134, 0.043121953, -0.048867006, 0.031163728, 0.001694259, 0.0072523328, -0.049377676, 0.00046685216, 0.016615974, 0.052143816, 0.011634532, -0.05391414, -0.019172523, 0.0059050377, 0.064599946, 0.009686268, -0.029861515, 0.017088344, 0.014209434, -0.0033180348, 0.03786629, -0.032145705, 0.006985294, 0.015152048, -0.0632722, 0.011453403, -0.03939405, 0.023422798, -0.0032417001, 0.007937218, 0.03350005, 0.021463096, 0.020203441, -0.04221551, 0.021388624, -0.029231686, -0.0025360691, 0.03153822, -0.006859887, 0.075315535, 0.041726116, -0.019569257, -0.048535068, 0.025765505, 0.029578518, -0.0132151535, -0.0748304, 0.010223537, 0.04106703, 0.03788331, 0.029318927, 0.06862573, 0.0067250705, -0.041513335, 0.00057716516, 0.033265993, 0.04967557, 0.041023944, 0.030697739, -0.060829487, -0.00576447, -0.032925542, -0.006845258, 0.047811616, 0.011856621, 0.01947999, 0.030999888, 0.0037981193, -0.07820934, 0.030124297, -0.02899763, 0.011479469, 0.020733261, -0.035785303, -0.0054264166, -0.0688981, -0.016702149, -0.0049572447, -0.04436033, 0.048266966, -0.028120976, 0.023460208, 0.0147372605, -0.04827548, -0.02780074, 0.028469935, -0.034691617, -0.0190406, -0.03443841, -0.042113375, -0.028286945, -0.008472359, 0.035949145, 0.0055705747, -0.0012676356, -0.0031734772, -0.07229406, -0.025235683, 0.024937792, 0.05216509, -0.024369668, -0.04776055, 0.027399654, 0.006588726, 0.050986294, 0.0006294292, 0.024007943, -0.03186377, -0.008421824, 0.017607925, 0.07837105, 0.030955203, -0.09236345, -0.004649504, -0.001274152, -0.014936077, -0.001178534, -0.010313901, 0.031993568, -0.032789364, 0.028212471, 0.00028565686, 0.05264172, 0.0015939865, -0.04572212, -0.031553116, 0.0167721, -0.0014272204, 0.121480234, 0.058637854, -0.046747718, -0.034940567, -0.036218975, -0.053950313, 0.012006631, 0.03759819, 0.021396337, 0.07289836, -0.032091446, 0.023224914, -0.022292273, -0.0049753236, 0.055918526, -0.011232645, -0.02009705, -0.019884802, -0.0061527933, 0.0042210855, 0.02122904, 0.032334015, -0.02477714, 0.015731873, 0.0833501, -0.061484847, -0.0020267274, 0.0773412, -0.01712239, 0.0015426534, -0.017850894, -0.003779534, 0.004627561, -0.021116797, 0.041866552, -0.0041226083, 0.0029283818, -0.024125502, -0.06018689, 0.020923434, -8.5643864e-05, 0.01741177, -0.016422344, 0.041764416, -0.020428987, 0.049088296, 0.027834253, 0.049292564, -0.03953874, 0.021243934, -0.0206423, -0.052607674, 0.012585924, -0.007597169, -0.053880095, 0.022879146, 0.021573743, -0.016222863, -0.019825757, -0.019120922, -0.017620293, 0.05113524, -0.10175981, -0.049420234, -0.009313138, -0.050394766, 0.0065414817, 0.020090668, 0.033736236, 0.04560722, -0.0085492255, 0.0011968863, 0.0067064525, -0.06800442, -0.00044683754, 0.034546927, 0.017301656, 0.02682355, -0.020000236, -0.024421798, 0.003094084, 0.0006691924, -0.014272469, 0.029280627, -0.035755515, 0.038598254, 0.051535264, -0.022695092, -0.006954009, 0.0051668254, -0.047956306, -0.0107077435, 0.008724104, -0.032325506, 0.018799094, -0.031438213, -0.020825822, -0.0105709, 0.018913463, 0.0074164392, -0.0029039122, -0.08400546, 0.049126595, -0.019575741, -0.02426115, 0.0374535, -0.034108598, -0.018973574, -0.038828056, 0.024163272, -0.02569316, -0.027706321, -0.024821825, -0.03173398, -0.054173734, 0.05597385, -0.017440496, -0.003632151, 0.002666729, 0.013020527, -0.023833264, -0.033040445, -0.0060233963, -0.00091880973, 0.030595606, 0.009369758, -0.033497922, -0.011267753, -0.0414878, -0.04293045, 0.0048359525, 0.01902464, 0.010082636, -0.013843718, -0.028220983, 0.07448994, -0.050190497, 0.014713987, -0.005904639, 0.013701954, -0.0063392418, -0.0017251121, -0.046496637, 0.06767248, -0.07050245, -0.043794334, 0.00060376263, 0.0052234777, -0.0090632215, 0.036287464, 0.0031976812, -0.01684205, -0.047505215, -0.023525996, -0.006658677, -0.014081766, -0.0009621636, -0.0126715675, -0.05936556, -0.029884921, 0.035774134, 0.03825355, -0.0047628097, -0.02928701, -0.009726696, -0.00937029, -0.013206193, -0.012216484, -0.034732044, 0.018037476, -0.075502776, 0.07100887, -0.030314736, -0.05099906, -0.044764612, 0.007983896, -0.026079353, 0.03949193, -0.03692155, 0.048662737, 0.018229641, -0.018427392, -0.01588348, 0.031121172, 0.046875387, -0.0519438, 0.0908825, -0.04492207, -0.09115486, -0.055271678, 0.029891305, 0.016800027, 0.040972877, 0.037815224, 0.05436098, 0.03829185, 0.038368452, -0.04459439, 0.027667755, 0.05206296, 0.039708965, 0.03741094, 0.07460059, 0.06005071, -0.027665628, 0.08030309, 0.07969879, -0.019552335, -0.018024575, -0.0011527345, 0.025234353, 0.019084219, -0.0042992155, -0.027859258, -0.028123105, -0.03930894, -0.0001469178, -0.022824887, 0.00047024334, 0.0017337565, -0.014092405, 0.0087941885, -0.057425007, 0.0037539674, -0.03882167, 0.071093984, 0.01791925, -0.004746585, -0.0061525274, 0.014367158, 0.012416764, 0.039134458, 0.057714388, 0.0093075195, -0.010970926, -0.0069855605, -0.019465094, 0.061506126, 0.0020671557, 0.020014066, -0.033812836, 0.0071951486, -0.034249034, 0.0035406556, -0.03871954, -0.030029612, -0.02951894, -0.01685269, -0.023776013, 0.0047221156, -0.009159371, 0.031280756, 0.004455609, -0.0046042884, 0.057059027, -0.056395154, 0.038683366, 0.027837979, 0.04630514, -0.031338207, -0.0068057613, -0.0007809018, -0.028459296, -0.029550856, -0.021394143, 0.020037472, 0.011091147, 0.0063184956, 0.0850268, 0.020009812, 0.0068578925, -0.027108144, -0.07100887, -0.00412314, -0.029531706, 0.052441705, -0.011262168, -0.03773224, -0.023341943, -0.018843777, -0.049628757, 0.0073847882, -0.013197666, 0.027444337, -0.046607286, 0.00050269224, -0.025367606, -0.032511685, 0.018488968, -0.0045203734, -0.008069674, 0.006032839, 0.0023591958, -0.061765715, -0.0026552258, -0.041249488, 0.028921029, -0.006457716, 0.023413222, 0.026433634, 0.018357575, -0.0048862216, 0.024680328, 0.03391284, -0.014972448, 0.009876706, -0.032838304, -0.0135014085, 0.036257677, -0.02201975, -0.0019054926, -0.04308365, -0.0020559847, 0.101002306, -0.0040152874, 0.024680328, 0.0023195655, 0.0316361, 0.019758731, -0.024003688, -0.09364864, -0.0045933835, -0.0029453707] SET r.source = \"PMID25153461\"'\n",
      "2025-03-07 17:15:12,328 - INFO - Received notification from DBMS server: {severity: INFORMATION} {code: Neo.ClientNotification.Statement.CartesianProduct} {category: PERFORMANCE} {title: This query builds a cartesian product between disconnected patterns.} {description: If a part of a query contains multiple disconnected patterns, this will build a cartesian product between all those parts. This may produce a large amount of data and slow down query processing. While occasionally intended, it may often be possible to reformulate the query that avoids the use of this cross product, perhaps by adding a relationship between the different parts or by using OPTIONAL MATCH (identifier is: (m))} {position: line: 1, column: 1, offset: 0} for query: 'MATCH (n:chemical {name: \"amphetamines\"}), (m:abstract {name: \"pmid25153461\"}) MERGE (n)-[r:tested_for]->(m) SET r.embeddings = [0.03972173, 0.0013063349, -0.18745048, -0.022331238, 0.07720502, -0.008214364, 0.0014885276, -0.016775025, 0.013228519, -0.02553783, -0.022903083, 0.065263815, 0.05039902, 0.00041518654, -0.05035221, -0.038568463, 0.05979963, -0.050364975, -0.008605612, -0.019690642, 0.031727593, -0.06631069, -0.049679823, 0.014391892, 0.08590771, -0.024728201, 0.026057543, 0.026995372, -0.03202974, -0.033919226, 0.0105770165, -0.012491237, 0.045079526, -0.057314362, 0.008958029, -0.04354751, 0.05243745, 0.06591067, 0.048224412, -0.0127665205, -0.013137024, 0.058208037, -0.043270897, -0.048769128, 0.047360525, 0.0046258327, 0.023631323, 0.09625307, 0.027034203, -0.048152067, -0.010859748, -0.038019493, 0.008538453, -0.014939035, 0.12045038, 0.0008867598, -0.01930019, -0.029449785, -0.03568317, -0.03815567, 0.03909403, 0.04029198, -0.056093007, 0.034304358, 0.024122844, -0.04280704, -0.04087074, 0.02125883, -0.009766592, 0.03450224, 0.054131176, 0.0002864548, 0.06198701, 0.0038664746, -0.026891109, -0.046828575, 0.005864643, -0.0020586443, -0.043513466, 0.014067936, 0.07457506, 0.02678472, 0.052250203, 0.047390316, 0.077902935, -0.0054365234, 0.023210019, -0.021183291, -0.01936806, 0.042781502, 0.029236473, 0.017888928, 0.036502372, 0.07050671, -0.039483417, 0.013817919, 0.009233047, 0.010669311, -0.03842803, -0.008900379, 0.006400416, 0.008251732, 0.014484984, -0.034563947, 0.024775013, -0.0052819923, 0.0060148975, -0.0052444898, -0.006186439, -0.0057373405, -0.029007204, 0.03985791, -0.07576662, 0.0014080702, -0.017945847, 0.011187228, 0.023059476, -0.03546188, 0.016950568, 0.026893238, -0.0044258195, 0.0115720285, -0.025463358, 0.091605954, -0.042896405, 0.05216935, -0.061246533, 0.021517355, 0.020019386, -0.00045401888, -0.0066847424, -0.009549158, -0.03320854, -0.024567554, 0.0045947134, 0.044134784, 0.007338775, -0.00919581, -0.03785778, -0.032865964, 0.00104169, -0.0051428876, 0.019462967, 0.021705667, 0.045202937, -0.011515642, 0.075902805, -0.023616694, -0.00669618, 0.027219852, 0.014913202, 0.03426606, 0.05031391, 0.0105709, 0.02635384, -0.03453416, -0.035202287, 0.041206934, 0.035551246, 0.06351902, -0.01688115, 0.00909474, -0.036666214, -0.015785068, -0.06736608, -0.020439627, 0.0062152976, 0.06763844, 0.025344465, 0.035110794, -0.078337006, -0.065697886, 0.040155802, -0.04332622, -0.0010394292, -0.011993066, -0.027332626, -0.022579126, 0.024952685, -0.0552887, 0.012255583, -0.06252321, 0.06739161, 0.048692524, -0.004156902, -0.02864867, 0.014009421, -0.046947733, -0.035785303, -0.024677668, -0.009251465, 0.0055181775, -0.063587114, -0.05614833, -0.004886488, -0.062344477, 0.039440863, -0.044143293, 0.048492514, -0.035959784, -0.056624956, -0.0070291804, 0.0042252745, 0.018595124, -0.041598447, -0.0039983983, -0.001494778, -0.052922588, 0.01671731, 0.0060791187, 0.056561124, -0.021707794, -0.009068143, 0.014195603, 0.022871166, -0.011204983, 0.0068078893, -0.02967214, -0.027406037, 0.02915083, 0.041594192, -0.022554656, -0.021963129, 0.0049306396, 0.007869128, 0.00566187, -0.051807623, 0.020275787, 0.0031023293, 0.0019682131, 0.030670078, -0.064306304, 0.05015645, 0.032857455, 0.0053299344, -0.010716122, -0.034853328, -0.0025661243, -0.0044205002, 0.023453651, -0.0046160575, 0.037755646, -0.024763312, -0.024795229, -0.007990679, -0.029291265, -0.025022903, -0.017503265, 0.039051473, 0.09134211, -0.0469988, 0.06062096, 0.0059507857, 0.02650385, 0.006297849, 0.022666633, -0.002694856, -0.0012236168, 0.005796605, -0.036742814, 0.025326112, -0.041589938, -0.012222602, -0.023561636, 0.010629148, -0.008654717, -0.040028132, -0.02257168, 0.006126994, -0.026008073, 0.0111982, 0.04229211, 0.0402324, 0.06307644, -0.002485002, -0.014569032, 0.0014776892, -0.020010343, 0.026042119, 0.0075398516, -0.017165476, -0.028603986, -0.012716784, 0.035277825, -0.0051950845, 0.02506918, 0.038657833, -0.024997368, 0.020488566, 0.023082351, 0.02198228, 0.0157082, -0.018330446, 0.045071013, -0.03832164, 0.018211821, 0.06968964, -0.060208168, -0.0066514956, 0.003114564, -0.0040678177, 0.047339246, 0.028791232, 0.052531075, 0.04377306, -0.0068184943, 0.043504953, -0.061101843, 0.07161742, -0.018167138, -0.026723014, 0.0354023, -0.0071849083, -0.011949912, -0.05786759, 0.00019416155, 0.0329681, 0.036415134, 0.043121953, -0.048867006, 0.031163728, 0.001694259, 0.0072523328, -0.049377676, 0.00046685216, 0.016615974, 0.052143816, 0.011634532, -0.05391414, -0.019172523, 0.0059050377, 0.064599946, 0.009686268, -0.029861515, 0.017088344, 0.014209434, -0.0033180348, 0.03786629, -0.032145705, 0.006985294, 0.015152048, -0.0632722, 0.011453403, -0.03939405, 0.023422798, -0.0032417001, 0.007937218, 0.03350005, 0.021463096, 0.020203441, -0.04221551, 0.021388624, -0.029231686, -0.0025360691, 0.03153822, -0.006859887, 0.075315535, 0.041726116, -0.019569257, -0.048535068, 0.025765505, 0.029578518, -0.0132151535, -0.0748304, 0.010223537, 0.04106703, 0.03788331, 0.029318927, 0.06862573, 0.0067250705, -0.041513335, 0.00057716516, 0.033265993, 0.04967557, 0.041023944, 0.030697739, -0.060829487, -0.00576447, -0.032925542, -0.006845258, 0.047811616, 0.011856621, 0.01947999, 0.030999888, 0.0037981193, -0.07820934, 0.030124297, -0.02899763, 0.011479469, 0.020733261, -0.035785303, -0.0054264166, -0.0688981, -0.016702149, -0.0049572447, -0.04436033, 0.048266966, -0.028120976, 0.023460208, 0.0147372605, -0.04827548, -0.02780074, 0.028469935, -0.034691617, -0.0190406, -0.03443841, -0.042113375, -0.028286945, -0.008472359, 0.035949145, 0.0055705747, -0.0012676356, -0.0031734772, -0.07229406, -0.025235683, 0.024937792, 0.05216509, -0.024369668, -0.04776055, 0.027399654, 0.006588726, 0.050986294, 0.0006294292, 0.024007943, -0.03186377, -0.008421824, 0.017607925, 0.07837105, 0.030955203, -0.09236345, -0.004649504, -0.001274152, -0.014936077, -0.001178534, -0.010313901, 0.031993568, -0.032789364, 0.028212471, 0.00028565686, 0.05264172, 0.0015939865, -0.04572212, -0.031553116, 0.0167721, -0.0014272204, 0.121480234, 0.058637854, -0.046747718, -0.034940567, -0.036218975, -0.053950313, 0.012006631, 0.03759819, 0.021396337, 0.07289836, -0.032091446, 0.023224914, -0.022292273, -0.0049753236, 0.055918526, -0.011232645, -0.02009705, -0.019884802, -0.0061527933, 0.0042210855, 0.02122904, 0.032334015, -0.02477714, 0.015731873, 0.0833501, -0.061484847, -0.0020267274, 0.0773412, -0.01712239, 0.0015426534, -0.017850894, -0.003779534, 0.004627561, -0.021116797, 0.041866552, -0.0041226083, 0.0029283818, -0.024125502, -0.06018689, 0.020923434, -8.5643864e-05, 0.01741177, -0.016422344, 0.041764416, -0.020428987, 0.049088296, 0.027834253, 0.049292564, -0.03953874, 0.021243934, -0.0206423, -0.052607674, 0.012585924, -0.007597169, -0.053880095, 0.022879146, 0.021573743, -0.016222863, -0.019825757, -0.019120922, -0.017620293, 0.05113524, -0.10175981, -0.049420234, -0.009313138, -0.050394766, 0.0065414817, 0.020090668, 0.033736236, 0.04560722, -0.0085492255, 0.0011968863, 0.0067064525, -0.06800442, -0.00044683754, 0.034546927, 0.017301656, 0.02682355, -0.020000236, -0.024421798, 0.003094084, 0.0006691924, -0.014272469, 0.029280627, -0.035755515, 0.038598254, 0.051535264, -0.022695092, -0.006954009, 0.0051668254, -0.047956306, -0.0107077435, 0.008724104, -0.032325506, 0.018799094, -0.031438213, -0.020825822, -0.0105709, 0.018913463, 0.0074164392, -0.0029039122, -0.08400546, 0.049126595, -0.019575741, -0.02426115, 0.0374535, -0.034108598, -0.018973574, -0.038828056, 0.024163272, -0.02569316, -0.027706321, -0.024821825, -0.03173398, -0.054173734, 0.05597385, -0.017440496, -0.003632151, 0.002666729, 0.013020527, -0.023833264, -0.033040445, -0.0060233963, -0.00091880973, 0.030595606, 0.009369758, -0.033497922, -0.011267753, -0.0414878, -0.04293045, 0.0048359525, 0.01902464, 0.010082636, -0.013843718, -0.028220983, 0.07448994, -0.050190497, 0.014713987, -0.005904639, 0.013701954, -0.0063392418, -0.0017251121, -0.046496637, 0.06767248, -0.07050245, -0.043794334, 0.00060376263, 0.0052234777, -0.0090632215, 0.036287464, 0.0031976812, -0.01684205, -0.047505215, -0.023525996, -0.006658677, -0.014081766, -0.0009621636, -0.0126715675, -0.05936556, -0.029884921, 0.035774134, 0.03825355, -0.0047628097, -0.02928701, -0.009726696, -0.00937029, -0.013206193, -0.012216484, -0.034732044, 0.018037476, -0.075502776, 0.07100887, -0.030314736, -0.05099906, -0.044764612, 0.007983896, -0.026079353, 0.03949193, -0.03692155, 0.048662737, 0.018229641, -0.018427392, -0.01588348, 0.031121172, 0.046875387, -0.0519438, 0.0908825, -0.04492207, -0.09115486, -0.055271678, 0.029891305, 0.016800027, 0.040972877, 0.037815224, 0.05436098, 0.03829185, 0.038368452, -0.04459439, 0.027667755, 0.05206296, 0.039708965, 0.03741094, 0.07460059, 0.06005071, -0.027665628, 0.08030309, 0.07969879, -0.019552335, -0.018024575, -0.0011527345, 0.025234353, 0.019084219, -0.0042992155, -0.027859258, -0.028123105, -0.03930894, -0.0001469178, -0.022824887, 0.00047024334, 0.0017337565, -0.014092405, 0.0087941885, -0.057425007, 0.0037539674, -0.03882167, 0.071093984, 0.01791925, -0.004746585, -0.0061525274, 0.014367158, 0.012416764, 0.039134458, 0.057714388, 0.0093075195, -0.010970926, -0.0069855605, -0.019465094, 0.061506126, 0.0020671557, 0.020014066, -0.033812836, 0.0071951486, -0.034249034, 0.0035406556, -0.03871954, -0.030029612, -0.02951894, -0.01685269, -0.023776013, 0.0047221156, -0.009159371, 0.031280756, 0.004455609, -0.0046042884, 0.057059027, -0.056395154, 0.038683366, 0.027837979, 0.04630514, -0.031338207, -0.0068057613, -0.0007809018, -0.028459296, -0.029550856, -0.021394143, 0.020037472, 0.011091147, 0.0063184956, 0.0850268, 0.020009812, 0.0068578925, -0.027108144, -0.07100887, -0.00412314, -0.029531706, 0.052441705, -0.011262168, -0.03773224, -0.023341943, -0.018843777, -0.049628757, 0.0073847882, -0.013197666, 0.027444337, -0.046607286, 0.00050269224, -0.025367606, -0.032511685, 0.018488968, -0.0045203734, -0.008069674, 0.006032839, 0.0023591958, -0.061765715, -0.0026552258, -0.041249488, 0.028921029, -0.006457716, 0.023413222, 0.026433634, 0.018357575, -0.0048862216, 0.024680328, 0.03391284, -0.014972448, 0.009876706, -0.032838304, -0.0135014085, 0.036257677, -0.02201975, -0.0019054926, -0.04308365, -0.0020559847, 0.101002306, -0.0040152874, 0.024680328, 0.0023195655, 0.0316361, 0.019758731, -0.024003688, -0.09364864, -0.0045933835, -0.0029453707] SET r.source = \"PMID25153461\"'\n"
     ]
    }
   ],
   "source": [
    "GraphIntegrator(uri=NEO4J_URI, username=NEO4J_USERNAME, password=NEO4J_PASSWORD).visualize_graph(knowledge_graph=kg)"
   ]
  }
 ],
 "metadata": {
  "kernelspec": {
   "display_name": "kg",
   "language": "python",
   "name": "python3"
  },
  "language_info": {
   "codemirror_mode": {
    "name": "ipython",
    "version": 3
   },
   "file_extension": ".py",
   "mimetype": "text/x-python",
   "name": "python",
   "nbconvert_exporter": "python",
   "pygments_lexer": "ipython3",
   "version": "3.11.11"
  }
 },
 "nbformat": 4,
 "nbformat_minor": 2
}
