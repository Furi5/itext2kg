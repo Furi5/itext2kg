{
 "cells": [
  {
   "cell_type": "code",
   "execution_count": 1,
   "metadata": {},
   "outputs": [
    {
     "name": "stderr",
     "output_type": "stream",
     "text": [
      "/home/jovyan/miniconda3/envs/kg/lib/python3.10/site-packages/pydantic/_internal/_generate_schema.py:502: UserWarning: <built-in function array> is not a Python type (it may be an instance of an object), Pydantic will allow any object with no validation since we cannot even enforce that the input is an instance of the given type. To get rid of this error wrap the type with `pydantic.SkipValidation`.\n",
      "  warn(\n"
     ]
    }
   ],
   "source": [
    "%load_ext autoreload\n",
    "%autoreload 2\n",
    "import sys\n",
    "sys.path.append(\"..\")\n",
    "\n",
    "import json\n",
    "import pickle\n",
    "import logging\n",
    "\n",
    "import pandas as pd\n",
    "import numpy as np\n",
    "\n",
    "from itext2kg import iText2KG\n",
    "from itext2kg.utils import PubtatorProcessor\n",
    "from langchain_ollama import ChatOllama, OllamaEmbeddings\n",
    "from itext2kg.graph_integration import GraphIntegrator"
   ]
  },
  {
   "cell_type": "code",
   "execution_count": 2,
   "metadata": {},
   "outputs": [],
   "source": [
    "logging.basicConfig(level=logging.INFO, format='%(asctime)s - %(levelname)s - %(message)s')"
   ]
  },
  {
   "cell_type": "code",
   "execution_count": 3,
   "metadata": {},
   "outputs": [],
   "source": [
    "URI = \"neo4j+s://d7f45b5f.databases.neo4j.io\"\n",
    "USERNAME = \"neo4j\"\n",
    "PASSWORD = \"uQK8FUAR8QUDyeKsMLcGh4DcLeq306tq-5CGCZWmZvk\"\n",
    "\n",
    "llm = ChatOllama(\n",
    "    model=\"deepseek-r1:32b\",\n",
    "    temperature=0,\n",
    ")\n",
    "\n",
    "embeddings = OllamaEmbeddings(\n",
    "    model=\"nomic-embed-text:latest\",\n",
    ")"
   ]
  },
  {
   "cell_type": "code",
   "execution_count": 4,
   "metadata": {},
   "outputs": [],
   "source": [
    "df = pd.read_csv(\"/home/jovyan/my_code/RAG/AD_pmid_results.csv\")\n",
    "pmid_list = list(df['pmid'].astype(str))\n",
    "pmid_list = pmid_list[:10]"
   ]
  },
  {
   "cell_type": "code",
   "execution_count": 5,
   "metadata": {},
   "outputs": [
    {
     "data": {
      "text/plain": [
       "['39652311',\n",
       " '39890535',\n",
       " '39855320',\n",
       " '39589570',\n",
       " '39604278',\n",
       " '39596657',\n",
       " '39568323',\n",
       " '39657091',\n",
       " '39276711',\n",
       " '39431763']"
      ]
     },
     "execution_count": 5,
     "metadata": {},
     "output_type": "execute_result"
    }
   ],
   "source": [
    "pmid_list"
   ]
  },
  {
   "cell_type": "code",
   "execution_count": 6,
   "metadata": {},
   "outputs": [],
   "source": [
    "\n",
    "\n",
    "#-------------PATH---------\n",
    "PUTATOR_PATH = \"/home/jovyan/my_code/RAG/Data_v2/AD_pubtabor/\"\n",
    "JSON_PATH = \"/home/jovyan/my_code/itext2kg/output_kg/AD\"\n",
    "OUTPUT_PATH = JSON_PATH\n",
    "# 39890535\n",
    "\n",
    "PMID = '39589570'  # 这个 PMID 提取出来全是散的节点，没有的关系，重新跑一下，看看问题在哪里了"
   ]
  },
  {
   "cell_type": "code",
   "execution_count": 7,
   "metadata": {},
   "outputs": [],
   "source": [
    "with open(f\"{PUTATOR_PATH}{PMID}.txt\", \"r\") as f:\n",
    "    text = f.readlines()"
   ]
  },
  {
   "cell_type": "code",
   "execution_count": 8,
   "metadata": {},
   "outputs": [
    {
     "data": {
      "text/plain": [
       "[\"39589570|t|Analysis of Alzheimer's disease associated deleterious non-synonymous single nucleotide polymorphisms and their impacts on protein structure and function by performing in-silico methods.\\n\",\n",
       " \"39589570|a|Alzheimer's disease (AD) is a neurodegenerative disorder that is presented with a progressive loss of memory, a decline in cognitive abilities and multiple changes in behavior. Its pathogenicity has been linked to genetic factors in approximately 60-80% of the cases specifically APOE gene family and as well as other gene families. This study utilized advanced computational biology methods to analyze AD-associated nsSNPs extracted from the NHGRI-EBI GWAS Catalog. Ensembl Variant Effect Predictor (VEP) is used to annotate the variants associated with AD. Annotated missense variants were subjected to PolyPhen-2, SNPs&Go, PredictSNP servers which were used to predict pathogenicity of selected missense variants by protein sequence information. DynaMut and DUET servers were applied to determine protein stability due to the amino acid change by integrating protein structure information. Missense variations associated with AD were annotated to 26 proteins and further analyzed in our study. Following rigorous data filtration steps, 15 candidate variants (13 proteins) were identified and subjected to sequence and structure-based analysis. Finally in this in-silico study, five deleterious non-synonymous single nucleotide polymorphisms (nsSNPs) were identified in ACKR2(V41A), APOE(R176C), ATP8B4(G395S), LAMB2(E987K), and TOMM40(R239W), and these findings were subsequently backed-up by existing in-vivo and in-vitro literature. This study not only provides invaluable insight into the intricate pathogenic mechanisms underlying AD but also offers a distinctive perspective that paves the way for future, more comprehensive investigations aimed at unraveling the molecular intricacies responsible for the development and progression of AD. Nonetheless, it is imperative that further rigorous in vivo and in vitro experiments are conducted to validate and expand upon the findings presented here.\\n\",\n",
       " \"39589570\\t12\\t31\\tAlzheimer's disease\\tDisease\\tMESH:D000544\\n\",\n",
       " \"39589570\\t187\\t206\\tAlzheimer's disease\\tDisease\\tMESH:D000544\\n\",\n",
       " '39589570\\t208\\t210\\tAD\\tDisease\\tMESH:D000544\\n',\n",
       " '39589570\\t217\\t243\\tneurodegenerative disorder\\tDisease\\tMESH:D019636\\n',\n",
       " '39589570\\t281\\t295\\tloss of memory\\tDisease\\tMESH:D008569\\n',\n",
       " '39589570\\t299\\t329\\tdecline in cognitive abilities\\tDisease\\tMESH:D003072\\n',\n",
       " '39589570\\t467\\t471\\tAPOE\\tGene\\t348\\n',\n",
       " '39589570\\t590\\t592\\tAD\\tDisease\\tMESH:D000544\\n',\n",
       " '39589570\\t742\\t744\\tAD\\tDisease\\tMESH:D000544\\n',\n",
       " '39589570\\t1116\\t1118\\tAD\\tDisease\\tMESH:D000544\\n',\n",
       " '39589570\\t1459\\t1464\\tACKR2\\tGene\\t1238\\n',\n",
       " '39589570\\t1465\\t1469\\tV41A\\tProteinMutation\\ttmVar:p|SUB|V|41|A;HGVS:p.V41A;VariantGroup:3;CorrespondingGene:1238;RS#:2228467;CorrespondingSpecies:9606;CA#:2338634\\n',\n",
       " '39589570\\t1472\\t1476\\tAPOE\\tGene\\t348\\n',\n",
       " '39589570\\t1477\\t1482\\tR176C\\tProteinMutation\\ttmVar:p|SUB|R|176|C;HGVS:p.R176C;VariantGroup:0;CorrespondingGene:348;RS#:7412;CorrespondingSpecies:9606;CA#:127498\\n',\n",
       " '39589570\\t1485\\t1491\\tATP8B4\\tGene\\t79895\\n',\n",
       " '39589570\\t1492\\t1497\\tG395S\\tProteinMutation\\ttmVar:p|SUB|G|395|S;HGVS:p.G395S;VariantGroup:4;CorrespondingGene:79895;RS#:138799625;CorrespondingSpecies:9606;CA#:7553458\\n',\n",
       " '39589570\\t1500\\t1505\\tLAMB2\\tGene\\t3913\\n',\n",
       " '39589570\\t1506\\t1511\\tE987K\\tProteinMutation\\ttmVar:p|SUB|E|987|K;HGVS:p.E987K;VariantGroup:2;CorrespondingGene:3913;RS#:34759087;CorrespondingSpecies:9606;CA#:2394153\\n',\n",
       " '39589570\\t1518\\t1524\\tTOMM40\\tGene\\t10452\\n',\n",
       " '39589570\\t1525\\t1530\\tR239W\\tProteinMutation\\ttmVar:p|SUB|R|239|W;HGVS:p.R239W;VariantGroup:1;CorrespondingGene:10452;RS#:142412517;CorrespondingSpecies:9606;CA#:9505763\\n',\n",
       " '39589570\\t1725\\t1727\\tAD\\tDisease\\tMESH:D000544\\n',\n",
       " '39589570\\t1932\\t1934\\tAD\\tDisease\\tMESH:D000544\\n',\n",
       " '39589570\\tPositive_Correlation\\tMESH:D000544\\tRS#:142412517;HGVS:p.R239W;CorrespondingGene:10452\\n',\n",
       " '39589570\\tPositive_Correlation\\tMESH:D000544\\tRS#:34759087;HGVS:p.E987K;CorrespondingGene:3913\\n',\n",
       " '39589570\\tPositive_Correlation\\tMESH:D000544\\tRS#:7412;HGVS:p.R176C;CorrespondingGene:348\\n',\n",
       " '39589570\\tPositive_Correlation\\tMESH:D000544\\tRS#:2228467;HGVS:p.V41A;CorrespondingGene:1238\\n',\n",
       " '39589570\\tPositive_Correlation\\tMESH:D000544\\tRS#:138799625;HGVS:p.G395S;CorrespondingGene:79895\\n',\n",
       " '39589570\\tAssociation\\tMESH:D000544\\t79895\\n',\n",
       " '39589570\\tAssociation\\tMESH:D000544\\t348\\n',\n",
       " '39589570\\tAssociation\\tMESH:D000544\\t1238\\n',\n",
       " '39589570\\tAssociation\\tMESH:D000544\\t10452\\n',\n",
       " '39589570\\tAssociation\\tMESH:D000544\\t3913\\n',\n",
       " '\\n']"
      ]
     },
     "execution_count": 8,
     "metadata": {},
     "output_type": "execute_result"
    }
   ],
   "source": [
    "text"
   ]
  },
  {
   "cell_type": "code",
   "execution_count": 9,
   "metadata": {},
   "outputs": [
    {
     "name": "stderr",
     "output_type": "stream",
     "text": [
      "2025-02-28 10:30:32,731 - INFO - Processing PubTator file: /home/jovyan/my_code/RAG/Data_v2/AD_pubtabor/39589570.txt\n",
      "2025-02-28 10:30:32,733 - WARNING - Skipping malformed entity line: ['39589570', 'Positive_Correlation', 'MESH:D000544', 'RS#:142412517;HGVS:p.R239W;CorrespondingGene:10452']\n",
      "2025-02-28 10:30:32,734 - WARNING - Skipping malformed entity line: ['39589570', 'Positive_Correlation', 'MESH:D000544', 'RS#:34759087;HGVS:p.E987K;CorrespondingGene:3913']\n",
      "2025-02-28 10:30:32,735 - WARNING - Skipping malformed entity line: ['39589570', 'Positive_Correlation', 'MESH:D000544', 'RS#:7412;HGVS:p.R176C;CorrespondingGene:348']\n",
      "2025-02-28 10:30:32,736 - WARNING - Skipping malformed entity line: ['39589570', 'Positive_Correlation', 'MESH:D000544', 'RS#:2228467;HGVS:p.V41A;CorrespondingGene:1238']\n",
      "2025-02-28 10:30:32,737 - WARNING - Skipping malformed entity line: ['39589570', 'Positive_Correlation', 'MESH:D000544', 'RS#:138799625;HGVS:p.G395S;CorrespondingGene:79895']\n",
      "2025-02-28 10:30:32,737 - WARNING - Skipping malformed entity line: ['39589570', 'Association', 'MESH:D000544', '79895']\n",
      "2025-02-28 10:30:32,738 - WARNING - Skipping malformed entity line: ['39589570', 'Association', 'MESH:D000544', '348']\n",
      "2025-02-28 10:30:32,739 - WARNING - Skipping malformed entity line: ['39589570', 'Association', 'MESH:D000544', '1238']\n",
      "2025-02-28 10:30:32,740 - WARNING - Skipping malformed entity line: ['39589570', 'Association', 'MESH:D000544', '10452']\n",
      "2025-02-28 10:30:32,741 - WARNING - Skipping malformed entity line: ['39589570', 'Association', 'MESH:D000544', '3913']\n",
      "2025-02-28 10:30:32,741 - WARNING - Skipping malformed entity line: ['']\n"
     ]
    },
    {
     "name": "stderr",
     "output_type": "stream",
     "text": [
      "2025-02-28 10:30:34,767 - INFO - HTTP Request: POST http://127.0.0.1:11434/api/chat \"HTTP/1.1 200 OK\"\n",
      "2025-02-28 10:30:57,254 - INFO - Abstract distilled successfully.\n",
      "2025-02-28 10:30:57,255 - INFO - Adding Alzheimer's disease to the abstract\n",
      "2025-02-28 10:30:57,256 - INFO - Adding AD to the abstract\n",
      "2025-02-28 10:30:57,257 - INFO - Adding neurodegenerative disorder to the abstract\n",
      "2025-02-28 10:30:57,258 - INFO - Adding loss of memory to the abstract\n",
      "2025-02-28 10:30:57,258 - INFO - Adding decline in cognitive abilities to the abstract\n",
      "2025-02-28 10:30:57,259 - INFO - Adding APOE to the abstract\n",
      "2025-02-28 10:30:57,259 - INFO - Adding ACKR2 to the abstract\n",
      "2025-02-28 10:30:57,260 - INFO - Adding ATP8B4 to the abstract\n",
      "2025-02-28 10:30:57,261 - INFO - Adding LAMB2 to the abstract\n",
      "2025-02-28 10:30:57,261 - INFO - Adding TOMM40 to the abstract\n",
      "2025-02-28 10:30:57,262 - INFO - Adding [{'proteinmutation': 'V41A'}, {'proteinmutation': 'R176C'}, {'proteinmutation': 'G395S'}, {'proteinmutation': 'E987K'}, {'proteinmutation': 'R239W'}] to the abstract\n"
     ]
    },
    {
     "name": "stdout",
     "output_type": "stream",
     "text": [
      "['R239W'] {'proteinmutation': 'R239W'}\n"
     ]
    }
   ],
   "source": [
    "pubtator_file = f\"{PUTATOR_PATH}{PMID}.txt\"\n",
    "pubtator_process = PubtatorProcessor(pubtator_file, llm)\n",
    "semantic_blocks = pubtator_process.block\n",
    "properties_info = pubtator_process.properties_info\n",
    "pubtator_info = pubtator_process.pubtator_info"
   ]
  },
  {
   "cell_type": "code",
   "execution_count": 10,
   "metadata": {},
   "outputs": [
    {
     "data": {
      "text/plain": [
       "{'proteinmutation': 'R239W', 'source': 'PMID39589570'}"
      ]
     },
     "execution_count": 10,
     "metadata": {},
     "output_type": "execute_result"
    }
   ],
   "source": [
    "properties_info"
   ]
  },
  {
   "cell_type": "code",
   "execution_count": 11,
   "metadata": {},
   "outputs": [
    {
     "data": {
      "text/plain": [
       "['disease - [[\\'disease\\': \"Alzheimer\\'s disease\"], [\\'disease\\': \"Alzheimer\\'s disease\"], [\\'disease\\': \\'AD\\'], [\\'disease\\': \\'neurodegenerative disorder\\'], [\\'disease\\': \\'loss of memory\\'], [\\'disease\\': \\'decline in cognitive abilities\\']]',\n",
       " \"gene - [['gene': 'APOE'], ['gene': 'ACKR2'], ['gene': 'ATP8B4'], ['gene': 'LAMB2'], ['gene': 'TOMM40']]\",\n",
       " \"proteinmutation - [['proteinmutation': 'V41A'], ['proteinmutation': 'R176C'], ['proteinmutation': 'G395S'], ['proteinmutation': 'E987K'], ['proteinmutation': 'R239W']]\",\n",
       " \"Title: Analysis of Alzheimer's disease associated deleterious non-synonymous single nucleotide polymorphisms and their impacts on protein structure and function by performing in-silico methods. Abstract: Alzheimer's disease (AD) is a neurodegenerative disorder that is presented with a progressive loss of memory, a decline in cognitive abilities and multiple changes in behavior. Its pathogenicity has been linked to genetic factors in approximately 60-80% of the cases specifically APOE gene family and as well as other gene families. This study utilized advanced computational biology methods to analyze AD-associated nsSNPs extracted from the NHGRI-EBI GWAS Catalog. Ensembl Variant Effect Predictor (VEP) is used to annotate the variants associated with AD. Annotated missense variants were subjected to PolyPhen-2, SNPs&Go, PredictSNP servers which were used to predict pathogenicity of selected missense variants by protein sequence information. DynaMut and DUET servers were applied to determine protein stability due to the amino acid change by integrating protein structure information. Missense variations associated with AD were annotated to 26 proteins and further analyzed in our study. Following rigorous data filtration steps, 15 candidate variants (13 proteins) were identified and subjected to sequence and structure-based analysis. Finally in this in-silico study, five deleterious non-synonymous single nucleotide polymorphisms (nsSNPs) were identified in ACKR2(V41A), APOE(R176C), ATP8B4(G395S), LAMB2(E987K), and TOMM40(R239W), and these findings were subsequently backed-up by existing in-vivo and in-vitro literature. This study not only provides invaluable insight into the intricate pathogenic mechanisms underlying AD but also offers a distinctive perspective that paves the way for future, more comprehensive investigations aimed at unraveling the molecular intricacies responsible for the development and progression of AD. Nonetheless, it is imperative that further rigorous in vivo and in vitro experiments are conducted to validate and expand upon the findings presented here..\"]"
      ]
     },
     "execution_count": 11,
     "metadata": {},
     "output_type": "execute_result"
    }
   ],
   "source": [
    "semantic_blocks"
   ]
  },
  {
   "cell_type": "code",
   "execution_count": 12,
   "metadata": {},
   "outputs": [
    {
     "data": {
      "text/plain": [
       "{\"Alzheimer's disease\": {'label': 'disease', 'unique_id': 'MESH:D000544'},\n",
       " 'AD': {'label': 'disease', 'unique_id': 'MESH:D000544'},\n",
       " 'neurodegenerative disorder': {'label': 'disease',\n",
       "  'unique_id': 'MESH:D019636'},\n",
       " 'loss of memory': {'label': 'disease', 'unique_id': 'MESH:D008569'},\n",
       " 'decline in cognitive abilities': {'label': 'disease',\n",
       "  'unique_id': 'MESH:D003072'},\n",
       " 'APOE': {'label': 'gene', 'unique_id': 'Gene ID:348'},\n",
       " 'ACKR2': {'label': 'gene', 'unique_id': 'Gene ID:1238'},\n",
       " 'V41A': {'label': 'proteinmutation',\n",
       "  'unique_id': 'tmVar:p|SUB|V|41|A;HGVS:p.V41A;VariantGroup:3;CorrespondingGene:1238;RS#:2228467;CorrespondingSpecies:9606;CA#:2338634'},\n",
       " 'R176C': {'label': 'proteinmutation',\n",
       "  'unique_id': 'tmVar:p|SUB|R|176|C;HGVS:p.R176C;VariantGroup:0;CorrespondingGene:348;RS#:7412;CorrespondingSpecies:9606;CA#:127498'},\n",
       " 'ATP8B4': {'label': 'gene', 'unique_id': 'Gene ID:79895'},\n",
       " 'G395S': {'label': 'proteinmutation',\n",
       "  'unique_id': 'tmVar:p|SUB|G|395|S;HGVS:p.G395S;VariantGroup:4;CorrespondingGene:79895;RS#:138799625;CorrespondingSpecies:9606;CA#:7553458'},\n",
       " 'LAMB2': {'label': 'gene', 'unique_id': 'Gene ID:3913'},\n",
       " 'E987K': {'label': 'proteinmutation',\n",
       "  'unique_id': 'tmVar:p|SUB|E|987|K;HGVS:p.E987K;VariantGroup:2;CorrespondingGene:3913;RS#:34759087;CorrespondingSpecies:9606;CA#:2394153'},\n",
       " 'TOMM40': {'label': 'gene', 'unique_id': 'Gene ID:10452'},\n",
       " 'R239W': {'label': 'proteinmutation',\n",
       "  'unique_id': 'tmVar:p|SUB|R|239|W;HGVS:p.R239W;VariantGroup:1;CorrespondingGene:10452;RS#:142412517;CorrespondingSpecies:9606;CA#:9505763'}}"
      ]
     },
     "execution_count": 12,
     "metadata": {},
     "output_type": "execute_result"
    }
   ],
   "source": [
    "pubtator_info"
   ]
  },
  {
   "cell_type": "code",
   "execution_count": 13,
   "metadata": {},
   "outputs": [
    {
     "data": {
      "text/plain": [
       "{'proteinmutation': 'R239W', 'source': 'PMID39589570'}"
      ]
     },
     "execution_count": 13,
     "metadata": {},
     "output_type": "execute_result"
    }
   ],
   "source": [
    "properties_info"
   ]
  },
  {
   "cell_type": "code",
   "execution_count": null,
   "metadata": {},
   "outputs": [
    {
     "name": "stderr",
     "output_type": "stream",
     "text": [
      "2025-02-28 10:30:57,726 - INFO - Extracting Entities from the Document\n"
     ]
    },
    {
     "name": "stderr",
     "output_type": "stream",
     "text": [
      "2025-02-28 10:30:58,800 - INFO - HTTP Request: POST http://127.0.0.1:11434/api/chat \"HTTP/1.1 200 OK\"\n",
      "2025-02-28 10:31:26,396 - INFO - INFO --- alzheimer's disease add unique_id and label\n",
      "2025-02-28 10:31:26,397 - INFO - INFO --- apoe add unique_id and label\n",
      "2025-02-28 10:31:26,398 - INFO - INFO --- ackr2 add unique_id and label\n",
      "2025-02-28 10:31:26,399 - INFO - INFO --- atp8b4 add unique_id and label\n",
      "2025-02-28 10:31:26,400 - INFO - INFO --- lamb2 add unique_id and label\n",
      "2025-02-28 10:31:26,401 - INFO - INFO --- tomm40 add unique_id and label\n",
      "2025-02-28 10:31:26,401 - INFO - INFO --- v41a add unique_id and label\n",
      "2025-02-28 10:31:26,402 - INFO - INFO --- r176c add unique_id and label\n",
      "2025-02-28 10:31:26,403 - INFO - INFO --- g395s add unique_id and label\n",
      "2025-02-28 10:31:26,403 - INFO - INFO --- e987k add unique_id and label\n",
      "2025-02-28 10:31:26,404 - INFO - INFO --- r239w add unique_id and label\n",
      "2025-02-28 10:31:26,404 - INFO - {'entities': [{'label': 'disease', 'name': \"Alzheimer's disease\", 'properties': {'unique_id': 'MESH:D000544'}}, {'label': 'gene', 'name': 'APOE', 'properties': {'unique_id': 'Gene ID:348'}}, {'label': 'gene', 'name': 'ACKR2', 'properties': {'unique_id': 'Gene ID:1238'}}, {'label': 'gene', 'name': 'ATP8B4', 'properties': {'unique_id': 'Gene ID:79895'}}, {'label': 'gene', 'name': 'LAMB2', 'properties': {'unique_id': 'Gene ID:3913'}}, {'label': 'gene', 'name': 'TOMM40', 'properties': {'unique_id': 'Gene ID:10452'}}]}\n",
      "2025-02-28 10:31:26,499 - INFO - HTTP Request: POST http://127.0.0.1:11434/api/embed \"HTTP/1.1 200 OK\"\n",
      "2025-02-28 10:31:26,582 - INFO - HTTP Request: POST http://127.0.0.1:11434/api/embed \"HTTP/1.1 200 OK\"\n",
      "2025-02-28 10:31:26,588 - INFO - Extracting Relations from the Document\n",
      "2025-02-28 10:31:27,797 - INFO - HTTP Request: POST http://127.0.0.1:11434/api/chat \"HTTP/1.1 200 OK\"\n"
     ]
    }
   ],
   "source": [
    "# -----------------Build the graph-----------------\n",
    "itext2kg = iText2KG(llm_model = llm, embeddings_model = embeddings)\n",
    "kg = itext2kg.build_graph(\n",
    "    sections=[semantic_blocks], \n",
    "    source=properties_info,  \n",
    "    entities_info=pubtator_info,\n",
    "    ent_threshold=0.9, \n",
    "    rel_threshold=0.4\n",
    "    )"
   ]
  },
  {
   "cell_type": "code",
   "execution_count": null,
   "metadata": {},
   "outputs": [],
   "source": [
    "# kg.relationships[0]"
   ]
  },
  {
   "cell_type": "code",
   "execution_count": null,
   "metadata": {},
   "outputs": [
    {
     "name": "stderr",
     "output_type": "stream",
     "text": [
      "2025-02-28 10:27:43,655 - INFO - Received notification from DBMS server: {severity: INFORMATION} {code: Neo.ClientNotification.Statement.CartesianProduct} {category: PERFORMANCE} {title: This query builds a cartesian product between disconnected patterns.} {description: If a part of a query contains multiple disconnected patterns, this will build a cartesian product between all those parts. This may produce a large amount of data and slow down query processing. While occasionally intended, it may often be possible to reformulate the query that avoids the use of this cross product, perhaps by adding a relationship between the different parts or by using OPTIONAL MATCH (identifier is: (m))} {position: line: 1, column: 1, offset: 0} for query: 'MATCH (n:gene {name: \"ackr2\"}), (m:disease {name: \"alzheimer\\'s disease\"}) MERGE (n)-[r:associated_with]->(m) SET r.embeddings = \"0.00097569043,-0.0033646754,-0.15813373,-0.021601088,0.0036009245,-0.008725069,-0.013594078,-0.038311917,-0.0049836556,0.00028058642,-0.028602762,0.028019289,0.10704838,0.051643644,-0.015601602,-0.049015917,-0.02552379,0.0037471864,-0.057616893,0.041816954,-0.04617411,-0.039113667,0.024944514,-0.00027704466,0.11583947,-0.017208267,0.028546093,-0.040007766,-0.0520802,-0.0014613057,0.04362194,0.020845512,-0.0013020574,-0.023057671,-0.035461716,-0.023739919,0.023299037,0.035873085,0.01620803,0.023428112,0.022471556,0.033982046,-0.04451604,-0.03277942,0.005773928,-0.020717483,0.027234329,0.02049291,0.058733467,0.042219926,0.011869894,0.004273204,-0.006924018,-0.01790716,0.106301196,0.043947257,0.090694346,-0.011254939,-0.018261861,0.019212103,0.061193287,0.06998316,-0.0567144,0.05995918,0.0872019,0.013494908,-0.005257552,0.03205323,-0.0056857117,-0.013706889,0.0652734,0.0071171094,0.045078523,0.04082211,0.004685688,-0.0035673764,0.01323262,-0.034231804,0.035054546,0.029887242,0.01711328,0.025997072,0.06643195,-0.03365883,0.041720405,-0.0099838395,-0.005796818,0.012236139,-0.03467256,0.040066533,0.0419051,0.055295594,0.01617353,0.02999638,-0.081669405,0.041884113,-0.0064818873,0.007257644,-0.068379655,-0.05173599,-0.011917642,0.021825662,-0.0020641927,-0.013916247,0.031551607,0.04356737,0.0095150145,-0.0038282534,0.026952036,0.06053006,-0.06219233,0.008996081,-0.011139504,-0.09443025,0.023675773,-0.03955442,0.011754983,-0.07275361,0.020287225,0.020459328,-0.015977291,-0.0091461465,0.0017944938,0.072577305,-0.015529193,0.011776497,-0.017372483,-0.035444926,0.012064822,-0.04612374,0.00053803646,-0.08909924,-0.0011637975,-0.02384263,-0.017864132,0.021285215,-0.026637213,0.0019246208,0.02833831,0.06591144,0.019092994,0.014743707,0.013559447,-0.02063563,0.03413106,-0.02398745,0.034710336,-0.0529701,-0.036624465,0.0026464849,0.015018653,0.048109226,-0.07475168,-0.010744926,0.007825462,0.00037385288,-0.04515408,-0.031380553,0.024549935,-0.0043366933,0.031578895,-0.004002062,0.020044811,0.016262205,-0.029564023,-0.056315623,0.05288195,0.037608813,0.018293343,0.043359585,-0.03554357,-0.028813692,-0.021095272,-0.015435533,0.056773167,0.017821107,-0.04085569,-0.011199581,0.037606712,-0.05557684,0.014577637,-0.048621338,0.056689214,0.009085805,-0.02011722,0.012272868,0.008047937,0.0078086713,-0.080569625,-0.01948285,-0.029412908,0.00071359985,-0.0063508004,-0.033323016,-0.054241985,-0.03759832,0.042278692,0.015520797,0.02496655,-0.040650006,-0.019430118,-0.003648804,-0.046018798,0.013501204,0.010067006,0.030006874,-0.012541518,0.008230535,-0.021314794,0.009262369,0.04740402,-0.0075657326,-0.04508692,0.003418983,-0.015117823,-0.056689214,-0.021588495,-0.021950541,-0.022361057,0.063140996,0.00080542336,0.012493244,-0.04253055,-0.043773055,0.015636232,-0.019695356,-0.017886302,0.017081272,-0.017668942,0.009724897,-0.02987045,-0.019898547,0.062645674,0.014075758,0.041684728,0.02444919,0.017094914,0.017969074,-0.03104999,0.024365239,-0.037262507,0.036036793,0.007955327,-0.04954482,-0.014420489,0.08883059,0.001416181,0.009876013,-0.006986982,0.09168499,-0.022625314,0.02320144,-0.010341951,0.013605882,0.07499515,0.0014964609,-0.038551185,0.030355278,0.018135931,-0.050984614,0.01852054,-0.016393907,0.036977068,-0.04225351,-0.0013014015,-0.020697545,0.014156562,-0.04028901,-0.011361454,-0.04290834,0.0014111962,0.05102239,0.022868777,0.013982884,0.023674725,0.017089667,-0.0114123495,-0.0055172816,-0.022376603,-0.036020003,0.0058289566,-0.0012385683,-0.010553932,0.0061149867,0.009643043,0.03845044,0.028774865,0.011905705,0.01571179,0.013644449,0.057360835,-0.012796,-0.052441195,0.06357755,0.03671681,0.013637103,0.1143103,-0.005754842,-0.00601257,0.03536727,0.019195836,0.0022437074,0.045506682,-0.013586206,0.026718019,-0.06271283,-0.022875335,0.0024955007,0.030216232,-0.008478721,-0.050124094,-0.035033558,-0.0023947572,0.044562213,-0.06038734,0.045808915,0.07523022,0.029790696,0.013748341,-0.021496147,-0.014377201,-0.0016940127,-0.028585972,-0.04533458,-0.017323686,0.052025627,0.008020619,0.030168485,0.013209993,-0.04073396,-0.0483317,0.015012882,0.06281358,-0.0035270723,-0.024175555,-0.00019356719,-0.010046935,0.0008878022,-0.045296803,0.05816259,0.08033455,-0.035461716,0.034489434,-0.05264688,-0.040885076,0.026079977,-0.01970585,0.023569783,0.00567102,0.05168562,-0.04836948,0.038782053,-0.046161518,-0.022545557,0.019827582,-0.03832241,0.03811043,0.013706365,-0.037890054,-0.044847652,0.018669032,-0.0016780092,-0.01820939,-0.053419247,-0.0005609105,0.042406723,0.039814677,0.00076003635,0.06165503,-0.033249557,-0.011070243,0.00043419405,-0.0046921815,0.022078043,0.029299572,0.018473841,-0.069034494,-0.013417382,-0.012551356,-0.0027821867,0.003283609,-0.01450654,-0.009190747,0.014733738,0.050799917,-0.020500256,0.009271551,-0.033497218,-0.0008014881,0.024589812,-0.031662848,-0.016328843,-0.012385417,0.006775001,-0.0071737776,-0.057742823,0.030370232,0.047911935,0.055937834,0.06711197,0.015629936,-0.09584066,0.02184875,-0.014355425,0.009575881,0.049876433,-0.006395327,-0.06220072,0.038794648,-0.00420309,0.02236191,0.036339026,-0.0036852711,-0.037824992,-0.00014101468,-0.02546922,0.032737445,-0.00581492,-0.009653143,0.0370946,0.012831155,0.08532136,-0.022146782,0.0545694,0.0065493775,0.022749145,0.03178458,0.03284658,0.0014224774,-0.036015805,-0.046052378,0.041191503,0.026736908,-0.022377653,-0.04524643,-0.007702943,0.031259872,0.023103844,0.03006984,0.04287476,0.014209033,-0.023721948,-0.062368628,-0.010731808,0.04665684,0.1127236,0.017448172,-0.0019303926,-0.05958139,0.024351595,0.017107507,0.015039117,-0.018929286,-0.0036409334,0.082139544,-0.013535835,0.029484268,0.022276908,0.02255028,-0.04099815,0.028621651,0.016243841,-0.043260943,0.0038091014,0.014367494,-0.05888878,0.002957373,0.0013602998,0.007794242,0.065743536,-0.060538456,0.005183044,0.044956792,-0.00794457,-0.011568943,-0.014627748,-0.02093996,-0.072107166,0.015768459,0.06507191,0.00820325,-0.007874784,-0.07855475,-0.06863991,-0.009882309,0.017370384,0.041363608,0.014045324,0.029155275,-0.024333756,0.00873845,0.030930357,0.03333771,0.02551959,-0.04590126,-0.002259252,-0.071888894,0.03185384,0.041040387,0.008068926,0.049549017,0.06090785,-0.029888289,-0.006047496,0.022209747,0.004470493,0.016235447,-0.027813604,-0.064492635,0.02305977,-0.0046630604,0.024109181,0.04747538,0.009536003,-0.041310087,0.0068169776,0.01557235,-0.032401633,-0.04972112,0.049502842,0.010782451,-0.0014906891,-0.072291866,-0.03597383,-0.023269651,0.014651884,0.012671645,0.0010024504,0.049309753,-0.021284165,0.022525618,-0.008318555,-0.011048205,0.0034462677,0.041959673,-0.067279875,-0.03538616,0.016200291,0.025011675,0.057952706,0.009081608,-0.0028286888,-0.03791734,-0.0057847826,0.009921137,0.009509767,-0.0024406689,-0.012390992,-0.023110142,-0.040330987,0.053826418,-0.074491434,-0.03044553,-0.02616393,0.015392769,-0.06343483,-0.0017832126,-0.016249089,-0.031133942,-0.02732248,0.02509353,-0.03320758,0.0088266,0.015922721,-0.03251182,-0.010464733,0.008195641,-0.027211241,0.012950788,0.018712254,0.022818405,-0.071259245,-0.005305825,-0.035717774,0.017324736,-0.002753656,-0.0062029404,0.011454752,-0.033798397,-0.03597383,-0.0133422185,-0.061663423,0.0042133876,-0.036804963,-0.03313622,-0.00445121,-0.052567124,-0.0065548746,0.04670721,-0.020469822,0.012547289,0.010322537,-0.038832426,-0.009726996,-0.0011826869,0.048466023,-0.009326121,-0.026655054,-0.025347488,-0.0061946767,-0.0023265986,-0.016931206,0.08099778,-0.014711701,-0.04540174,0.021747481,-0.0015028885,-0.011863598,-0.029152654,0.0062156646,0.03605778,0.025432488,0.024598207,0.006447585,0.059892017,-0.0406626,0.014282492,-0.0059113353,-0.06471931,-0.018717306,-0.013561546,-0.058607537,-0.0028604332,0.0137231555,-0.0297844,-0.04781119,-0.08635398,-0.021696057,0.006730073,0.02341657,-0.02759113,0.03402612,-0.066591464,-0.06614651,-0.053990126,0.029696248,-0.0075785876,-0.0051161433,0.019357447,0.06356076,0.036093462,-0.006668059,-0.006367042,0.043542184,0.029114874,-0.06986562,0.04282019,0.03133333,0.047995888,-0.032130882,0.07591023,0.047461737,0.015687654,0.023767073,0.016900249,-0.020835018,-0.007351915,-0.047525752,-0.0454815,-0.0011123762,-0.008382469,-0.0004961093,-0.029857859,0.010298925,-0.016935142,-0.008832897,0.015942136,-0.02898055,-0.084171206,0.006378717,0.043865405,0.006097081,-0.015442841,-0.031499136,-0.015484068,0.041330025,0.025702188,0.034576014,-0.00312987,0.014275146,-0.0170309,0.012408242,0.057218116,0.027958423,-0.020746866,-0.013496483,0.027725976,-0.014699108,0.007078806,-0.05430915,-0.034853056,-0.07885698,0.0019385256,-0.043521196,-0.007687989,-0.025462396,-0.01892194,0.0436975,-0.08781476,0.07328251,-0.03631384,0.024746174,-0.0139519265,0.013940384,-0.011889833,-0.014875443,0.013731517,0.013514322,-0.010952053,0.03583111,-0.05583709,0.015836671,0.03855538,0.03902447,0.029566122,0.015411133,-0.015321933,-0.04019876,-0.02623529,0.057469975,0.0317628,0.0017763914,-0.06952142,-0.03044133,-0.0070719845,-0.008536963,0.049141847,-0.048449233,0.017134793,-0.016571783,-0.013487037,0.0022885043,-0.043235756,0.046963267,-0.027305689,-0.007775877,-0.027005557,-0.027901756,-0.04522964,-0.039046507,-0.025471319,-0.020184383,0.013959273,0.07501194,0.013657042,-0.008030753,0.046572886,0.03197767,-0.018245595,0.05103918,0.0036162722,0.014761941,-0.02118972,0.015019703,-0.007574128,-0.020456703,-0.08748735,0.027488288,0.060290795,0.026231091,0.033125725,-0.043626137,-0.037516464,-0.001027374,0.012630718,-0.024014734,-0.092264265,-0.010246455\" SET r.proteinmutation = \"R239W\" SET r.source = \"PMID39589570\"'\n",
      "2025-02-28 10:27:44,207 - INFO - Received notification from DBMS server: {severity: INFORMATION} {code: Neo.ClientNotification.Statement.CartesianProduct} {category: PERFORMANCE} {title: This query builds a cartesian product between disconnected patterns.} {description: If a part of a query contains multiple disconnected patterns, this will build a cartesian product between all those parts. This may produce a large amount of data and slow down query processing. While occasionally intended, it may often be possible to reformulate the query that avoids the use of this cross product, perhaps by adding a relationship between the different parts or by using OPTIONAL MATCH (identifier is: (m))} {position: line: 1, column: 1, offset: 0} for query: 'MATCH (n:gene {name: \"tomm40\"}), (m:disease {name: \"alzheimer\\'s disease\"}) MERGE (n)-[r:associated_with]->(m) SET r.embeddings = \"0.00097569043,-0.0033646754,-0.15813373,-0.021601088,0.0036009245,-0.008725069,-0.013594078,-0.038311917,-0.0049836556,0.00028058642,-0.028602762,0.028019289,0.10704838,0.051643644,-0.015601602,-0.049015917,-0.02552379,0.0037471864,-0.057616893,0.041816954,-0.04617411,-0.039113667,0.024944514,-0.00027704466,0.11583947,-0.017208267,0.028546093,-0.040007766,-0.0520802,-0.0014613057,0.04362194,0.020845512,-0.0013020574,-0.023057671,-0.035461716,-0.023739919,0.023299037,0.035873085,0.01620803,0.023428112,0.022471556,0.033982046,-0.04451604,-0.03277942,0.005773928,-0.020717483,0.027234329,0.02049291,0.058733467,0.042219926,0.011869894,0.004273204,-0.006924018,-0.01790716,0.106301196,0.043947257,0.090694346,-0.011254939,-0.018261861,0.019212103,0.061193287,0.06998316,-0.0567144,0.05995918,0.0872019,0.013494908,-0.005257552,0.03205323,-0.0056857117,-0.013706889,0.0652734,0.0071171094,0.045078523,0.04082211,0.004685688,-0.0035673764,0.01323262,-0.034231804,0.035054546,0.029887242,0.01711328,0.025997072,0.06643195,-0.03365883,0.041720405,-0.0099838395,-0.005796818,0.012236139,-0.03467256,0.040066533,0.0419051,0.055295594,0.01617353,0.02999638,-0.081669405,0.041884113,-0.0064818873,0.007257644,-0.068379655,-0.05173599,-0.011917642,0.021825662,-0.0020641927,-0.013916247,0.031551607,0.04356737,0.0095150145,-0.0038282534,0.026952036,0.06053006,-0.06219233,0.008996081,-0.011139504,-0.09443025,0.023675773,-0.03955442,0.011754983,-0.07275361,0.020287225,0.020459328,-0.015977291,-0.0091461465,0.0017944938,0.072577305,-0.015529193,0.011776497,-0.017372483,-0.035444926,0.012064822,-0.04612374,0.00053803646,-0.08909924,-0.0011637975,-0.02384263,-0.017864132,0.021285215,-0.026637213,0.0019246208,0.02833831,0.06591144,0.019092994,0.014743707,0.013559447,-0.02063563,0.03413106,-0.02398745,0.034710336,-0.0529701,-0.036624465,0.0026464849,0.015018653,0.048109226,-0.07475168,-0.010744926,0.007825462,0.00037385288,-0.04515408,-0.031380553,0.024549935,-0.0043366933,0.031578895,-0.004002062,0.020044811,0.016262205,-0.029564023,-0.056315623,0.05288195,0.037608813,0.018293343,0.043359585,-0.03554357,-0.028813692,-0.021095272,-0.015435533,0.056773167,0.017821107,-0.04085569,-0.011199581,0.037606712,-0.05557684,0.014577637,-0.048621338,0.056689214,0.009085805,-0.02011722,0.012272868,0.008047937,0.0078086713,-0.080569625,-0.01948285,-0.029412908,0.00071359985,-0.0063508004,-0.033323016,-0.054241985,-0.03759832,0.042278692,0.015520797,0.02496655,-0.040650006,-0.019430118,-0.003648804,-0.046018798,0.013501204,0.010067006,0.030006874,-0.012541518,0.008230535,-0.021314794,0.009262369,0.04740402,-0.0075657326,-0.04508692,0.003418983,-0.015117823,-0.056689214,-0.021588495,-0.021950541,-0.022361057,0.063140996,0.00080542336,0.012493244,-0.04253055,-0.043773055,0.015636232,-0.019695356,-0.017886302,0.017081272,-0.017668942,0.009724897,-0.02987045,-0.019898547,0.062645674,0.014075758,0.041684728,0.02444919,0.017094914,0.017969074,-0.03104999,0.024365239,-0.037262507,0.036036793,0.007955327,-0.04954482,-0.014420489,0.08883059,0.001416181,0.009876013,-0.006986982,0.09168499,-0.022625314,0.02320144,-0.010341951,0.013605882,0.07499515,0.0014964609,-0.038551185,0.030355278,0.018135931,-0.050984614,0.01852054,-0.016393907,0.036977068,-0.04225351,-0.0013014015,-0.020697545,0.014156562,-0.04028901,-0.011361454,-0.04290834,0.0014111962,0.05102239,0.022868777,0.013982884,0.023674725,0.017089667,-0.0114123495,-0.0055172816,-0.022376603,-0.036020003,0.0058289566,-0.0012385683,-0.010553932,0.0061149867,0.009643043,0.03845044,0.028774865,0.011905705,0.01571179,0.013644449,0.057360835,-0.012796,-0.052441195,0.06357755,0.03671681,0.013637103,0.1143103,-0.005754842,-0.00601257,0.03536727,0.019195836,0.0022437074,0.045506682,-0.013586206,0.026718019,-0.06271283,-0.022875335,0.0024955007,0.030216232,-0.008478721,-0.050124094,-0.035033558,-0.0023947572,0.044562213,-0.06038734,0.045808915,0.07523022,0.029790696,0.013748341,-0.021496147,-0.014377201,-0.0016940127,-0.028585972,-0.04533458,-0.017323686,0.052025627,0.008020619,0.030168485,0.013209993,-0.04073396,-0.0483317,0.015012882,0.06281358,-0.0035270723,-0.024175555,-0.00019356719,-0.010046935,0.0008878022,-0.045296803,0.05816259,0.08033455,-0.035461716,0.034489434,-0.05264688,-0.040885076,0.026079977,-0.01970585,0.023569783,0.00567102,0.05168562,-0.04836948,0.038782053,-0.046161518,-0.022545557,0.019827582,-0.03832241,0.03811043,0.013706365,-0.037890054,-0.044847652,0.018669032,-0.0016780092,-0.01820939,-0.053419247,-0.0005609105,0.042406723,0.039814677,0.00076003635,0.06165503,-0.033249557,-0.011070243,0.00043419405,-0.0046921815,0.022078043,0.029299572,0.018473841,-0.069034494,-0.013417382,-0.012551356,-0.0027821867,0.003283609,-0.01450654,-0.009190747,0.014733738,0.050799917,-0.020500256,0.009271551,-0.033497218,-0.0008014881,0.024589812,-0.031662848,-0.016328843,-0.012385417,0.006775001,-0.0071737776,-0.057742823,0.030370232,0.047911935,0.055937834,0.06711197,0.015629936,-0.09584066,0.02184875,-0.014355425,0.009575881,0.049876433,-0.006395327,-0.06220072,0.038794648,-0.00420309,0.02236191,0.036339026,-0.0036852711,-0.037824992,-0.00014101468,-0.02546922,0.032737445,-0.00581492,-0.009653143,0.0370946,0.012831155,0.08532136,-0.022146782,0.0545694,0.0065493775,0.022749145,0.03178458,0.03284658,0.0014224774,-0.036015805,-0.046052378,0.041191503,0.026736908,-0.022377653,-0.04524643,-0.007702943,0.031259872,0.023103844,0.03006984,0.04287476,0.014209033,-0.023721948,-0.062368628,-0.010731808,0.04665684,0.1127236,0.017448172,-0.0019303926,-0.05958139,0.024351595,0.017107507,0.015039117,-0.018929286,-0.0036409334,0.082139544,-0.013535835,0.029484268,0.022276908,0.02255028,-0.04099815,0.028621651,0.016243841,-0.043260943,0.0038091014,0.014367494,-0.05888878,0.002957373,0.0013602998,0.007794242,0.065743536,-0.060538456,0.005183044,0.044956792,-0.00794457,-0.011568943,-0.014627748,-0.02093996,-0.072107166,0.015768459,0.06507191,0.00820325,-0.007874784,-0.07855475,-0.06863991,-0.009882309,0.017370384,0.041363608,0.014045324,0.029155275,-0.024333756,0.00873845,0.030930357,0.03333771,0.02551959,-0.04590126,-0.002259252,-0.071888894,0.03185384,0.041040387,0.008068926,0.049549017,0.06090785,-0.029888289,-0.006047496,0.022209747,0.004470493,0.016235447,-0.027813604,-0.064492635,0.02305977,-0.0046630604,0.024109181,0.04747538,0.009536003,-0.041310087,0.0068169776,0.01557235,-0.032401633,-0.04972112,0.049502842,0.010782451,-0.0014906891,-0.072291866,-0.03597383,-0.023269651,0.014651884,0.012671645,0.0010024504,0.049309753,-0.021284165,0.022525618,-0.008318555,-0.011048205,0.0034462677,0.041959673,-0.067279875,-0.03538616,0.016200291,0.025011675,0.057952706,0.009081608,-0.0028286888,-0.03791734,-0.0057847826,0.009921137,0.009509767,-0.0024406689,-0.012390992,-0.023110142,-0.040330987,0.053826418,-0.074491434,-0.03044553,-0.02616393,0.015392769,-0.06343483,-0.0017832126,-0.016249089,-0.031133942,-0.02732248,0.02509353,-0.03320758,0.0088266,0.015922721,-0.03251182,-0.010464733,0.008195641,-0.027211241,0.012950788,0.018712254,0.022818405,-0.071259245,-0.005305825,-0.035717774,0.017324736,-0.002753656,-0.0062029404,0.011454752,-0.033798397,-0.03597383,-0.0133422185,-0.061663423,0.0042133876,-0.036804963,-0.03313622,-0.00445121,-0.052567124,-0.0065548746,0.04670721,-0.020469822,0.012547289,0.010322537,-0.038832426,-0.009726996,-0.0011826869,0.048466023,-0.009326121,-0.026655054,-0.025347488,-0.0061946767,-0.0023265986,-0.016931206,0.08099778,-0.014711701,-0.04540174,0.021747481,-0.0015028885,-0.011863598,-0.029152654,0.0062156646,0.03605778,0.025432488,0.024598207,0.006447585,0.059892017,-0.0406626,0.014282492,-0.0059113353,-0.06471931,-0.018717306,-0.013561546,-0.058607537,-0.0028604332,0.0137231555,-0.0297844,-0.04781119,-0.08635398,-0.021696057,0.006730073,0.02341657,-0.02759113,0.03402612,-0.066591464,-0.06614651,-0.053990126,0.029696248,-0.0075785876,-0.0051161433,0.019357447,0.06356076,0.036093462,-0.006668059,-0.006367042,0.043542184,0.029114874,-0.06986562,0.04282019,0.03133333,0.047995888,-0.032130882,0.07591023,0.047461737,0.015687654,0.023767073,0.016900249,-0.020835018,-0.007351915,-0.047525752,-0.0454815,-0.0011123762,-0.008382469,-0.0004961093,-0.029857859,0.010298925,-0.016935142,-0.008832897,0.015942136,-0.02898055,-0.084171206,0.006378717,0.043865405,0.006097081,-0.015442841,-0.031499136,-0.015484068,0.041330025,0.025702188,0.034576014,-0.00312987,0.014275146,-0.0170309,0.012408242,0.057218116,0.027958423,-0.020746866,-0.013496483,0.027725976,-0.014699108,0.007078806,-0.05430915,-0.034853056,-0.07885698,0.0019385256,-0.043521196,-0.007687989,-0.025462396,-0.01892194,0.0436975,-0.08781476,0.07328251,-0.03631384,0.024746174,-0.0139519265,0.013940384,-0.011889833,-0.014875443,0.013731517,0.013514322,-0.010952053,0.03583111,-0.05583709,0.015836671,0.03855538,0.03902447,0.029566122,0.015411133,-0.015321933,-0.04019876,-0.02623529,0.057469975,0.0317628,0.0017763914,-0.06952142,-0.03044133,-0.0070719845,-0.008536963,0.049141847,-0.048449233,0.017134793,-0.016571783,-0.013487037,0.0022885043,-0.043235756,0.046963267,-0.027305689,-0.007775877,-0.027005557,-0.027901756,-0.04522964,-0.039046507,-0.025471319,-0.020184383,0.013959273,0.07501194,0.013657042,-0.008030753,0.046572886,0.03197767,-0.018245595,0.05103918,0.0036162722,0.014761941,-0.02118972,0.015019703,-0.007574128,-0.020456703,-0.08748735,0.027488288,0.060290795,0.026231091,0.033125725,-0.043626137,-0.037516464,-0.001027374,0.012630718,-0.024014734,-0.092264265,-0.010246455\" SET r.proteinmutation = \"R239W\" SET r.source = \"PMID39589570\"'\n",
      "2025-02-28 10:27:44,391 - INFO - Received notification from DBMS server: {severity: INFORMATION} {code: Neo.ClientNotification.Statement.CartesianProduct} {category: PERFORMANCE} {title: This query builds a cartesian product between disconnected patterns.} {description: If a part of a query contains multiple disconnected patterns, this will build a cartesian product between all those parts. This may produce a large amount of data and slow down query processing. While occasionally intended, it may often be possible to reformulate the query that avoids the use of this cross product, perhaps by adding a relationship between the different parts or by using OPTIONAL MATCH (identifier is: (m))} {position: line: 1, column: 1, offset: 0} for query: 'MATCH (n:gene {name: \"apoe\"}), (m:disease {name: \"alzheimer\\'s disease\"}) MERGE (n)-[r:associated_with]->(m) SET r.embeddings = \"0.00097569043,-0.0033646754,-0.15813373,-0.021601088,0.0036009245,-0.008725069,-0.013594078,-0.038311917,-0.0049836556,0.00028058642,-0.028602762,0.028019289,0.10704838,0.051643644,-0.015601602,-0.049015917,-0.02552379,0.0037471864,-0.057616893,0.041816954,-0.04617411,-0.039113667,0.024944514,-0.00027704466,0.11583947,-0.017208267,0.028546093,-0.040007766,-0.0520802,-0.0014613057,0.04362194,0.020845512,-0.0013020574,-0.023057671,-0.035461716,-0.023739919,0.023299037,0.035873085,0.01620803,0.023428112,0.022471556,0.033982046,-0.04451604,-0.03277942,0.005773928,-0.020717483,0.027234329,0.02049291,0.058733467,0.042219926,0.011869894,0.004273204,-0.006924018,-0.01790716,0.106301196,0.043947257,0.090694346,-0.011254939,-0.018261861,0.019212103,0.061193287,0.06998316,-0.0567144,0.05995918,0.0872019,0.013494908,-0.005257552,0.03205323,-0.0056857117,-0.013706889,0.0652734,0.0071171094,0.045078523,0.04082211,0.004685688,-0.0035673764,0.01323262,-0.034231804,0.035054546,0.029887242,0.01711328,0.025997072,0.06643195,-0.03365883,0.041720405,-0.0099838395,-0.005796818,0.012236139,-0.03467256,0.040066533,0.0419051,0.055295594,0.01617353,0.02999638,-0.081669405,0.041884113,-0.0064818873,0.007257644,-0.068379655,-0.05173599,-0.011917642,0.021825662,-0.0020641927,-0.013916247,0.031551607,0.04356737,0.0095150145,-0.0038282534,0.026952036,0.06053006,-0.06219233,0.008996081,-0.011139504,-0.09443025,0.023675773,-0.03955442,0.011754983,-0.07275361,0.020287225,0.020459328,-0.015977291,-0.0091461465,0.0017944938,0.072577305,-0.015529193,0.011776497,-0.017372483,-0.035444926,0.012064822,-0.04612374,0.00053803646,-0.08909924,-0.0011637975,-0.02384263,-0.017864132,0.021285215,-0.026637213,0.0019246208,0.02833831,0.06591144,0.019092994,0.014743707,0.013559447,-0.02063563,0.03413106,-0.02398745,0.034710336,-0.0529701,-0.036624465,0.0026464849,0.015018653,0.048109226,-0.07475168,-0.010744926,0.007825462,0.00037385288,-0.04515408,-0.031380553,0.024549935,-0.0043366933,0.031578895,-0.004002062,0.020044811,0.016262205,-0.029564023,-0.056315623,0.05288195,0.037608813,0.018293343,0.043359585,-0.03554357,-0.028813692,-0.021095272,-0.015435533,0.056773167,0.017821107,-0.04085569,-0.011199581,0.037606712,-0.05557684,0.014577637,-0.048621338,0.056689214,0.009085805,-0.02011722,0.012272868,0.008047937,0.0078086713,-0.080569625,-0.01948285,-0.029412908,0.00071359985,-0.0063508004,-0.033323016,-0.054241985,-0.03759832,0.042278692,0.015520797,0.02496655,-0.040650006,-0.019430118,-0.003648804,-0.046018798,0.013501204,0.010067006,0.030006874,-0.012541518,0.008230535,-0.021314794,0.009262369,0.04740402,-0.0075657326,-0.04508692,0.003418983,-0.015117823,-0.056689214,-0.021588495,-0.021950541,-0.022361057,0.063140996,0.00080542336,0.012493244,-0.04253055,-0.043773055,0.015636232,-0.019695356,-0.017886302,0.017081272,-0.017668942,0.009724897,-0.02987045,-0.019898547,0.062645674,0.014075758,0.041684728,0.02444919,0.017094914,0.017969074,-0.03104999,0.024365239,-0.037262507,0.036036793,0.007955327,-0.04954482,-0.014420489,0.08883059,0.001416181,0.009876013,-0.006986982,0.09168499,-0.022625314,0.02320144,-0.010341951,0.013605882,0.07499515,0.0014964609,-0.038551185,0.030355278,0.018135931,-0.050984614,0.01852054,-0.016393907,0.036977068,-0.04225351,-0.0013014015,-0.020697545,0.014156562,-0.04028901,-0.011361454,-0.04290834,0.0014111962,0.05102239,0.022868777,0.013982884,0.023674725,0.017089667,-0.0114123495,-0.0055172816,-0.022376603,-0.036020003,0.0058289566,-0.0012385683,-0.010553932,0.0061149867,0.009643043,0.03845044,0.028774865,0.011905705,0.01571179,0.013644449,0.057360835,-0.012796,-0.052441195,0.06357755,0.03671681,0.013637103,0.1143103,-0.005754842,-0.00601257,0.03536727,0.019195836,0.0022437074,0.045506682,-0.013586206,0.026718019,-0.06271283,-0.022875335,0.0024955007,0.030216232,-0.008478721,-0.050124094,-0.035033558,-0.0023947572,0.044562213,-0.06038734,0.045808915,0.07523022,0.029790696,0.013748341,-0.021496147,-0.014377201,-0.0016940127,-0.028585972,-0.04533458,-0.017323686,0.052025627,0.008020619,0.030168485,0.013209993,-0.04073396,-0.0483317,0.015012882,0.06281358,-0.0035270723,-0.024175555,-0.00019356719,-0.010046935,0.0008878022,-0.045296803,0.05816259,0.08033455,-0.035461716,0.034489434,-0.05264688,-0.040885076,0.026079977,-0.01970585,0.023569783,0.00567102,0.05168562,-0.04836948,0.038782053,-0.046161518,-0.022545557,0.019827582,-0.03832241,0.03811043,0.013706365,-0.037890054,-0.044847652,0.018669032,-0.0016780092,-0.01820939,-0.053419247,-0.0005609105,0.042406723,0.039814677,0.00076003635,0.06165503,-0.033249557,-0.011070243,0.00043419405,-0.0046921815,0.022078043,0.029299572,0.018473841,-0.069034494,-0.013417382,-0.012551356,-0.0027821867,0.003283609,-0.01450654,-0.009190747,0.014733738,0.050799917,-0.020500256,0.009271551,-0.033497218,-0.0008014881,0.024589812,-0.031662848,-0.016328843,-0.012385417,0.006775001,-0.0071737776,-0.057742823,0.030370232,0.047911935,0.055937834,0.06711197,0.015629936,-0.09584066,0.02184875,-0.014355425,0.009575881,0.049876433,-0.006395327,-0.06220072,0.038794648,-0.00420309,0.02236191,0.036339026,-0.0036852711,-0.037824992,-0.00014101468,-0.02546922,0.032737445,-0.00581492,-0.009653143,0.0370946,0.012831155,0.08532136,-0.022146782,0.0545694,0.0065493775,0.022749145,0.03178458,0.03284658,0.0014224774,-0.036015805,-0.046052378,0.041191503,0.026736908,-0.022377653,-0.04524643,-0.007702943,0.031259872,0.023103844,0.03006984,0.04287476,0.014209033,-0.023721948,-0.062368628,-0.010731808,0.04665684,0.1127236,0.017448172,-0.0019303926,-0.05958139,0.024351595,0.017107507,0.015039117,-0.018929286,-0.0036409334,0.082139544,-0.013535835,0.029484268,0.022276908,0.02255028,-0.04099815,0.028621651,0.016243841,-0.043260943,0.0038091014,0.014367494,-0.05888878,0.002957373,0.0013602998,0.007794242,0.065743536,-0.060538456,0.005183044,0.044956792,-0.00794457,-0.011568943,-0.014627748,-0.02093996,-0.072107166,0.015768459,0.06507191,0.00820325,-0.007874784,-0.07855475,-0.06863991,-0.009882309,0.017370384,0.041363608,0.014045324,0.029155275,-0.024333756,0.00873845,0.030930357,0.03333771,0.02551959,-0.04590126,-0.002259252,-0.071888894,0.03185384,0.041040387,0.008068926,0.049549017,0.06090785,-0.029888289,-0.006047496,0.022209747,0.004470493,0.016235447,-0.027813604,-0.064492635,0.02305977,-0.0046630604,0.024109181,0.04747538,0.009536003,-0.041310087,0.0068169776,0.01557235,-0.032401633,-0.04972112,0.049502842,0.010782451,-0.0014906891,-0.072291866,-0.03597383,-0.023269651,0.014651884,0.012671645,0.0010024504,0.049309753,-0.021284165,0.022525618,-0.008318555,-0.011048205,0.0034462677,0.041959673,-0.067279875,-0.03538616,0.016200291,0.025011675,0.057952706,0.009081608,-0.0028286888,-0.03791734,-0.0057847826,0.009921137,0.009509767,-0.0024406689,-0.012390992,-0.023110142,-0.040330987,0.053826418,-0.074491434,-0.03044553,-0.02616393,0.015392769,-0.06343483,-0.0017832126,-0.016249089,-0.031133942,-0.02732248,0.02509353,-0.03320758,0.0088266,0.015922721,-0.03251182,-0.010464733,0.008195641,-0.027211241,0.012950788,0.018712254,0.022818405,-0.071259245,-0.005305825,-0.035717774,0.017324736,-0.002753656,-0.0062029404,0.011454752,-0.033798397,-0.03597383,-0.0133422185,-0.061663423,0.0042133876,-0.036804963,-0.03313622,-0.00445121,-0.052567124,-0.0065548746,0.04670721,-0.020469822,0.012547289,0.010322537,-0.038832426,-0.009726996,-0.0011826869,0.048466023,-0.009326121,-0.026655054,-0.025347488,-0.0061946767,-0.0023265986,-0.016931206,0.08099778,-0.014711701,-0.04540174,0.021747481,-0.0015028885,-0.011863598,-0.029152654,0.0062156646,0.03605778,0.025432488,0.024598207,0.006447585,0.059892017,-0.0406626,0.014282492,-0.0059113353,-0.06471931,-0.018717306,-0.013561546,-0.058607537,-0.0028604332,0.0137231555,-0.0297844,-0.04781119,-0.08635398,-0.021696057,0.006730073,0.02341657,-0.02759113,0.03402612,-0.066591464,-0.06614651,-0.053990126,0.029696248,-0.0075785876,-0.0051161433,0.019357447,0.06356076,0.036093462,-0.006668059,-0.006367042,0.043542184,0.029114874,-0.06986562,0.04282019,0.03133333,0.047995888,-0.032130882,0.07591023,0.047461737,0.015687654,0.023767073,0.016900249,-0.020835018,-0.007351915,-0.047525752,-0.0454815,-0.0011123762,-0.008382469,-0.0004961093,-0.029857859,0.010298925,-0.016935142,-0.008832897,0.015942136,-0.02898055,-0.084171206,0.006378717,0.043865405,0.006097081,-0.015442841,-0.031499136,-0.015484068,0.041330025,0.025702188,0.034576014,-0.00312987,0.014275146,-0.0170309,0.012408242,0.057218116,0.027958423,-0.020746866,-0.013496483,0.027725976,-0.014699108,0.007078806,-0.05430915,-0.034853056,-0.07885698,0.0019385256,-0.043521196,-0.007687989,-0.025462396,-0.01892194,0.0436975,-0.08781476,0.07328251,-0.03631384,0.024746174,-0.0139519265,0.013940384,-0.011889833,-0.014875443,0.013731517,0.013514322,-0.010952053,0.03583111,-0.05583709,0.015836671,0.03855538,0.03902447,0.029566122,0.015411133,-0.015321933,-0.04019876,-0.02623529,0.057469975,0.0317628,0.0017763914,-0.06952142,-0.03044133,-0.0070719845,-0.008536963,0.049141847,-0.048449233,0.017134793,-0.016571783,-0.013487037,0.0022885043,-0.043235756,0.046963267,-0.027305689,-0.007775877,-0.027005557,-0.027901756,-0.04522964,-0.039046507,-0.025471319,-0.020184383,0.013959273,0.07501194,0.013657042,-0.008030753,0.046572886,0.03197767,-0.018245595,0.05103918,0.0036162722,0.014761941,-0.02118972,0.015019703,-0.007574128,-0.020456703,-0.08748735,0.027488288,0.060290795,0.026231091,0.033125725,-0.043626137,-0.037516464,-0.001027374,0.012630718,-0.024014734,-0.092264265,-0.010246455\" SET r.proteinmutation = \"R239W\" SET r.source = \"PMID39589570\"'\n",
      "2025-02-28 10:27:44,642 - INFO - Received notification from DBMS server: {severity: INFORMATION} {code: Neo.ClientNotification.Statement.CartesianProduct} {category: PERFORMANCE} {title: This query builds a cartesian product between disconnected patterns.} {description: If a part of a query contains multiple disconnected patterns, this will build a cartesian product between all those parts. This may produce a large amount of data and slow down query processing. While occasionally intended, it may often be possible to reformulate the query that avoids the use of this cross product, perhaps by adding a relationship between the different parts or by using OPTIONAL MATCH (identifier is: (m))} {position: line: 1, column: 1, offset: 0} for query: 'MATCH (n:gene {name: \"atp8b4\"}), (m:disease {name: \"alzheimer\\'s disease\"}) MERGE (n)-[r:associated_with]->(m) SET r.embeddings = \"0.00097569043,-0.0033646754,-0.15813373,-0.021601088,0.0036009245,-0.008725069,-0.013594078,-0.038311917,-0.0049836556,0.00028058642,-0.028602762,0.028019289,0.10704838,0.051643644,-0.015601602,-0.049015917,-0.02552379,0.0037471864,-0.057616893,0.041816954,-0.04617411,-0.039113667,0.024944514,-0.00027704466,0.11583947,-0.017208267,0.028546093,-0.040007766,-0.0520802,-0.0014613057,0.04362194,0.020845512,-0.0013020574,-0.023057671,-0.035461716,-0.023739919,0.023299037,0.035873085,0.01620803,0.023428112,0.022471556,0.033982046,-0.04451604,-0.03277942,0.005773928,-0.020717483,0.027234329,0.02049291,0.058733467,0.042219926,0.011869894,0.004273204,-0.006924018,-0.01790716,0.106301196,0.043947257,0.090694346,-0.011254939,-0.018261861,0.019212103,0.061193287,0.06998316,-0.0567144,0.05995918,0.0872019,0.013494908,-0.005257552,0.03205323,-0.0056857117,-0.013706889,0.0652734,0.0071171094,0.045078523,0.04082211,0.004685688,-0.0035673764,0.01323262,-0.034231804,0.035054546,0.029887242,0.01711328,0.025997072,0.06643195,-0.03365883,0.041720405,-0.0099838395,-0.005796818,0.012236139,-0.03467256,0.040066533,0.0419051,0.055295594,0.01617353,0.02999638,-0.081669405,0.041884113,-0.0064818873,0.007257644,-0.068379655,-0.05173599,-0.011917642,0.021825662,-0.0020641927,-0.013916247,0.031551607,0.04356737,0.0095150145,-0.0038282534,0.026952036,0.06053006,-0.06219233,0.008996081,-0.011139504,-0.09443025,0.023675773,-0.03955442,0.011754983,-0.07275361,0.020287225,0.020459328,-0.015977291,-0.0091461465,0.0017944938,0.072577305,-0.015529193,0.011776497,-0.017372483,-0.035444926,0.012064822,-0.04612374,0.00053803646,-0.08909924,-0.0011637975,-0.02384263,-0.017864132,0.021285215,-0.026637213,0.0019246208,0.02833831,0.06591144,0.019092994,0.014743707,0.013559447,-0.02063563,0.03413106,-0.02398745,0.034710336,-0.0529701,-0.036624465,0.0026464849,0.015018653,0.048109226,-0.07475168,-0.010744926,0.007825462,0.00037385288,-0.04515408,-0.031380553,0.024549935,-0.0043366933,0.031578895,-0.004002062,0.020044811,0.016262205,-0.029564023,-0.056315623,0.05288195,0.037608813,0.018293343,0.043359585,-0.03554357,-0.028813692,-0.021095272,-0.015435533,0.056773167,0.017821107,-0.04085569,-0.011199581,0.037606712,-0.05557684,0.014577637,-0.048621338,0.056689214,0.009085805,-0.02011722,0.012272868,0.008047937,0.0078086713,-0.080569625,-0.01948285,-0.029412908,0.00071359985,-0.0063508004,-0.033323016,-0.054241985,-0.03759832,0.042278692,0.015520797,0.02496655,-0.040650006,-0.019430118,-0.003648804,-0.046018798,0.013501204,0.010067006,0.030006874,-0.012541518,0.008230535,-0.021314794,0.009262369,0.04740402,-0.0075657326,-0.04508692,0.003418983,-0.015117823,-0.056689214,-0.021588495,-0.021950541,-0.022361057,0.063140996,0.00080542336,0.012493244,-0.04253055,-0.043773055,0.015636232,-0.019695356,-0.017886302,0.017081272,-0.017668942,0.009724897,-0.02987045,-0.019898547,0.062645674,0.014075758,0.041684728,0.02444919,0.017094914,0.017969074,-0.03104999,0.024365239,-0.037262507,0.036036793,0.007955327,-0.04954482,-0.014420489,0.08883059,0.001416181,0.009876013,-0.006986982,0.09168499,-0.022625314,0.02320144,-0.010341951,0.013605882,0.07499515,0.0014964609,-0.038551185,0.030355278,0.018135931,-0.050984614,0.01852054,-0.016393907,0.036977068,-0.04225351,-0.0013014015,-0.020697545,0.014156562,-0.04028901,-0.011361454,-0.04290834,0.0014111962,0.05102239,0.022868777,0.013982884,0.023674725,0.017089667,-0.0114123495,-0.0055172816,-0.022376603,-0.036020003,0.0058289566,-0.0012385683,-0.010553932,0.0061149867,0.009643043,0.03845044,0.028774865,0.011905705,0.01571179,0.013644449,0.057360835,-0.012796,-0.052441195,0.06357755,0.03671681,0.013637103,0.1143103,-0.005754842,-0.00601257,0.03536727,0.019195836,0.0022437074,0.045506682,-0.013586206,0.026718019,-0.06271283,-0.022875335,0.0024955007,0.030216232,-0.008478721,-0.050124094,-0.035033558,-0.0023947572,0.044562213,-0.06038734,0.045808915,0.07523022,0.029790696,0.013748341,-0.021496147,-0.014377201,-0.0016940127,-0.028585972,-0.04533458,-0.017323686,0.052025627,0.008020619,0.030168485,0.013209993,-0.04073396,-0.0483317,0.015012882,0.06281358,-0.0035270723,-0.024175555,-0.00019356719,-0.010046935,0.0008878022,-0.045296803,0.05816259,0.08033455,-0.035461716,0.034489434,-0.05264688,-0.040885076,0.026079977,-0.01970585,0.023569783,0.00567102,0.05168562,-0.04836948,0.038782053,-0.046161518,-0.022545557,0.019827582,-0.03832241,0.03811043,0.013706365,-0.037890054,-0.044847652,0.018669032,-0.0016780092,-0.01820939,-0.053419247,-0.0005609105,0.042406723,0.039814677,0.00076003635,0.06165503,-0.033249557,-0.011070243,0.00043419405,-0.0046921815,0.022078043,0.029299572,0.018473841,-0.069034494,-0.013417382,-0.012551356,-0.0027821867,0.003283609,-0.01450654,-0.009190747,0.014733738,0.050799917,-0.020500256,0.009271551,-0.033497218,-0.0008014881,0.024589812,-0.031662848,-0.016328843,-0.012385417,0.006775001,-0.0071737776,-0.057742823,0.030370232,0.047911935,0.055937834,0.06711197,0.015629936,-0.09584066,0.02184875,-0.014355425,0.009575881,0.049876433,-0.006395327,-0.06220072,0.038794648,-0.00420309,0.02236191,0.036339026,-0.0036852711,-0.037824992,-0.00014101468,-0.02546922,0.032737445,-0.00581492,-0.009653143,0.0370946,0.012831155,0.08532136,-0.022146782,0.0545694,0.0065493775,0.022749145,0.03178458,0.03284658,0.0014224774,-0.036015805,-0.046052378,0.041191503,0.026736908,-0.022377653,-0.04524643,-0.007702943,0.031259872,0.023103844,0.03006984,0.04287476,0.014209033,-0.023721948,-0.062368628,-0.010731808,0.04665684,0.1127236,0.017448172,-0.0019303926,-0.05958139,0.024351595,0.017107507,0.015039117,-0.018929286,-0.0036409334,0.082139544,-0.013535835,0.029484268,0.022276908,0.02255028,-0.04099815,0.028621651,0.016243841,-0.043260943,0.0038091014,0.014367494,-0.05888878,0.002957373,0.0013602998,0.007794242,0.065743536,-0.060538456,0.005183044,0.044956792,-0.00794457,-0.011568943,-0.014627748,-0.02093996,-0.072107166,0.015768459,0.06507191,0.00820325,-0.007874784,-0.07855475,-0.06863991,-0.009882309,0.017370384,0.041363608,0.014045324,0.029155275,-0.024333756,0.00873845,0.030930357,0.03333771,0.02551959,-0.04590126,-0.002259252,-0.071888894,0.03185384,0.041040387,0.008068926,0.049549017,0.06090785,-0.029888289,-0.006047496,0.022209747,0.004470493,0.016235447,-0.027813604,-0.064492635,0.02305977,-0.0046630604,0.024109181,0.04747538,0.009536003,-0.041310087,0.0068169776,0.01557235,-0.032401633,-0.04972112,0.049502842,0.010782451,-0.0014906891,-0.072291866,-0.03597383,-0.023269651,0.014651884,0.012671645,0.0010024504,0.049309753,-0.021284165,0.022525618,-0.008318555,-0.011048205,0.0034462677,0.041959673,-0.067279875,-0.03538616,0.016200291,0.025011675,0.057952706,0.009081608,-0.0028286888,-0.03791734,-0.0057847826,0.009921137,0.009509767,-0.0024406689,-0.012390992,-0.023110142,-0.040330987,0.053826418,-0.074491434,-0.03044553,-0.02616393,0.015392769,-0.06343483,-0.0017832126,-0.016249089,-0.031133942,-0.02732248,0.02509353,-0.03320758,0.0088266,0.015922721,-0.03251182,-0.010464733,0.008195641,-0.027211241,0.012950788,0.018712254,0.022818405,-0.071259245,-0.005305825,-0.035717774,0.017324736,-0.002753656,-0.0062029404,0.011454752,-0.033798397,-0.03597383,-0.0133422185,-0.061663423,0.0042133876,-0.036804963,-0.03313622,-0.00445121,-0.052567124,-0.0065548746,0.04670721,-0.020469822,0.012547289,0.010322537,-0.038832426,-0.009726996,-0.0011826869,0.048466023,-0.009326121,-0.026655054,-0.025347488,-0.0061946767,-0.0023265986,-0.016931206,0.08099778,-0.014711701,-0.04540174,0.021747481,-0.0015028885,-0.011863598,-0.029152654,0.0062156646,0.03605778,0.025432488,0.024598207,0.006447585,0.059892017,-0.0406626,0.014282492,-0.0059113353,-0.06471931,-0.018717306,-0.013561546,-0.058607537,-0.0028604332,0.0137231555,-0.0297844,-0.04781119,-0.08635398,-0.021696057,0.006730073,0.02341657,-0.02759113,0.03402612,-0.066591464,-0.06614651,-0.053990126,0.029696248,-0.0075785876,-0.0051161433,0.019357447,0.06356076,0.036093462,-0.006668059,-0.006367042,0.043542184,0.029114874,-0.06986562,0.04282019,0.03133333,0.047995888,-0.032130882,0.07591023,0.047461737,0.015687654,0.023767073,0.016900249,-0.020835018,-0.007351915,-0.047525752,-0.0454815,-0.0011123762,-0.008382469,-0.0004961093,-0.029857859,0.010298925,-0.016935142,-0.008832897,0.015942136,-0.02898055,-0.084171206,0.006378717,0.043865405,0.006097081,-0.015442841,-0.031499136,-0.015484068,0.041330025,0.025702188,0.034576014,-0.00312987,0.014275146,-0.0170309,0.012408242,0.057218116,0.027958423,-0.020746866,-0.013496483,0.027725976,-0.014699108,0.007078806,-0.05430915,-0.034853056,-0.07885698,0.0019385256,-0.043521196,-0.007687989,-0.025462396,-0.01892194,0.0436975,-0.08781476,0.07328251,-0.03631384,0.024746174,-0.0139519265,0.013940384,-0.011889833,-0.014875443,0.013731517,0.013514322,-0.010952053,0.03583111,-0.05583709,0.015836671,0.03855538,0.03902447,0.029566122,0.015411133,-0.015321933,-0.04019876,-0.02623529,0.057469975,0.0317628,0.0017763914,-0.06952142,-0.03044133,-0.0070719845,-0.008536963,0.049141847,-0.048449233,0.017134793,-0.016571783,-0.013487037,0.0022885043,-0.043235756,0.046963267,-0.027305689,-0.007775877,-0.027005557,-0.027901756,-0.04522964,-0.039046507,-0.025471319,-0.020184383,0.013959273,0.07501194,0.013657042,-0.008030753,0.046572886,0.03197767,-0.018245595,0.05103918,0.0036162722,0.014761941,-0.02118972,0.015019703,-0.007574128,-0.020456703,-0.08748735,0.027488288,0.060290795,0.026231091,0.033125725,-0.043626137,-0.037516464,-0.001027374,0.012630718,-0.024014734,-0.092264265,-0.010246455\" SET r.proteinmutation = \"R239W\" SET r.source = \"PMID39589570\"'\n",
      "2025-02-28 10:27:45,193 - INFO - Received notification from DBMS server: {severity: INFORMATION} {code: Neo.ClientNotification.Statement.CartesianProduct} {category: PERFORMANCE} {title: This query builds a cartesian product between disconnected patterns.} {description: If a part of a query contains multiple disconnected patterns, this will build a cartesian product between all those parts. This may produce a large amount of data and slow down query processing. While occasionally intended, it may often be possible to reformulate the query that avoids the use of this cross product, perhaps by adding a relationship between the different parts or by using OPTIONAL MATCH (identifier is: (m))} {position: line: 1, column: 1, offset: 0} for query: 'MATCH (n:gene {name: \"lamb2\"}), (m:disease {name: \"alzheimer\\'s disease\"}) MERGE (n)-[r:associated_with]->(m) SET r.embeddings = \"0.00097569043,-0.0033646754,-0.15813373,-0.021601088,0.0036009245,-0.008725069,-0.013594078,-0.038311917,-0.0049836556,0.00028058642,-0.028602762,0.028019289,0.10704838,0.051643644,-0.015601602,-0.049015917,-0.02552379,0.0037471864,-0.057616893,0.041816954,-0.04617411,-0.039113667,0.024944514,-0.00027704466,0.11583947,-0.017208267,0.028546093,-0.040007766,-0.0520802,-0.0014613057,0.04362194,0.020845512,-0.0013020574,-0.023057671,-0.035461716,-0.023739919,0.023299037,0.035873085,0.01620803,0.023428112,0.022471556,0.033982046,-0.04451604,-0.03277942,0.005773928,-0.020717483,0.027234329,0.02049291,0.058733467,0.042219926,0.011869894,0.004273204,-0.006924018,-0.01790716,0.106301196,0.043947257,0.090694346,-0.011254939,-0.018261861,0.019212103,0.061193287,0.06998316,-0.0567144,0.05995918,0.0872019,0.013494908,-0.005257552,0.03205323,-0.0056857117,-0.013706889,0.0652734,0.0071171094,0.045078523,0.04082211,0.004685688,-0.0035673764,0.01323262,-0.034231804,0.035054546,0.029887242,0.01711328,0.025997072,0.06643195,-0.03365883,0.041720405,-0.0099838395,-0.005796818,0.012236139,-0.03467256,0.040066533,0.0419051,0.055295594,0.01617353,0.02999638,-0.081669405,0.041884113,-0.0064818873,0.007257644,-0.068379655,-0.05173599,-0.011917642,0.021825662,-0.0020641927,-0.013916247,0.031551607,0.04356737,0.0095150145,-0.0038282534,0.026952036,0.06053006,-0.06219233,0.008996081,-0.011139504,-0.09443025,0.023675773,-0.03955442,0.011754983,-0.07275361,0.020287225,0.020459328,-0.015977291,-0.0091461465,0.0017944938,0.072577305,-0.015529193,0.011776497,-0.017372483,-0.035444926,0.012064822,-0.04612374,0.00053803646,-0.08909924,-0.0011637975,-0.02384263,-0.017864132,0.021285215,-0.026637213,0.0019246208,0.02833831,0.06591144,0.019092994,0.014743707,0.013559447,-0.02063563,0.03413106,-0.02398745,0.034710336,-0.0529701,-0.036624465,0.0026464849,0.015018653,0.048109226,-0.07475168,-0.010744926,0.007825462,0.00037385288,-0.04515408,-0.031380553,0.024549935,-0.0043366933,0.031578895,-0.004002062,0.020044811,0.016262205,-0.029564023,-0.056315623,0.05288195,0.037608813,0.018293343,0.043359585,-0.03554357,-0.028813692,-0.021095272,-0.015435533,0.056773167,0.017821107,-0.04085569,-0.011199581,0.037606712,-0.05557684,0.014577637,-0.048621338,0.056689214,0.009085805,-0.02011722,0.012272868,0.008047937,0.0078086713,-0.080569625,-0.01948285,-0.029412908,0.00071359985,-0.0063508004,-0.033323016,-0.054241985,-0.03759832,0.042278692,0.015520797,0.02496655,-0.040650006,-0.019430118,-0.003648804,-0.046018798,0.013501204,0.010067006,0.030006874,-0.012541518,0.008230535,-0.021314794,0.009262369,0.04740402,-0.0075657326,-0.04508692,0.003418983,-0.015117823,-0.056689214,-0.021588495,-0.021950541,-0.022361057,0.063140996,0.00080542336,0.012493244,-0.04253055,-0.043773055,0.015636232,-0.019695356,-0.017886302,0.017081272,-0.017668942,0.009724897,-0.02987045,-0.019898547,0.062645674,0.014075758,0.041684728,0.02444919,0.017094914,0.017969074,-0.03104999,0.024365239,-0.037262507,0.036036793,0.007955327,-0.04954482,-0.014420489,0.08883059,0.001416181,0.009876013,-0.006986982,0.09168499,-0.022625314,0.02320144,-0.010341951,0.013605882,0.07499515,0.0014964609,-0.038551185,0.030355278,0.018135931,-0.050984614,0.01852054,-0.016393907,0.036977068,-0.04225351,-0.0013014015,-0.020697545,0.014156562,-0.04028901,-0.011361454,-0.04290834,0.0014111962,0.05102239,0.022868777,0.013982884,0.023674725,0.017089667,-0.0114123495,-0.0055172816,-0.022376603,-0.036020003,0.0058289566,-0.0012385683,-0.010553932,0.0061149867,0.009643043,0.03845044,0.028774865,0.011905705,0.01571179,0.013644449,0.057360835,-0.012796,-0.052441195,0.06357755,0.03671681,0.013637103,0.1143103,-0.005754842,-0.00601257,0.03536727,0.019195836,0.0022437074,0.045506682,-0.013586206,0.026718019,-0.06271283,-0.022875335,0.0024955007,0.030216232,-0.008478721,-0.050124094,-0.035033558,-0.0023947572,0.044562213,-0.06038734,0.045808915,0.07523022,0.029790696,0.013748341,-0.021496147,-0.014377201,-0.0016940127,-0.028585972,-0.04533458,-0.017323686,0.052025627,0.008020619,0.030168485,0.013209993,-0.04073396,-0.0483317,0.015012882,0.06281358,-0.0035270723,-0.024175555,-0.00019356719,-0.010046935,0.0008878022,-0.045296803,0.05816259,0.08033455,-0.035461716,0.034489434,-0.05264688,-0.040885076,0.026079977,-0.01970585,0.023569783,0.00567102,0.05168562,-0.04836948,0.038782053,-0.046161518,-0.022545557,0.019827582,-0.03832241,0.03811043,0.013706365,-0.037890054,-0.044847652,0.018669032,-0.0016780092,-0.01820939,-0.053419247,-0.0005609105,0.042406723,0.039814677,0.00076003635,0.06165503,-0.033249557,-0.011070243,0.00043419405,-0.0046921815,0.022078043,0.029299572,0.018473841,-0.069034494,-0.013417382,-0.012551356,-0.0027821867,0.003283609,-0.01450654,-0.009190747,0.014733738,0.050799917,-0.020500256,0.009271551,-0.033497218,-0.0008014881,0.024589812,-0.031662848,-0.016328843,-0.012385417,0.006775001,-0.0071737776,-0.057742823,0.030370232,0.047911935,0.055937834,0.06711197,0.015629936,-0.09584066,0.02184875,-0.014355425,0.009575881,0.049876433,-0.006395327,-0.06220072,0.038794648,-0.00420309,0.02236191,0.036339026,-0.0036852711,-0.037824992,-0.00014101468,-0.02546922,0.032737445,-0.00581492,-0.009653143,0.0370946,0.012831155,0.08532136,-0.022146782,0.0545694,0.0065493775,0.022749145,0.03178458,0.03284658,0.0014224774,-0.036015805,-0.046052378,0.041191503,0.026736908,-0.022377653,-0.04524643,-0.007702943,0.031259872,0.023103844,0.03006984,0.04287476,0.014209033,-0.023721948,-0.062368628,-0.010731808,0.04665684,0.1127236,0.017448172,-0.0019303926,-0.05958139,0.024351595,0.017107507,0.015039117,-0.018929286,-0.0036409334,0.082139544,-0.013535835,0.029484268,0.022276908,0.02255028,-0.04099815,0.028621651,0.016243841,-0.043260943,0.0038091014,0.014367494,-0.05888878,0.002957373,0.0013602998,0.007794242,0.065743536,-0.060538456,0.005183044,0.044956792,-0.00794457,-0.011568943,-0.014627748,-0.02093996,-0.072107166,0.015768459,0.06507191,0.00820325,-0.007874784,-0.07855475,-0.06863991,-0.009882309,0.017370384,0.041363608,0.014045324,0.029155275,-0.024333756,0.00873845,0.030930357,0.03333771,0.02551959,-0.04590126,-0.002259252,-0.071888894,0.03185384,0.041040387,0.008068926,0.049549017,0.06090785,-0.029888289,-0.006047496,0.022209747,0.004470493,0.016235447,-0.027813604,-0.064492635,0.02305977,-0.0046630604,0.024109181,0.04747538,0.009536003,-0.041310087,0.0068169776,0.01557235,-0.032401633,-0.04972112,0.049502842,0.010782451,-0.0014906891,-0.072291866,-0.03597383,-0.023269651,0.014651884,0.012671645,0.0010024504,0.049309753,-0.021284165,0.022525618,-0.008318555,-0.011048205,0.0034462677,0.041959673,-0.067279875,-0.03538616,0.016200291,0.025011675,0.057952706,0.009081608,-0.0028286888,-0.03791734,-0.0057847826,0.009921137,0.009509767,-0.0024406689,-0.012390992,-0.023110142,-0.040330987,0.053826418,-0.074491434,-0.03044553,-0.02616393,0.015392769,-0.06343483,-0.0017832126,-0.016249089,-0.031133942,-0.02732248,0.02509353,-0.03320758,0.0088266,0.015922721,-0.03251182,-0.010464733,0.008195641,-0.027211241,0.012950788,0.018712254,0.022818405,-0.071259245,-0.005305825,-0.035717774,0.017324736,-0.002753656,-0.0062029404,0.011454752,-0.033798397,-0.03597383,-0.0133422185,-0.061663423,0.0042133876,-0.036804963,-0.03313622,-0.00445121,-0.052567124,-0.0065548746,0.04670721,-0.020469822,0.012547289,0.010322537,-0.038832426,-0.009726996,-0.0011826869,0.048466023,-0.009326121,-0.026655054,-0.025347488,-0.0061946767,-0.0023265986,-0.016931206,0.08099778,-0.014711701,-0.04540174,0.021747481,-0.0015028885,-0.011863598,-0.029152654,0.0062156646,0.03605778,0.025432488,0.024598207,0.006447585,0.059892017,-0.0406626,0.014282492,-0.0059113353,-0.06471931,-0.018717306,-0.013561546,-0.058607537,-0.0028604332,0.0137231555,-0.0297844,-0.04781119,-0.08635398,-0.021696057,0.006730073,0.02341657,-0.02759113,0.03402612,-0.066591464,-0.06614651,-0.053990126,0.029696248,-0.0075785876,-0.0051161433,0.019357447,0.06356076,0.036093462,-0.006668059,-0.006367042,0.043542184,0.029114874,-0.06986562,0.04282019,0.03133333,0.047995888,-0.032130882,0.07591023,0.047461737,0.015687654,0.023767073,0.016900249,-0.020835018,-0.007351915,-0.047525752,-0.0454815,-0.0011123762,-0.008382469,-0.0004961093,-0.029857859,0.010298925,-0.016935142,-0.008832897,0.015942136,-0.02898055,-0.084171206,0.006378717,0.043865405,0.006097081,-0.015442841,-0.031499136,-0.015484068,0.041330025,0.025702188,0.034576014,-0.00312987,0.014275146,-0.0170309,0.012408242,0.057218116,0.027958423,-0.020746866,-0.013496483,0.027725976,-0.014699108,0.007078806,-0.05430915,-0.034853056,-0.07885698,0.0019385256,-0.043521196,-0.007687989,-0.025462396,-0.01892194,0.0436975,-0.08781476,0.07328251,-0.03631384,0.024746174,-0.0139519265,0.013940384,-0.011889833,-0.014875443,0.013731517,0.013514322,-0.010952053,0.03583111,-0.05583709,0.015836671,0.03855538,0.03902447,0.029566122,0.015411133,-0.015321933,-0.04019876,-0.02623529,0.057469975,0.0317628,0.0017763914,-0.06952142,-0.03044133,-0.0070719845,-0.008536963,0.049141847,-0.048449233,0.017134793,-0.016571783,-0.013487037,0.0022885043,-0.043235756,0.046963267,-0.027305689,-0.007775877,-0.027005557,-0.027901756,-0.04522964,-0.039046507,-0.025471319,-0.020184383,0.013959273,0.07501194,0.013657042,-0.008030753,0.046572886,0.03197767,-0.018245595,0.05103918,0.0036162722,0.014761941,-0.02118972,0.015019703,-0.007574128,-0.020456703,-0.08748735,0.027488288,0.060290795,0.026231091,0.033125725,-0.043626137,-0.037516464,-0.001027374,0.012630718,-0.024014734,-0.092264265,-0.010246455\" SET r.proteinmutation = \"R239W\" SET r.source = \"PMID39589570\"'\n"
     ]
    }
   ],
   "source": [
    "GraphIntegrator(uri=URI, username=USERNAME, password=PASSWORD).visualize_graph(knowledge_graph=kg)"
   ]
  }
 ],
 "metadata": {
  "kernelspec": {
   "display_name": "Python 3",
   "language": "python",
   "name": "python3"
  },
  "language_info": {
   "codemirror_mode": {
    "name": "ipython",
    "version": 3
   },
   "file_extension": ".py",
   "mimetype": "text/x-python",
   "name": "python",
   "nbconvert_exporter": "python",
   "pygments_lexer": "ipython3",
   "version": "3.10.16"
  }
 },
 "nbformat": 4,
 "nbformat_minor": 2
}
