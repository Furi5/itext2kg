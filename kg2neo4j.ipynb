{
 "cells": [
  {
   "cell_type": "code",
   "execution_count": 1,
   "metadata": {},
   "outputs": [
    {
     "name": "stderr",
     "output_type": "stream",
     "text": [
      "/home/jovyan/miniconda3/envs/kg/lib/python3.10/site-packages/pydantic/_internal/_generate_schema.py:502: UserWarning: <built-in function array> is not a Python type (it may be an instance of an object), Pydantic will allow any object with no validation since we cannot even enforce that the input is an instance of the given type. To get rid of this error wrap the type with `pydantic.SkipValidation`.\n",
      "  warn(\n"
     ]
    }
   ],
   "source": [
    "import pickle\n",
    "import os\n",
    "from itext2kg.graph_integration import GraphIntegrator\n",
    "from itext2kg.models import KnowledgeGraph\n",
    "from itext2kg.utils import Matcher\n",
    "\n",
    "def merge_kg(kg,kg2):\n",
    "    entities1=kg.entities\n",
    "    entities2=kg2.entities\n",
    "    relationships1=kg.relationships\n",
    "    relationships2=kg2.relationships\n",
    "\n",
    "    all_entities = entities1.copy()\n",
    "    all_entities.extend(entities2)\n",
    "    \n",
    "\n",
    "    all_relationships = relationships1.copy()\n",
    "    all_relationships.extend(relationships2)\n",
    "    print('all_entities',len(all_entities))\n",
    "    print('all_relationships',len(all_relationships))\n",
    "    \n",
    "    matcher = Matcher()\n",
    "    global_entities, global_relationships = matcher.merge_entities_relationship_by_unique_id(\n",
    "        all_entities, all_relationships\n",
    "     )\n",
    "    print('global_entities',len(global_entities))\n",
    "    print('global_relationships',len(global_relationships))\n",
    "    global_relationships = matcher.merge_relationships(global_relationships)\n",
    "    \n",
    "    constructed_kg = KnowledgeGraph(entities=all_entities, relationships=all_relationships)\n",
    "    constructed_kg.remove_duplicates_entities()\n",
    "    constructed_kg.remove_duplicates_relationships()\n",
    "    return constructed_kg\n",
    "\n",
    "URI = \"neo4j+s://d7f45b5f.databases.neo4j.io\"\n",
    "USERNAME = \"neo4j\"\n",
    "PASSWORD = \"uQK8FUAR8QUDyeKsMLcGh4DcLeq306tq-5CGCZWmZvk\""
   ]
  },
  {
   "cell_type": "code",
   "execution_count": null,
   "metadata": {},
   "outputs": [
    {
     "name": "stdout",
     "output_type": "stream",
     "text": [
      "{1: 2, 2: 3}\n",
      "[2, 3]\n",
      "2,3\n"
     ]
    }
   ],
   "source": [
    "# i = {'i':{1:2,2:3}}\n",
    "\n",
    "# for k,v in i.items():\n",
    "#     print(v)\n",
    "#     if isinstance(v, dict):\n",
    "#         print(list(v.values()))\n",
    "#         print(','.join(str(x) for x in v.values()))"
   ]
  },
  {
   "cell_type": "code",
   "execution_count": 14,
   "metadata": {},
   "outputs": [],
   "source": [
    "#view the knowledge graph\n",
    "kg_file ='/home/jovyan/my_code/itext2kg/datasets/demo_data/abstract/AD/19295912.pkl'\n",
    "with open(kg_file, 'rb') as f:\n",
    "    kg = pickle.load(f)\n",
    "GraphIntegrator(uri=URI, username=USERNAME, password=PASSWORD).visualize_graph(knowledge_graph=kg)"
   ]
  },
  {
   "cell_type": "code",
   "execution_count": 2,
   "metadata": {},
   "outputs": [
    {
     "name": "stdout",
     "output_type": "stream",
     "text": [
      "-------------39652311.pkl strat merge------------\n",
      "all_entities 2\n",
      "all_relationships 1\n",
      "global_entities 2\n",
      "global_relationships 1\n",
      "-------------39855320.pkl strat merge------------\n",
      "all_entities 10\n",
      "all_relationships 13\n",
      "WARNING: this entity wasn't updated!\n",
      "global_entities 9\n",
      "global_relationships 13\n",
      "-------------39589570.pkl strat merge------------\n",
      "all_entities 15\n",
      "all_relationships 18\n",
      "WARNING: this entity wasn't updated!\n",
      "WARNING: this entity wasn't updated!\n",
      "global_entities 13\n",
      "global_relationships 18\n"
     ]
    }
   ],
   "source": [
    "constructed_kg = KnowledgeGraph(entities=[], relationships=[])\n",
    "i =1\n",
    "for file in os.listdir('/home/jovyan/my_code/itext2kg/output_kg/AD'):\n",
    "    if file.endswith('.pkl'):\n",
    "        with open('/home/jovyan/my_code/itext2kg/output_kg/AD/'+file, 'rb') as f:\n",
    "            kg = pickle.load(f)\n",
    "            print(f'-------------{file} strat merge------------')\n",
    "            constructed_kg = merge_kg(constructed_kg, kg)\n",
    "            i+=1\n",
    "            if i > 3:\n",
    "                break"
   ]
  },
  {
   "cell_type": "code",
   "execution_count": 3,
   "metadata": {},
   "outputs": [],
   "source": [
    "GraphIntegrator(uri=URI, username=USERNAME, password=PASSWORD).visualize_graph(knowledge_graph=constructed_kg)"
   ]
  }
 ],
 "metadata": {
  "kernelspec": {
   "display_name": "Python 3",
   "language": "python",
   "name": "python3"
  },
  "language_info": {
   "codemirror_mode": {
    "name": "ipython",
    "version": 3
   },
   "file_extension": ".py",
   "mimetype": "text/x-python",
   "name": "python",
   "nbconvert_exporter": "python",
   "pygments_lexer": "ipython3",
   "version": "3.10.16"
  }
 },
 "nbformat": 4,
 "nbformat_minor": 2
}
